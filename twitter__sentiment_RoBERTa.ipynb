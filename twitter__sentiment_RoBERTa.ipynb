{
  "nbformat": 4,
  "nbformat_minor": 0,
  "metadata": {
    "colab": {
      "name": "twitter _sentiment_RoBERTa.ipynb",
      "provenance": [],
      "collapsed_sections": [
        "lnlWeHCMCsPI"
      ],
      "toc_visible": true,
      "include_colab_link": true
    },
    "kernelspec": {
      "name": "python3",
      "display_name": "Python 3"
    },
    "accelerator": "GPU"
  },
  "cells": [
    {
      "cell_type": "markdown",
      "metadata": {
        "id": "view-in-github",
        "colab_type": "text"
      },
      "source": [
        "<a href=\"https://colab.research.google.com/github/maxmatical/TMLS_NLP/blob/master/twitter__sentiment_RoBERTa.ipynb\" target=\"_parent\"><img src=\"https://colab.research.google.com/assets/colab-badge.svg\" alt=\"Open In Colab\"/></a>"
      ]
    },
    {
      "cell_type": "code",
      "metadata": {
        "id": "QMgx99NYbpIV",
        "colab_type": "code",
        "colab": {}
      },
      "source": [
        "%%capture\n",
        "!pip install git+https://github.com/fastai/fastai.git\n",
        "!pip install pytorch-transformers"
      ],
      "execution_count": 0,
      "outputs": []
    },
    {
      "cell_type": "code",
      "metadata": {
        "id": "YnCNplZFCBp4",
        "colab_type": "code",
        "outputId": "2a6e56c4-47f4-4b42-dd97-0869d210a177",
        "colab": {
          "base_uri": "https://localhost:8080/",
          "height": 52
        }
      },
      "source": [
        "# Set up environment and download course-v3\n",
        "!curl -s https://course.fast.ai/setup/colab | bash"
      ],
      "execution_count": 2,
      "outputs": [
        {
          "output_type": "stream",
          "text": [
            "Updating fastai...\n",
            "Done.\n"
          ],
          "name": "stdout"
        }
      ]
    },
    {
      "cell_type": "code",
      "metadata": {
        "id": "qKq5YwwRCM5r",
        "colab_type": "code",
        "outputId": "774f379b-8a7f-4ad1-b21e-1cc91ffd5240",
        "colab": {
          "base_uri": "https://localhost:8080/",
          "height": 697
        }
      },
      "source": [
        "import numpy as np\n",
        "import pandas as pd\n",
        "from matplotlib import pyplot as plt\n",
        "\n",
        "from fastai import *\n",
        "from fastai.text import *\n",
        "from fastai.utils.show_install import *\n",
        "from fastai.callbacks import *\n",
        "from fastai.metrics import *\n",
        "from pytorch_transformers import RobertaTokenizer\n",
        "\n",
        "from pytorch_transformers import RobertaTokenizer\n",
        "roberta_tok = RobertaTokenizer.from_pretrained(\"roberta-base\")\n",
        "\n",
        "# import torch\n",
        "show_install()"
      ],
      "execution_count": 3,
      "outputs": [
        {
          "output_type": "stream",
          "text": [
            "\n",
            "\n",
            "```text\n",
            "=== Software === \n",
            "python        : 3.6.8\n",
            "fastai        : 1.0.60.dev0\n",
            "fastprogress  : 0.1.21\n",
            "torch         : 1.3.1+cu100\n",
            "nvidia driver : 418.67\n",
            "torch cuda    : 10.0.130 / is available\n",
            "torch cudnn   : 7603 / is enabled\n",
            "\n",
            "=== Hardware === \n",
            "nvidia gpus   : 1\n",
            "torch devices : 1\n",
            "  - gpu0      : 11441MB | Tesla K80\n",
            "\n",
            "=== Environment === \n",
            "platform      : Linux-4.14.137+-x86_64-with-Ubuntu-18.04-bionic\n",
            "distro        : #1 SMP Thu Aug 8 02:47:02 PDT 2019\n",
            "conda env     : Unknown\n",
            "python        : /usr/bin/python3\n",
            "sys.path      : \n",
            "/env/python\n",
            "/usr/lib/python36.zip\n",
            "/usr/lib/python3.6\n",
            "/usr/lib/python3.6/lib-dynload\n",
            "/usr/local/lib/python3.6/dist-packages\n",
            "/usr/lib/python3/dist-packages\n",
            "/usr/local/lib/python3.6/dist-packages/IPython/extensions\n",
            "/root/.ipython\n",
            "```\n",
            "\n",
            "Please make sure to include opening/closing ``` when you paste into forums/github to make the reports appear formatted as code sections.\n",
            "\n",
            "Optional package(s) to enhance the diagnostics can be installed with:\n",
            "pip install distro\n",
            "Once installed, re-run this utility to get the additional information\n"
          ],
          "name": "stdout"
        }
      ]
    },
    {
      "cell_type": "code",
      "metadata": {
        "id": "k2WuhH6hAHel",
        "colab_type": "code",
        "colab": {}
      },
      "source": [
        "# from fastai.callbacks import *\n",
        "# from fastai import *"
      ],
      "execution_count": 0,
      "outputs": []
    },
    {
      "cell_type": "code",
      "metadata": {
        "id": "uYv7PnR4FpLw",
        "colab_type": "code",
        "colab": {}
      },
      "source": [
        "# import fastai\n",
        "# fastai.device = torch.device('cpu')\n",
        "# fastai.device"
      ],
      "execution_count": 0,
      "outputs": []
    },
    {
      "cell_type": "markdown",
      "metadata": {
        "colab_type": "text",
        "id": "Q1PTqkp6BfNf"
      },
      "source": [
        "# EDA"
      ]
    },
    {
      "cell_type": "code",
      "metadata": {
        "colab_type": "code",
        "id": "FKhZANyfBfNZ",
        "colab": {}
      },
      "source": [
        "df = pd.read_csv('testset1.csv')"
      ],
      "execution_count": 0,
      "outputs": []
    },
    {
      "cell_type": "code",
      "metadata": {
        "colab_type": "code",
        "outputId": "09128637-37a9-41d7-ac0b-ab855022166a",
        "id": "uMy3VirjBfNS",
        "colab": {
          "base_uri": "https://localhost:8080/",
          "height": 224
        }
      },
      "source": [
        "print(len(df))\n",
        "\n",
        "df.head(5)"
      ],
      "execution_count": 5,
      "outputs": [
        {
          "output_type": "stream",
          "text": [
            "5585\n"
          ],
          "name": "stdout"
        },
        {
          "output_type": "execute_result",
          "data": {
            "text/html": [
              "<div>\n",
              "<style scoped>\n",
              "    .dataframe tbody tr th:only-of-type {\n",
              "        vertical-align: middle;\n",
              "    }\n",
              "\n",
              "    .dataframe tbody tr th {\n",
              "        vertical-align: top;\n",
              "    }\n",
              "\n",
              "    .dataframe thead th {\n",
              "        text-align: right;\n",
              "    }\n",
              "</style>\n",
              "<table border=\"1\" class=\"dataframe\">\n",
              "  <thead>\n",
              "    <tr style=\"text-align: right;\">\n",
              "      <th></th>\n",
              "      <th>id</th>\n",
              "      <th>name</th>\n",
              "      <th>date</th>\n",
              "      <th>text</th>\n",
              "      <th>location</th>\n",
              "      <th>sentiment</th>\n",
              "    </tr>\n",
              "  </thead>\n",
              "  <tbody>\n",
              "    <tr>\n",
              "      <th>0</th>\n",
              "      <td>1.130000e+18</td>\n",
              "      <td>Evolutionomics</td>\n",
              "      <td>Sun May 19 23:57:10 +0000 2019</td>\n",
              "      <td>By combining short positions on #Gold $GOLD $G...</td>\n",
              "      <td>NaN</td>\n",
              "      <td>bearish</td>\n",
              "    </tr>\n",
              "    <tr>\n",
              "      <th>1</th>\n",
              "      <td>1.130000e+18</td>\n",
              "      <td>macrohedged</td>\n",
              "      <td>Sun May 19 23:55:02 +0000 2019</td>\n",
              "      <td>Here are the #Volatility levels for the majors...</td>\n",
              "      <td>England</td>\n",
              "      <td>unrelated</td>\n",
              "    </tr>\n",
              "    <tr>\n",
              "      <th>2</th>\n",
              "      <td>1.130000e+18</td>\n",
              "      <td>Evolutionomics</td>\n",
              "      <td>Sun May 19 23:54:06 +0000 2019</td>\n",
              "      <td>We have little insight into what will happen t...</td>\n",
              "      <td>NaN</td>\n",
              "      <td>neutral</td>\n",
              "    </tr>\n",
              "    <tr>\n",
              "      <th>3</th>\n",
              "      <td>1.130000e+18</td>\n",
              "      <td>Evolutionomics</td>\n",
              "      <td>Sun May 19 23:50:59 +0000 2019</td>\n",
              "      <td>This brings us to #Gold miners. As a group, $G...</td>\n",
              "      <td>NaN</td>\n",
              "      <td>neutral</td>\n",
              "    </tr>\n",
              "    <tr>\n",
              "      <th>4</th>\n",
              "      <td>1.130000e+18</td>\n",
              "      <td>macrohedged</td>\n",
              "      <td>Sun May 19 23:50:04 +0000 2019</td>\n",
              "      <td>Good morning Asia, here are the benchmark futu...</td>\n",
              "      <td>England</td>\n",
              "      <td>unrelated</td>\n",
              "    </tr>\n",
              "  </tbody>\n",
              "</table>\n",
              "</div>"
            ],
            "text/plain": [
              "             id            name  ... location  sentiment\n",
              "0  1.130000e+18  Evolutionomics  ...      NaN    bearish\n",
              "1  1.130000e+18     macrohedged  ...  England  unrelated\n",
              "2  1.130000e+18  Evolutionomics  ...      NaN    neutral\n",
              "3  1.130000e+18  Evolutionomics  ...      NaN    neutral\n",
              "4  1.130000e+18     macrohedged  ...  England  unrelated\n",
              "\n",
              "[5 rows x 6 columns]"
            ]
          },
          "metadata": {
            "tags": []
          },
          "execution_count": 5
        }
      ]
    },
    {
      "cell_type": "code",
      "metadata": {
        "colab_type": "code",
        "outputId": "6efb086b-4246-45e8-dd07-487c70218e3b",
        "id": "StOE93sZBfNM",
        "colab": {
          "base_uri": "https://localhost:8080/",
          "height": 324
        }
      },
      "source": [
        "df['sentiment'].value_counts().plot(kind='bar')"
      ],
      "execution_count": 6,
      "outputs": [
        {
          "output_type": "execute_result",
          "data": {
            "text/plain": [
              "<matplotlib.axes._subplots.AxesSubplot at 0x7f94f72af1d0>"
            ]
          },
          "metadata": {
            "tags": []
          },
          "execution_count": 6
        },
        {
          "output_type": "display_data",
          "data": {
            "image/png": "[encoded data removed]",
            "text/plain": [
              "<Figure size 432x288 with 1 Axes>"
            ]
          },
          "metadata": {
            "tags": []
          }
        }
      ]
    },
    {
      "cell_type": "markdown",
      "metadata": {
        "colab_type": "text",
        "id": "9WoDXcN_BfNK"
      },
      "source": [
        "Unrelated and neutral sentiments dominate the data currently (although this might not be the case in the future with the full dataset). It might be better to use a stratified sampling technique for classification"
      ]
    },
    {
      "cell_type": "code",
      "metadata": {
        "colab_type": "code",
        "outputId": "06ba7440-0e6b-44cd-ac49-3c8c5009a5ea",
        "id": "uYQxJ-jfBfNE",
        "colab": {
          "base_uri": "https://localhost:8080/",
          "height": 52
        }
      },
      "source": [
        "from sklearn.model_selection import StratifiedShuffleSplit\n",
        "\n",
        "sss = StratifiedShuffleSplit(n_splits=5, test_size=0.2, random_state=0)\n",
        "sss.get_n_splits(df['text'], df['sentiment'])\n",
        "\n",
        "print(sss)\n",
        "\n"
      ],
      "execution_count": 7,
      "outputs": [
        {
          "output_type": "stream",
          "text": [
            "StratifiedShuffleSplit(n_splits=5, random_state=0, test_size=0.2,\n",
            "            train_size=None)\n"
          ],
          "name": "stdout"
        }
      ]
    },
    {
      "cell_type": "code",
      "metadata": {
        "colab_type": "code",
        "outputId": "969dca11-0c5c-4ddf-9bcb-1e50dcff7ab0",
        "id": "jht9mffiBfM-",
        "colab": {
          "base_uri": "https://localhost:8080/",
          "height": 34
        }
      },
      "source": [
        "train_idx, val_idx = next(sss.split(df['text'], df['sentiment']))\n",
        "\n",
        "print(len(train_idx), len(val_idx))"
      ],
      "execution_count": 8,
      "outputs": [
        {
          "output_type": "stream",
          "text": [
            "4468 1117\n"
          ],
          "name": "stdout"
        }
      ]
    },
    {
      "cell_type": "markdown",
      "metadata": {
        "colab_type": "text",
        "id": "KB8MkkEbBfM9"
      },
      "source": [
        "Verifying that the stratified split preseves the distribution of the labels"
      ]
    },
    {
      "cell_type": "code",
      "metadata": {
        "colab_type": "code",
        "id": "jhuNlUEKBfM3",
        "colab": {}
      },
      "source": [
        "df_train = df.iloc[train_idx, :]\n",
        "df_val = df.iloc[val_idx, :]"
      ],
      "execution_count": 0,
      "outputs": []
    },
    {
      "cell_type": "code",
      "metadata": {
        "colab_type": "code",
        "outputId": "4492f146-e69e-4460-da54-dbf2d31c5b7e",
        "id": "RkiLk2ggBfMv",
        "colab": {
          "base_uri": "https://localhost:8080/",
          "height": 321
        }
      },
      "source": [
        "df_train['sentiment'].value_counts().plot(kind='bar')"
      ],
      "execution_count": 10,
      "outputs": [
        {
          "output_type": "execute_result",
          "data": {
            "text/plain": [
              "<matplotlib.axes._subplots.AxesSubplot at 0x7f94f70dae10>"
            ]
          },
          "metadata": {
            "tags": []
          },
          "execution_count": 10
        },
        {
          "output_type": "display_data",
          "data": {
            "image/png": "[encoded data removed]",
            "text/plain": [
              "<Figure size 432x288 with 1 Axes>"
            ]
          },
          "metadata": {
            "tags": []
          }
        }
      ]
    },
    {
      "cell_type": "code",
      "metadata": {
        "colab_type": "code",
        "outputId": "d7a210bb-686c-4950-d9a8-7072dc2ce559",
        "id": "GkvIlQihBfMd",
        "colab": {
          "base_uri": "https://localhost:8080/",
          "height": 323
        }
      },
      "source": [
        "df_val['sentiment'].value_counts().plot(kind='bar')"
      ],
      "execution_count": 11,
      "outputs": [
        {
          "output_type": "execute_result",
          "data": {
            "text/plain": [
              "<matplotlib.axes._subplots.AxesSubplot at 0x7f94f42b7080>"
            ]
          },
          "metadata": {
            "tags": []
          },
          "execution_count": 11
        },
        {
          "output_type": "display_data",
          "data": {
            "image/png": "[encoded data removed]",
            "text/plain": [
              "<Figure size 432x288 with 1 Axes>"
            ]
          },
          "metadata": {
            "tags": []
          }
        }
      ]
    },
    {
      "cell_type": "markdown",
      "metadata": {
        "colab_type": "text",
        "id": "dEW7WWK7BfMI"
      },
      "source": [
        "Looks like the distribution of the labels in train and val are the same, so we can start modelling now"
      ]
    },
    {
      "cell_type": "markdown",
      "metadata": {
        "id": "lnlWeHCMCsPI",
        "colab_type": "text"
      },
      "source": [
        "# Handling Imbalanced Data: Oversampling"
      ]
    },
    {
      "cell_type": "code",
      "metadata": {
        "id": "LXjuHfxDD0fw",
        "colab_type": "code",
        "colab": {}
      },
      "source": [
        "df_class_bull = df_train[df_train['sentiment'] == 'bullish']\n",
        "df_class_bear = df_train[df_train['sentiment'] == 'bearish']\n",
        "df_class_neutral = df_train[df_train['sentiment'] == 'neutral']\n",
        "df_class_unrelated = df_train[df_train['sentiment'] == 'unrelated']\n",
        "\n"
      ],
      "execution_count": 0,
      "outputs": []
    },
    {
      "cell_type": "code",
      "metadata": {
        "id": "T5yI-FewEDT-",
        "colab_type": "code",
        "outputId": "c93e2719-4f87-431e-da1b-7e1136a3527d",
        "colab": {
          "base_uri": "https://localhost:8080/",
          "height": 36
        }
      },
      "source": [
        "print(len(df_class_unrelated))"
      ],
      "execution_count": 0,
      "outputs": [
        {
          "output_type": "stream",
          "text": [
            "2298\n"
          ],
          "name": "stdout"
        }
      ]
    },
    {
      "cell_type": "markdown",
      "metadata": {
        "id": "SbBCJgpZEk8O",
        "colab_type": "text"
      },
      "source": [
        "Want to oversample so that every class has 2298 counts"
      ]
    },
    {
      "cell_type": "code",
      "metadata": {
        "id": "FcT0MDt8EoSn",
        "colab_type": "code",
        "colab": {}
      },
      "source": [
        "df_class_bull_over = df_class_bull.sample(len(df_class_unrelated), replace = True)\n",
        "df_class_bear_over = df_class_bear.sample(len(df_class_unrelated), replace = True)\n",
        "df_class_neutral_over = df_class_neutral.sample(len(df_class_unrelated), replace = True)\n",
        "\n",
        "\n",
        "df_train_oversampled = pd.concat([df_class_bull_over, df_class_bear_over, df_class_neutral_over, df_class_unrelated], axis = 0)\n",
        "\n"
      ],
      "execution_count": 0,
      "outputs": []
    },
    {
      "cell_type": "markdown",
      "metadata": {
        "id": "kxoV7EH5FPIY",
        "colab_type": "text"
      },
      "source": [
        "Look at distribution of the labels in the oversampled data"
      ]
    },
    {
      "cell_type": "code",
      "metadata": {
        "id": "xA3owdg9FMWP",
        "colab_type": "code",
        "outputId": "520ea12b-6519-45af-9010-5eef60fe3439",
        "colab": {
          "base_uri": "https://localhost:8080/",
          "height": 326
        }
      },
      "source": [
        "df_train_oversampled['sentiment'].value_counts().plot(kind='bar')"
      ],
      "execution_count": 0,
      "outputs": [
        {
          "output_type": "execute_result",
          "data": {
            "text/plain": [
              "<matplotlib.axes._subplots.AxesSubplot at 0x7f2feae9b198>"
            ]
          },
          "metadata": {
            "tags": []
          },
          "execution_count": 15
        },
        {
          "output_type": "display_data",
          "data": {
            "image/png": "[encoded data removed]",
            "text/plain": [
              "<Figure size 432x288 with 1 Axes>"
            ]
          },
          "metadata": {
            "tags": []
          }
        }
      ]
    },
    {
      "cell_type": "markdown",
      "metadata": {
        "id": "Nq1WpX2hBtmH",
        "colab_type": "text"
      },
      "source": [
        "# RoBERTa"
      ]
    },
    {
      "cell_type": "markdown",
      "metadata": {
        "id": "w8f_ySJcIgCC",
        "colab_type": "text"
      },
      "source": [
        "## Tokenizing and setting up databunch"
      ]
    },
    {
      "cell_type": "code",
      "metadata": {
        "id": "7Cr62yZ3CzS-",
        "colab_type": "code",
        "colab": {}
      },
      "source": [
        "\n",
        "class FastAiRobertaTokenizer(BaseTokenizer):\n",
        "    def __init__(self, tokenizer: RobertaTokenizer, max_seq_len: int=128, **kwargs): \n",
        "        self._pretrained_tokenizer = tokenizer\n",
        "        self.max_seq_len = max_seq_len \n",
        "    def __call__(self, *args, **kwargs): \n",
        "        return self \n",
        "    def tokenizer(self, t:str) -> List[str]: \n",
        "        return [\"<s>\"] + self._pretrained_tokenizer.tokenize(t)[:self.max_seq_len - 2] + [\"</s>\"]"
      ],
      "execution_count": 0,
      "outputs": []
    },
    {
      "cell_type": "markdown",
      "metadata": {
        "id": "BOc4o7NnEoAa",
        "colab_type": "text"
      },
      "source": [
        "Creating tokenizer"
      ]
    },
    {
      "cell_type": "code",
      "metadata": {
        "id": "r_N18RBn-V_J",
        "colab_type": "code",
        "colab": {}
      },
      "source": [
        "# fastai_tokenizer = Tokenizer(tok_func=FastAiBertTokenizer(bert_tok, max_seq_len=256), pre_rules=[], post_rules=[])\n",
        "\n",
        "roberta_tok = RobertaTokenizer.from_pretrained(\"roberta-base\")\n",
        "\n",
        "fastai_tokenizer = Tokenizer(tok_func=FastAiRobertaTokenizer(roberta_tok, max_seq_len=256), \n",
        "                             pre_rules=[], post_rules=[])\n"
      ],
      "execution_count": 0,
      "outputs": []
    },
    {
      "cell_type": "markdown",
      "metadata": {
        "id": "vZ1ZHUtTD4Fj",
        "colab_type": "text"
      },
      "source": [
        "Loading vocab"
      ]
    },
    {
      "cell_type": "code",
      "metadata": {
        "id": "0sFEtuTE-UYr",
        "colab_type": "code",
        "colab": {}
      },
      "source": [
        "# fastai_bert_vocab = Vocab(list(bert_tok.vocab.keys()))\n",
        "\n",
        "path = Path()\n",
        "roberta_tok.save_vocabulary(path)\n",
        "with open('vocab.json', 'r') as f:\n",
        "    roberta_vocab_dict = json.load(f)\n",
        "    \n",
        "fastai_roberta_vocab = Vocab(list(roberta_vocab_dict.keys()))"
      ],
      "execution_count": 0,
      "outputs": []
    },
    {
      "cell_type": "markdown",
      "metadata": {
        "id": "I1q_NCbUE4rJ",
        "colab_type": "text"
      },
      "source": [
        "Setting up processors\n",
        "\n"
      ]
    },
    {
      "cell_type": "code",
      "metadata": {
        "id": "JjLr-vhVE9ka",
        "colab_type": "code",
        "colab": {}
      },
      "source": [
        "# Setting up pre-processors\n",
        "class RobertaTokenizeProcessor(TokenizeProcessor):\n",
        "    def __init__(self, tokenizer):\n",
        "         super().__init__(tokenizer=tokenizer, include_bos=False, include_eos=False)\n",
        "\n",
        "class RobertaNumericalizeProcessor(NumericalizeProcessor):\n",
        "    def __init__(self, *args, **kwargs):\n",
        "        super().__init__(*args, vocab=fastai_roberta_vocab, **kwargs)\n",
        "\n",
        "\n",
        "def get_roberta_processor(tokenizer:Tokenizer=None, vocab:Vocab=None):\n",
        "    \"\"\"\n",
        "    Constructing preprocessors for Roberta\n",
        "    We remove sos and eos tokens since we add that ourselves in the tokenizer.\n",
        "    We also use a custom vocabulary to match the numericalization with the original Roberta model.\n",
        "    \"\"\"\n",
        "    return [RobertaTokenizeProcessor(tokenizer=tokenizer), NumericalizeProcessor(vocab=vocab)]"
      ],
      "execution_count": 0,
      "outputs": []
    },
    {
      "cell_type": "markdown",
      "metadata": {
        "id": "mBv9ytclFJ6A",
        "colab_type": "text"
      },
      "source": [
        "## Creating a RoBERTa databunch"
      ]
    },
    {
      "cell_type": "code",
      "metadata": {
        "id": "i79Mp0uzFPEd",
        "colab_type": "code",
        "colab": {}
      },
      "source": [
        "# Creating a Roberta specific DataBunch class\n",
        "class RobertaDataBunch(TextDataBunch):\n",
        "    \"Create a `TextDataBunch` suitable for training Roberta\"\n",
        "    @classmethod\n",
        "    def create(cls, train_ds, valid_ds, test_ds=None, path:PathOrStr='.', bs:int=64, val_bs:int=None, pad_idx=1,\n",
        "               pad_first=True, device:torch.device=None, no_check:bool=False, backwards:bool=False, \n",
        "               dl_tfms:Optional[Collection[Callable]]=None, **dl_kwargs) -> DataBunch:\n",
        "        \"Function that transform the `datasets` in a `DataBunch` for classification. Passes `**dl_kwargs` on to `DataLoader()`\"\n",
        "        datasets = cls._init_ds(train_ds, valid_ds, test_ds)\n",
        "        val_bs = ifnone(val_bs, bs)\n",
        "        collate_fn = partial(pad_collate, pad_idx=pad_idx, pad_first=pad_first, backwards=backwards)\n",
        "        train_sampler = SortishSampler(datasets[0].x, key=lambda t: len(datasets[0][t][0].data), bs=bs)\n",
        "        train_dl = DataLoader(datasets[0], batch_size=bs, sampler=train_sampler, drop_last=True, **dl_kwargs)\n",
        "        dataloaders = [train_dl]\n",
        "        for ds in datasets[1:]:\n",
        "            lengths = [len(t) for t in ds.x.items]\n",
        "            sampler = SortSampler(ds.x, key=lengths.__getitem__)\n",
        "            dataloaders.append(DataLoader(ds, batch_size=val_bs, sampler=sampler, **dl_kwargs))\n",
        "        return cls(*dataloaders, path=path, device=device, dl_tfms=dl_tfms, collate_fn=collate_fn, no_check=no_check)\n",
        "\n",
        "\n",
        "class RobertaTextList(TextList):\n",
        "    _bunch = RobertaDataBunch\n",
        "    _label_cls = TextList\n",
        "\n",
        "\n",
        "# loading the tokenizer and vocab processors\n",
        "processor = get_roberta_processor(tokenizer=fastai_tokenizer, vocab=fastai_roberta_vocab)\n",
        "\n",
        "\n"
      ],
      "execution_count": 0,
      "outputs": []
    },
    {
      "cell_type": "code",
      "metadata": {
        "id": "8iW0c2Il-X4W",
        "colab_type": "code",
        "colab": {}
      },
      "source": [
        "bs = 16\n",
        "\n",
        "# databunch method\n",
        "\n",
        "# data_clas = RobertaDataBunch.from_df(\".\", df_train, df_val, \n",
        "#                   tokenizer=fastai_tokenizer,\n",
        "#                   vocab=fastai_roberta_vocab,\n",
        "#                   text_cols=\"text\",\n",
        "#                   label_cols='sentiment',\n",
        "#                   bs=bs,\n",
        "#                   collate_fn=partial(pad_collate, pad_first=False, pad_idx=0))\n",
        "\n",
        "# data_clas.save('data_clas')\n",
        "\n",
        "# creating datablock \n",
        "\n",
        "text_col = \"text\"\n",
        "label_col = \"sentiment\"\n",
        "data_clas = RobertaTextList.from_df(df, \".\", cols=text_col, processor=processor) \\\n",
        "    .split_by_idxs(train_idx, val_idx) \\\n",
        "    .label_from_df(cols=label_col, label_cls=CategoryList) \\\n",
        "    .databunch(bs = bs, pad_first = False, pad_idx = 0)\n"
      ],
      "execution_count": 0,
      "outputs": []
    },
    {
      "cell_type": "code",
      "metadata": {
        "id": "lRz82F8e-gXr",
        "colab_type": "code",
        "outputId": "b6324b90-f4a3-473f-e4c0-73d1b3dd3d08",
        "colab": {
          "base_uri": "https://localhost:8080/",
          "height": 293
        }
      },
      "source": [
        "data_clas.show_batch()"
      ],
      "execution_count": 59,
      "outputs": [
        {
          "output_type": "display_data",
          "data": {
            "text/html": [
              "<table border=\"1\" class=\"dataframe\">\n",
              "  <thead>\n",
              "    <tr style=\"text-align: right;\">\n",
              "      <th>text</th>\n",
              "      <th>target</th>\n",
              "    </tr>\n",
              "  </thead>\n",
              "  <tbody>\n",
              "    <tr>\n",
              "      <td>&lt;s&gt; Ġ ðĿ Ļ Ī ðĿ Ļ Ģ ðĿ Ļ Ī ðĿ Ļ Ĭ ðĿ Ļ į ðĿ Ļ Ħ ðĿ ĺ ¼ ðĿ Ļ ĩ Ġ ðĿ ĺ ¿ ðĿ ĺ ¼ ðĿ Ļ Ķ Ġ ðĿ ĺ ¿ ðĿ Ļ Ħ ðĿ Ļ İ ðĿ ĺ ¾ ðĿ Ļ Ĭ ðĿ Ļ Ĳ ðĿ Ļ ī ðĿ Ļ ı Ġ ðĿ Ļ Ĭ ðĿ Ļ ģ ðĿ Ļ</td>\n",
              "      <td>unrelated</td>\n",
              "    </tr>\n",
              "    <tr>\n",
              "      <td>&lt;s&gt; Ġ ðĿ Ĺ ļ ðĿ ĺ Ĥ ðĿ Ĺ ¿ ðĿ ĺ Ĥ ðĿ Ĺ Ľ ðĿ Ĺ ® ðĿ ĺ ĥ ðĿ Ĺ ² ðĿ Ĺ » Ġ ðĿ Ĺ ¡ ðĿ Ĺ ² ðĿ ĺ Ħ ðĿ ĺ Ģ ðĿ Ĺ ¹ ðĿ Ĺ ² ðĿ ĺ ģ ðĿ ĺ ģ ðĿ Ĺ ² ðĿ Ĺ ¿ Ġ# ðĿ Ł Ń ðĿ Ł ® ĠðŁ Ĺ ŀ</td>\n",
              "      <td>unrelated</td>\n",
              "    </tr>\n",
              "    <tr>\n",
              "      <td>&lt;s&gt; ĠDis rupted Ġof Ġthe Ġyear Ġaward Ġgoes Ġto Ġhol och ain . Ġ Ċ $ SP Y Ġ$ I WM Ġ$ Q Q Q Ġ$ X LI Ġ$ WH R Ġ$ MM M Ġ$ C AT Ġ$ BA Ġ$ TL T Ġ$ GL D Ġ$ CL _ F Ġ$ X LE Ġ$ X OM Ġ$ CV X Ġ$ XL F Ġ$ J PM Ġ$ GS Ġ$ X RT Ġ$</td>\n",
              "      <td>unrelated</td>\n",
              "    </tr>\n",
              "    <tr>\n",
              "      <td>&lt;s&gt; ĠðŁ Ĵ ¥ Week end ĠReview ĠVIDEO Ġ5 / 19 : Ġhttps :// t . co / N 5 M w ua U x A a Ċ Ċ $ SP Y Ġ$ I WM Ġ$ Q Q Q Ġ$ SM H Ġ$ IN TC Ġ$ NV DA Ġ$ XL N X Ġ$ L RC X Ġ$ X LI Ġ$ BA Ġ$ L MT Ġ$ DE Ġ$ M CD Ġ$</td>\n",
              "      <td>unrelated</td>\n",
              "    </tr>\n",
              "    <tr>\n",
              "      <td>&lt;s&gt; ĠMay ĠReturns : Ċ Bitcoin Ġ$ BTC : Ġ+ 51 % Ċ Vol atility Ġ$ V XX : Ġ+ 19 % Ċ Long ĠBonds Ġ$ TL T : Ġ+ 7 % Ċ Y en /$ : Ġ+ 3 % Ċ B onds Ġ$ AG G : Ġ+ 2 % Ċ Gold Ġ$ GL D : Ġ+ 2 % Ċ RE IT s Ġ$ V N Q : Ġ+ 0</td>\n",
              "      <td>neutral</td>\n",
              "    </tr>\n",
              "  </tbody>\n",
              "</table>"
            ],
            "text/plain": [
              "<IPython.core.display.HTML object>"
            ]
          },
          "metadata": {
            "tags": []
          }
        }
      ]
    },
    {
      "cell_type": "markdown",
      "metadata": {
        "id": "R3wnJTeZDNzL",
        "colab_type": "text"
      },
      "source": [
        "## Using RoBERTa\n",
        "\n",
        "Creating a custom model with custom number of heads for labels"
      ]
    },
    {
      "cell_type": "code",
      "metadata": {
        "id": "VBrRG4bABuOJ",
        "colab_type": "code",
        "colab": {}
      },
      "source": [
        "from pytorch_transformers import RobertaModel\n",
        "\n",
        "n_classes = 4\n",
        "d_linear = 768 # 1024 for roberta-large\n",
        "dropout_rate = 0.1\n",
        "class CustomRobertatModel(nn.Module):\n",
        "    def __init__(self,num_labels=n_classes, dropout_rate = dropout_rate, d_linear = d_linear):\n",
        "        super(CustomRobertatModel,self).__init__()\n",
        "        self.num_labels = num_labels\n",
        "        self.dropout = dropout_rate\n",
        "        self.d_linear = d_linear\n",
        "        self.roberta = RobertaModel.from_pretrained(\"roberta-base\") # or roberta-large\n",
        "        self.dropout = nn.Dropout(self.dropout)\n",
        "        self.classifier = nn.Linear(self.d_linear, self.num_labels)\n",
        "        \n",
        "    def forward(self, input_ids, token_type_ids=None, attention_mask=None, labels=None):\n",
        "        _ , pooled_output = self.roberta(input_ids, token_type_ids, attention_mask)\n",
        "        logits = self.classifier(pooled_output)        \n",
        "        return logits\n"
      ],
      "execution_count": 0,
      "outputs": []
    },
    {
      "cell_type": "code",
      "metadata": {
        "id": "C_BjNSYtDQNu",
        "colab_type": "code",
        "colab": {}
      },
      "source": [
        "model = CustomRobertatModel()"
      ],
      "execution_count": 0,
      "outputs": []
    },
    {
      "cell_type": "markdown",
      "metadata": {
        "id": "2obJo9MgTjGu",
        "colab_type": "text"
      },
      "source": [
        "### Classification"
      ]
    },
    {
      "cell_type": "markdown",
      "metadata": {
        "id": "jCcmYEihCcPf",
        "colab_type": "text"
      },
      "source": [
        "Not using mixed precision yet, do that after lr_find()"
      ]
    },
    {
      "cell_type": "code",
      "metadata": {
        "id": "urtYAR7d_K-r",
        "colab_type": "code",
        "colab": {}
      },
      "source": [
        "# learn.destroy()\n",
        "\n",
        "learn = Learner(data_clas,\n",
        "               model,\n",
        "               loss_func = FlattenedLoss(LabelSmoothingCrossEntropy, axis=-1),\n",
        "               metrics = [accuracy])\n"
      ],
      "execution_count": 0,
      "outputs": []
    },
    {
      "cell_type": "markdown",
      "metadata": {
        "id": "JDwVtfDRDi8J",
        "colab_type": "text"
      },
      "source": [
        "Splitting bert for discriminative learning"
      ]
    },
    {
      "cell_type": "code",
      "metadata": {
        "id": "hx8XSwUZ_op2",
        "colab_type": "code",
        "colab": {}
      },
      "source": [
        "# def bert_clas_split(self) -> List[nn.Module]:\n",
        "    \n",
        "#     bert = model.bert\n",
        "#     embedder = bert.embeddings\n",
        "#     pooler = bert.pooler\n",
        "#     encoder = bert.encoder\n",
        "#     classifier = [model.dropout, model.classifier]\n",
        "#     n = len(encoder.layer)//3\n",
        "#     print(n)\n",
        "#     groups = [[embedder], list(encoder.layer[:n]), list(encoder.layer[n+1:2*n]), list(encoder.layer[(2*n)+1:]), [pooler], classifier]\n",
        "#     return groups\n",
        "\n",
        "# x = bert_clas_split(model)"
      ],
      "execution_count": 0,
      "outputs": []
    },
    {
      "cell_type": "code",
      "metadata": {
        "id": "NStGu-43_9_4",
        "colab_type": "code",
        "colab": {}
      },
      "source": [
        "# learn.split([x[0], x[1], x[2], x[3], x[5]]); # should this be x[4]?"
      ],
      "execution_count": 0,
      "outputs": []
    },
    {
      "cell_type": "code",
      "metadata": {
        "id": "pOzW-rmNDSbM",
        "colab_type": "code",
        "outputId": "59d9545d-67a2-4022-eedb-b518f5e3742d",
        "colab": {
          "base_uri": "https://localhost:8080/",
          "height": 331
        }
      },
      "source": [
        "learn.lr_find()\n",
        "learn.recorder.plot(suggestion = True, skip_end=15)"
      ],
      "execution_count": 67,
      "outputs": [
        {
          "output_type": "display_data",
          "data": {
            "text/html": [
              ""
            ],
            "text/plain": [
              "<IPython.core.display.HTML object>"
            ]
          },
          "metadata": {
            "tags": []
          }
        },
        {
          "output_type": "stream",
          "text": [
            "LR Finder is complete, type {learner_name}.recorder.plot() to see the graph.\n",
            "Min numerical gradient: 3.02E-05\n",
            "Min loss divided by 10: 1.20E-04\n"
          ],
          "name": "stdout"
        },
        {
          "output_type": "display_data",
          "data": {
            "image/png": "[encoded data removed]",
            "text/plain": [
              "<Figure size 432x288 with 1 Axes>"
            ]
          },
          "metadata": {
            "tags": []
          }
        }
      ]
    },
    {
      "cell_type": "code",
      "metadata": {
        "id": "NwWZE2adDq6p",
        "colab_type": "code",
        "outputId": "e34427c0-c7e0-4211-becc-40a1f3848c36",
        "colab": {
          "base_uri": "https://localhost:8080/",
          "height": 555
        }
      },
      "source": [
        "learn.to_fp16()\n",
        "\n",
        "lr = 3e-5\n",
        "\n",
        "\"\"\"Training without adjusting the momentum\"\"\"\n",
        "learn.fit_one_cycle(5, \n",
        "                    lr, \n",
        "                    callbacks=[SaveModelCallback(learn, every='improvement', monitor='accuracy', \n",
        "                                                 name='classifier_stage1')])\n",
        "\"\"\"\n",
        "Clipping momentum\n",
        "\"\"\"\n",
        "\n",
        "\n",
        "# learn.fit_one_cycle(10, \n",
        "#                     lr, \n",
        "#                     moms=(0.8,0.7),\n",
        "#                     callbacks=[SaveModelCallback(learn, every='improvement', monitor='accuracy', \n",
        "#                                                  name='classifier_stage1')])\n",
        "\n",
        "learn.recorder.plot_losses()"
      ],
      "execution_count": 68,
      "outputs": [
        {
          "output_type": "display_data",
          "data": {
            "text/html": [
              "<table border=\"1\" class=\"dataframe\">\n",
              "  <thead>\n",
              "    <tr style=\"text-align: left;\">\n",
              "      <th>epoch</th>\n",
              "      <th>train_loss</th>\n",
              "      <th>valid_loss</th>\n",
              "      <th>accuracy</th>\n",
              "      <th>time</th>\n",
              "    </tr>\n",
              "  </thead>\n",
              "  <tbody>\n",
              "    <tr>\n",
              "      <td>0</td>\n",
              "      <td>0.944346</td>\n",
              "      <td>0.852450</td>\n",
              "      <td>0.706356</td>\n",
              "      <td>06:08</td>\n",
              "    </tr>\n",
              "    <tr>\n",
              "      <td>1</td>\n",
              "      <td>0.707666</td>\n",
              "      <td>0.648707</td>\n",
              "      <td>0.852283</td>\n",
              "      <td>06:12</td>\n",
              "    </tr>\n",
              "    <tr>\n",
              "      <td>2</td>\n",
              "      <td>0.578633</td>\n",
              "      <td>0.591602</td>\n",
              "      <td>0.884512</td>\n",
              "      <td>06:16</td>\n",
              "    </tr>\n",
              "    <tr>\n",
              "      <td>3</td>\n",
              "      <td>0.514039</td>\n",
              "      <td>0.556887</td>\n",
              "      <td>0.905103</td>\n",
              "      <td>06:17</td>\n",
              "    </tr>\n",
              "    <tr>\n",
              "      <td>4</td>\n",
              "      <td>0.446343</td>\n",
              "      <td>0.561370</td>\n",
              "      <td>0.908684</td>\n",
              "      <td>06:17</td>\n",
              "    </tr>\n",
              "  </tbody>\n",
              "</table>"
            ],
            "text/plain": [
              "<IPython.core.display.HTML object>"
            ]
          },
          "metadata": {
            "tags": []
          }
        },
        {
          "output_type": "stream",
          "text": [
            "Better model found at epoch 0 with accuracy value: 0.7063562870025635.\n",
            "Better model found at epoch 1 with accuracy value: 0.8522828817367554.\n",
            "Better model found at epoch 2 with accuracy value: 0.8845120668411255.\n",
            "Better model found at epoch 3 with accuracy value: 0.9051029682159424.\n",
            "Better model found at epoch 4 with accuracy value: 0.9086839556694031.\n"
          ],
          "name": "stdout"
        },
        {
          "output_type": "display_data",
          "data": {
            "image/png": "[encoded data removed]",
            "text/plain": [
              "<Figure size 432x288 with 1 Axes>"
            ]
          },
          "metadata": {
            "tags": []
          }
        }
      ]
    },
    {
      "cell_type": "markdown",
      "metadata": {
        "id": "ema-ZuVIjk1E",
        "colab_type": "text"
      },
      "source": [
        "Additional training by unfreezing the network and applying discriminative learning rates"
      ]
    },
    {
      "cell_type": "code",
      "metadata": {
        "id": "1LM4MfBPOB5R",
        "colab_type": "code",
        "outputId": "04eb2c8d-f687-4984-a5fe-15ed3b46b2a9",
        "colab": {
          "base_uri": "https://localhost:8080/",
          "height": 503
        }
      },
      "source": [
        "learn.load('classifier_stage1');\n",
        "learn.unfreeze()\n",
        "\n",
        "\n",
        "\"\"\"Training without adjusting the momentum\"\"\"\n",
        "learn.fit_one_cycle(5, \n",
        "                    lr/10, \n",
        "                    callbacks=[SaveModelCallback(learn, every='improvement', monitor='accuracy', \n",
        "                                                 name='classifier_final')])\n",
        "\"\"\"\n",
        "Clipping momentum\n",
        "\"\"\"\n",
        "# learn.fit_one_cycle(10, \n",
        "#                    slice(lr/(2.6**4),lr), \n",
        "#                    moms=(0.8,0.7),\n",
        "#                    callbacks=[SaveModelCallback(learn, every='improvement', monitor='accuracy', \n",
        "#                                                  name='classifier_stage2')])\n",
        "\n",
        "learn.recorder.plot_losses()"
      ],
      "execution_count": 69,
      "outputs": [
        {
          "output_type": "display_data",
          "data": {
            "text/html": [
              "<table border=\"1\" class=\"dataframe\">\n",
              "  <thead>\n",
              "    <tr style=\"text-align: left;\">\n",
              "      <th>epoch</th>\n",
              "      <th>train_loss</th>\n",
              "      <th>valid_loss</th>\n",
              "      <th>accuracy</th>\n",
              "      <th>time</th>\n",
              "    </tr>\n",
              "  </thead>\n",
              "  <tbody>\n",
              "    <tr>\n",
              "      <td>0</td>\n",
              "      <td>0.432144</td>\n",
              "      <td>0.566498</td>\n",
              "      <td>0.908684</td>\n",
              "      <td>05:46</td>\n",
              "    </tr>\n",
              "    <tr>\n",
              "      <td>1</td>\n",
              "      <td>0.456740</td>\n",
              "      <td>0.561692</td>\n",
              "      <td>0.909579</td>\n",
              "      <td>05:45</td>\n",
              "    </tr>\n",
              "    <tr>\n",
              "      <td>2</td>\n",
              "      <td>0.436414</td>\n",
              "      <td>0.564604</td>\n",
              "      <td>0.908684</td>\n",
              "      <td>06:16</td>\n",
              "    </tr>\n",
              "    <tr>\n",
              "      <td>3</td>\n",
              "      <td>0.421538</td>\n",
              "      <td>0.566846</td>\n",
              "      <td>0.907789</td>\n",
              "      <td>05:46</td>\n",
              "    </tr>\n",
              "    <tr>\n",
              "      <td>4</td>\n",
              "      <td>0.419100</td>\n",
              "      <td>0.568426</td>\n",
              "      <td>0.907789</td>\n",
              "      <td>06:22</td>\n",
              "    </tr>\n",
              "  </tbody>\n",
              "</table>"
            ],
            "text/plain": [
              "<IPython.core.display.HTML object>"
            ]
          },
          "metadata": {
            "tags": []
          }
        },
        {
          "output_type": "stream",
          "text": [
            "Better model found at epoch 0 with accuracy value: 0.9086839556694031.\n",
            "Better model found at epoch 1 with accuracy value: 0.9095792174339294.\n"
          ],
          "name": "stdout"
        },
        {
          "output_type": "display_data",
          "data": {
            "image/png": "[encoded data removed]",
            "text/plain": [
              "<Figure size 432x288 with 1 Axes>"
            ]
          },
          "metadata": {
            "tags": []
          }
        }
      ]
    },
    {
      "cell_type": "markdown",
      "metadata": {
        "id": "JwOMveMMrbqS",
        "colab_type": "text"
      },
      "source": [
        "# Model Inference"
      ]
    },
    {
      "cell_type": "code",
      "metadata": {
        "id": "rWkj_kRYremX",
        "colab_type": "code",
        "colab": {}
      },
      "source": [
        "learn = Learner(data_clas, \n",
        "                model)\n",
        "\n",
        "# learn = Learner(data_clas,\n",
        "#                model,\n",
        "#                loss_func = FlattenedLoss(LabelSmoothingCrossEntropy, axis=-1),\n",
        "#                metrics = [accuracy])\n",
        "\n",
        "\n",
        "\n",
        "learn.load('classifier_final', with_opt = False); # makesure learner  is a text_classifier_learner\n",
        "\n",
        "learn.to_fp32() # bring back to fp32\n",
        "\n",
        "\n",
        "\n",
        "learn.export(file = 'export_clas.pkl')\n",
        "\n"
      ],
      "execution_count": 0,
      "outputs": []
    },
    {
      "cell_type": "code",
      "metadata": {
        "id": "lCzZE3Qor5Zj",
        "colab_type": "code",
        "outputId": "165560da-6e97-49e1-8b80-b06c02f68c08",
        "colab": {
          "base_uri": "https://localhost:8080/",
          "height": 52
        }
      },
      "source": [
        "%%time\n",
        "phrase = \"$GLD will retain value over the next quarter\"\n",
        "learn.predict(phrase)\n"
      ],
      "execution_count": 76,
      "outputs": [
        {
          "output_type": "stream",
          "text": [
            "CPU times: user 39.7 ms, sys: 1.86 ms, total: 41.6 ms\n",
            "Wall time: 47 ms\n"
          ],
          "name": "stdout"
        }
      ]
    },
    {
      "cell_type": "markdown",
      "metadata": {
        "id": "hxfceH0moiWG",
        "colab_type": "text"
      },
      "source": [
        "## Making batch predictions on new dataset\n",
        "\n",
        "test_df can be loaded in directly from a csv file i.e. 1 days worth of collected tweets"
      ]
    },
    {
      "cell_type": "code",
      "metadata": {
        "id": "ECk16RpRokCl",
        "colab_type": "code",
        "colab": {}
      },
      "source": [
        "# test_df = pd.read_csv('testset1.csv')\n",
        "\n",
        "test_df = df_val\n",
        "learn.data.add_test(test_df['text'])\n",
        "preds, y, losses = learn.get_preds(ds_type=DatasetType.Test, with_loss = True)\n",
        "# preds, y, losses = learn.get_preds(ds_type=DatasetType.Test, ordered=True, with_loss = True)\n"
      ],
      "execution_count": 0,
      "outputs": []
    },
    {
      "cell_type": "code",
      "metadata": {
        "id": "YdGaxrkzvX2F",
        "colab_type": "code",
        "outputId": "ad846516-0081-4bcb-a273-9de1b850612c",
        "colab": {
          "base_uri": "https://localhost:8080/",
          "height": 34
        }
      },
      "source": [
        "\n",
        "y_pred = torch.argmax(preds, dim= 1).numpy()\n",
        "\n",
        "\n",
        "print(y_pred, len(y_pred))\n",
        "\n",
        "pred_labels = []\n",
        "for pred in y_pred:\n",
        "    if pred == 0: \n",
        "        pred_labels.append('bearish')\n",
        "    elif pred == 1:\n",
        "        pred_labels.append('bullish')    \n",
        "    elif pred == 2:\n",
        "        pred_labels.append('neutral')\n",
        "    elif pred == 3:\n",
        "        pred_labels.append('unrelated')"
      ],
      "execution_count": 77,
      "outputs": [
        {
          "output_type": "stream",
          "text": [
            "[2 3 3 3 ... 3 3 2 3] 1117\n"
          ],
          "name": "stdout"
        }
      ]
    },
    {
      "cell_type": "markdown",
      "metadata": {
        "id": "9JswniVzw7Mi",
        "colab_type": "text"
      },
      "source": [
        "## Visualizing predictions\n",
        "\n",
        "visualize the count of predictions\n",
        "\n",
        "1 = Bearish\n",
        "2 = Bullish\n",
        "3 = Neutral\n",
        "4 = Unrelated"
      ]
    },
    {
      "cell_type": "code",
      "metadata": {
        "id": "gTeMOlI5vUln",
        "colab_type": "code",
        "outputId": "3b2595bb-ccaa-41f1-d032-64bbd107d84f",
        "colab": {
          "base_uri": "https://localhost:8080/",
          "height": 317
        }
      },
      "source": [
        "plt.hist(pred_labels)\n",
        "\n"
      ],
      "execution_count": 78,
      "outputs": [
        {
          "output_type": "execute_result",
          "data": {
            "text/plain": [
              "(array([310.,   0.,   0., 541.,   0.,   0.,  84.,   0.,   0., 182.]),\n",
              " array([0. , 0.3, 0.6, 0.9, 1.2, 1.5, 1.8, 2.1, 2.4, 2.7, 3. ]),\n",
              " <a list of 10 Patch objects>)"
            ]
          },
          "metadata": {
            "tags": []
          },
          "execution_count": 78
        },
        {
          "output_type": "display_data",
          "data": {
            "image/png": "[encoded data removed]",
            "text/plain": [
              "<Figure size 432x288 with 1 Axes>"
            ]
          },
          "metadata": {
            "tags": []
          }
        }
      ]
    },
    {
      "cell_type": "markdown",
      "metadata": {
        "id": "sHwS8YclxFn4",
        "colab_type": "text"
      },
      "source": [
        "The distribution of the predictions seems to be inline with the distribution of the val labels"
      ]
    },
    {
      "cell_type": "markdown",
      "metadata": {
        "id": "bHMHurnLzN88",
        "colab_type": "text"
      },
      "source": [
        "View a confusion matrix of the predictions\n",
        "\n",
        "y-axis is the true labels"
      ]
    },
    {
      "cell_type": "code",
      "metadata": {
        "id": "iZGOBv7Jwo89",
        "colab_type": "code",
        "outputId": "ca073b60-e5e5-436f-c80a-54096abb1cbc",
        "colab": {
          "base_uri": "https://localhost:8080/",
          "height": 315
        }
      },
      "source": [
        "from sklearn.metrics import confusion_matrix\n",
        "from sklearn.utils.multiclass import unique_labels\n",
        "import seaborn as sn\n",
        "cm = confusion_matrix(df_val['sentiment'], pred_labels)\n",
        "\n",
        "df_cm = pd.DataFrame(cm, index = ['bearish', 'bullsih', 'neutral', 'unrelated'],\n",
        "                    columns = ['bearish', 'bullsih', 'neutral', 'unrelated'])\n",
        "\n",
        "sn.heatmap(df_cm, annot=True)"
      ],
      "execution_count": 79,
      "outputs": [
        {
          "output_type": "execute_result",
          "data": {
            "text/plain": [
              "<matplotlib.axes._subplots.AxesSubplot at 0x7f94ed392710>"
            ]
          },
          "metadata": {
            "tags": []
          },
          "execution_count": 79
        },
        {
          "output_type": "display_data",
          "data": {
            "image/png": "[encoded data removed]",
            "text/plain": [
              "<Figure size 432x288 with 2 Axes>"
            ]
          },
          "metadata": {
            "tags": []
          }
        }
      ]
    },
    {
      "cell_type": "markdown",
      "metadata": {
        "id": "k8YzBtFVieBD",
        "colab_type": "text"
      },
      "source": [
        "Observations\n",
        "\n",
        "RoBERTa takes a bit more work to tune/train, but seems to outperform ULM-FiT and BERT"
      ]
    },
    {
      "cell_type": "code",
      "metadata": {
        "id": "LW4ffxmUtR72",
        "colab_type": "code",
        "colab": {}
      },
      "source": [
        ""
      ],
      "execution_count": 0,
      "outputs": []
    }
  ]
}