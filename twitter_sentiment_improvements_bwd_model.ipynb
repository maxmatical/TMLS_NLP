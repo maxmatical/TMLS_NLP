{
  "nbformat": 4,
  "nbformat_minor": 0,
  "metadata": {
    "colab": {
      "name": "twitter_sentiment_improvements_bwd_model.ipynb",
      "provenance": [],
      "collapsed_sections": [],
      "toc_visible": true,
      "include_colab_link": true
    },
    "kernelspec": {
      "name": "python3",
      "display_name": "Python 3"
    },
    "accelerator": "GPU"
  },
  "cells": [
    {
      "cell_type": "markdown",
      "metadata": {
        "id": "view-in-github",
        "colab_type": "text"
      },
      "source": [
        "<a href=\"https://colab.research.google.com/github/maxmatical/TMLS_NLP/blob/master/twitter_sentiment_improvements_bwd_model.ipynb\" target=\"_parent\"><img src=\"https://colab.research.google.com/assets/colab-badge.svg\" alt=\"Open In Colab\"/></a>"
      ]
    },
    {
      "cell_type": "code",
      "metadata": {
        "id": "QMgx99NYbpIV",
        "colab_type": "code",
        "colab": {}
      },
      "source": [
        "%%capture\n",
        "!pip install git+https://github.com/fastai/fastai.git"
      ],
      "execution_count": 0,
      "outputs": []
    },
    {
      "cell_type": "code",
      "metadata": {
        "id": "YnCNplZFCBp4",
        "colab_type": "code",
        "outputId": "b22a49a9-35ce-4d78-d636-b98ff48c449c",
        "colab": {
          "base_uri": "https://localhost:8080/",
          "height": 52
        }
      },
      "source": [
        "# Set up environment and download course-v3\n",
        "!curl -s https://course.fast.ai/setup/colab | bash"
      ],
      "execution_count": 2,
      "outputs": [
        {
          "output_type": "stream",
          "text": [
            "Updating fastai...\n",
            "Done.\n"
          ],
          "name": "stdout"
        }
      ]
    },
    {
      "cell_type": "code",
      "metadata": {
        "id": "qKq5YwwRCM5r",
        "colab_type": "code",
        "outputId": "19dcbbb4-9463-4cea-d23c-d94068bf48b4",
        "colab": {
          "base_uri": "https://localhost:8080/",
          "height": 697
        }
      },
      "source": [
        "import numpy as np\n",
        "import pandas as pd\n",
        "from matplotlib import pyplot as plt\n",
        "\n",
        "from fastai import *\n",
        "from fastai.text import *\n",
        "from fastai.utils.show_install import *\n",
        "from fastai.callbacks import *\n",
        "show_install()"
      ],
      "execution_count": 3,
      "outputs": [
        {
          "output_type": "stream",
          "text": [
            "\n",
            "\n",
            "```text\n",
            "=== Software === \n",
            "python        : 3.6.8\n",
            "fastai        : 1.0.60.dev0\n",
            "fastprogress  : 0.1.21\n",
            "torch         : 1.3.0+cu100\n",
            "nvidia driver : 418.67\n",
            "torch cuda    : 10.0.130 / is available\n",
            "torch cudnn   : 7603 / is enabled\n",
            "\n",
            "=== Hardware === \n",
            "nvidia gpus   : 1\n",
            "torch devices : 1\n",
            "  - gpu0      : 11441MB | Tesla K80\n",
            "\n",
            "=== Environment === \n",
            "platform      : Linux-4.14.137+-x86_64-with-Ubuntu-18.04-bionic\n",
            "distro        : #1 SMP Thu Aug 8 02:47:02 PDT 2019\n",
            "conda env     : Unknown\n",
            "python        : /usr/bin/python3\n",
            "sys.path      : \n",
            "/env/python\n",
            "/usr/lib/python36.zip\n",
            "/usr/lib/python3.6\n",
            "/usr/lib/python3.6/lib-dynload\n",
            "/usr/local/lib/python3.6/dist-packages\n",
            "/usr/lib/python3/dist-packages\n",
            "/usr/local/lib/python3.6/dist-packages/IPython/extensions\n",
            "/root/.ipython\n",
            "```\n",
            "\n",
            "Please make sure to include opening/closing ``` when you paste into forums/github to make the reports appear formatted as code sections.\n",
            "\n",
            "Optional package(s) to enhance the diagnostics can be installed with:\n",
            "pip install distro\n",
            "Once installed, re-run this utility to get the additional information\n"
          ],
          "name": "stdout"
        }
      ]
    },
    {
      "cell_type": "markdown",
      "metadata": {
        "id": "jYky0SyQCZPU",
        "colab_type": "text"
      },
      "source": [
        "# EDA"
      ]
    },
    {
      "cell_type": "code",
      "metadata": {
        "id": "g8bWDpNtCQNY",
        "colab_type": "code",
        "colab": {}
      },
      "source": [
        "df = pd.read_csv('testset1.csv')"
      ],
      "execution_count": 0,
      "outputs": []
    },
    {
      "cell_type": "code",
      "metadata": {
        "id": "RLdscs8CCd--",
        "colab_type": "code",
        "outputId": "42060c4d-fa53-4721-ff5c-144b3bd5d561",
        "colab": {
          "base_uri": "https://localhost:8080/",
          "height": 224
        }
      },
      "source": [
        "print(len(df))\n",
        "\n",
        "df.head(5)"
      ],
      "execution_count": 5,
      "outputs": [
        {
          "output_type": "stream",
          "text": [
            "5585\n"
          ],
          "name": "stdout"
        },
        {
          "output_type": "execute_result",
          "data": {
            "text/html": [
              "<div>\n",
              "<style scoped>\n",
              "    .dataframe tbody tr th:only-of-type {\n",
              "        vertical-align: middle;\n",
              "    }\n",
              "\n",
              "    .dataframe tbody tr th {\n",
              "        vertical-align: top;\n",
              "    }\n",
              "\n",
              "    .dataframe thead th {\n",
              "        text-align: right;\n",
              "    }\n",
              "</style>\n",
              "<table border=\"1\" class=\"dataframe\">\n",
              "  <thead>\n",
              "    <tr style=\"text-align: right;\">\n",
              "      <th></th>\n",
              "      <th>id</th>\n",
              "      <th>name</th>\n",
              "      <th>date</th>\n",
              "      <th>text</th>\n",
              "      <th>location</th>\n",
              "      <th>sentiment</th>\n",
              "    </tr>\n",
              "  </thead>\n",
              "  <tbody>\n",
              "    <tr>\n",
              "      <th>0</th>\n",
              "      <td>1.130000e+18</td>\n",
              "      <td>Evolutionomics</td>\n",
              "      <td>Sun May 19 23:57:10 +0000 2019</td>\n",
              "      <td>By combining short positions on #Gold $GOLD $G...</td>\n",
              "      <td>NaN</td>\n",
              "      <td>bearish</td>\n",
              "    </tr>\n",
              "    <tr>\n",
              "      <th>1</th>\n",
              "      <td>1.130000e+18</td>\n",
              "      <td>macrohedged</td>\n",
              "      <td>Sun May 19 23:55:02 +0000 2019</td>\n",
              "      <td>Here are the #Volatility levels for the majors...</td>\n",
              "      <td>England</td>\n",
              "      <td>unrelated</td>\n",
              "    </tr>\n",
              "    <tr>\n",
              "      <th>2</th>\n",
              "      <td>1.130000e+18</td>\n",
              "      <td>Evolutionomics</td>\n",
              "      <td>Sun May 19 23:54:06 +0000 2019</td>\n",
              "      <td>We have little insight into what will happen t...</td>\n",
              "      <td>NaN</td>\n",
              "      <td>neutral</td>\n",
              "    </tr>\n",
              "    <tr>\n",
              "      <th>3</th>\n",
              "      <td>1.130000e+18</td>\n",
              "      <td>Evolutionomics</td>\n",
              "      <td>Sun May 19 23:50:59 +0000 2019</td>\n",
              "      <td>This brings us to #Gold miners. As a group, $G...</td>\n",
              "      <td>NaN</td>\n",
              "      <td>neutral</td>\n",
              "    </tr>\n",
              "    <tr>\n",
              "      <th>4</th>\n",
              "      <td>1.130000e+18</td>\n",
              "      <td>macrohedged</td>\n",
              "      <td>Sun May 19 23:50:04 +0000 2019</td>\n",
              "      <td>Good morning Asia, here are the benchmark futu...</td>\n",
              "      <td>England</td>\n",
              "      <td>unrelated</td>\n",
              "    </tr>\n",
              "  </tbody>\n",
              "</table>\n",
              "</div>"
            ],
            "text/plain": [
              "             id            name  ... location  sentiment\n",
              "0  1.130000e+18  Evolutionomics  ...      NaN    bearish\n",
              "1  1.130000e+18     macrohedged  ...  England  unrelated\n",
              "2  1.130000e+18  Evolutionomics  ...      NaN    neutral\n",
              "3  1.130000e+18  Evolutionomics  ...      NaN    neutral\n",
              "4  1.130000e+18     macrohedged  ...  England  unrelated\n",
              "\n",
              "[5 rows x 6 columns]"
            ]
          },
          "metadata": {
            "tags": []
          },
          "execution_count": 5
        }
      ]
    },
    {
      "cell_type": "code",
      "metadata": {
        "id": "liW3zbbzCktu",
        "colab_type": "code",
        "outputId": "d2e55a1a-0d27-42d0-ac05-9e42208e861f",
        "colab": {
          "base_uri": "https://localhost:8080/",
          "height": 324
        }
      },
      "source": [
        "df['sentiment'].value_counts().plot(kind='bar')"
      ],
      "execution_count": 6,
      "outputs": [
        {
          "output_type": "execute_result",
          "data": {
            "text/plain": [
              "<matplotlib.axes._subplots.AxesSubplot at 0x7f41443a86a0>"
            ]
          },
          "metadata": {
            "tags": []
          },
          "execution_count": 6
        },
        {
          "output_type": "display_data",
          "data": {
            "image/png": "[encoded data removed]",
            "text/plain": [
              "<Figure size 432x288 with 1 Axes>"
            ]
          },
          "metadata": {
            "tags": []
          }
        }
      ]
    },
    {
      "cell_type": "markdown",
      "metadata": {
        "id": "XscVftJYDTQt",
        "colab_type": "text"
      },
      "source": [
        "Unrelated and neutral sentiments dominate the data currently (although this might not be the case in the future with the full dataset). It might be better to use a stratified sampling technique for classification"
      ]
    },
    {
      "cell_type": "code",
      "metadata": {
        "id": "x-GUhvxkELES",
        "colab_type": "code",
        "outputId": "87376ba0-53fc-4f99-fa2c-f3f223d76eb6",
        "colab": {
          "base_uri": "https://localhost:8080/",
          "height": 52
        }
      },
      "source": [
        "from sklearn.model_selection import StratifiedShuffleSplit\n",
        "\n",
        "sss = StratifiedShuffleSplit(n_splits=5, test_size=0.2, random_state=0)\n",
        "sss.get_n_splits(df['text'], df['sentiment'])\n",
        "\n",
        "print(sss)\n",
        "\n"
      ],
      "execution_count": 7,
      "outputs": [
        {
          "output_type": "stream",
          "text": [
            "StratifiedShuffleSplit(n_splits=5, random_state=0, test_size=0.2,\n",
            "            train_size=None)\n"
          ],
          "name": "stdout"
        }
      ]
    },
    {
      "cell_type": "code",
      "metadata": {
        "id": "THDVEb8tFFGN",
        "colab_type": "code",
        "outputId": "4dfa26db-1e66-4357-adb1-8fac4c0fd2ab",
        "colab": {
          "base_uri": "https://localhost:8080/",
          "height": 34
        }
      },
      "source": [
        "train_idx, val_idx = next(sss.split(df['text'], df['sentiment']))\n",
        "\n",
        "print(len(train_idx), len(val_idx))"
      ],
      "execution_count": 8,
      "outputs": [
        {
          "output_type": "stream",
          "text": [
            "4468 1117\n"
          ],
          "name": "stdout"
        }
      ]
    },
    {
      "cell_type": "markdown",
      "metadata": {
        "id": "YnI14U3zKskb",
        "colab_type": "text"
      },
      "source": [
        "Verifying that the stratified split preseves the distribution of the labels"
      ]
    },
    {
      "cell_type": "code",
      "metadata": {
        "id": "QPqoB9P-JzhJ",
        "colab_type": "code",
        "colab": {}
      },
      "source": [
        "df_train = df.iloc[train_idx, :]\n",
        "df_val = df.iloc[val_idx, :]"
      ],
      "execution_count": 0,
      "outputs": []
    },
    {
      "cell_type": "code",
      "metadata": {
        "id": "loavhYCJKdmz",
        "colab_type": "code",
        "outputId": "9f0ad74f-12bf-45da-d800-5ef01ee12791",
        "colab": {
          "base_uri": "https://localhost:8080/",
          "height": 321
        }
      },
      "source": [
        "df_train['sentiment'].value_counts().plot(kind='bar')"
      ],
      "execution_count": 10,
      "outputs": [
        {
          "output_type": "execute_result",
          "data": {
            "text/plain": [
              "<matplotlib.axes._subplots.AxesSubplot at 0x7f4141b32fd0>"
            ]
          },
          "metadata": {
            "tags": []
          },
          "execution_count": 10
        },
        {
          "output_type": "display_data",
          "data": {
            "image/png": "[encoded data removed]",
            "text/plain": [
              "<Figure size 432x288 with 1 Axes>"
            ]
          },
          "metadata": {
            "tags": []
          }
        }
      ]
    },
    {
      "cell_type": "code",
      "metadata": {
        "id": "MaoWfiBQKQG2",
        "colab_type": "code",
        "outputId": "2930b5a8-63a6-493e-fe45-494f004eb38a",
        "colab": {
          "base_uri": "https://localhost:8080/",
          "height": 323
        }
      },
      "source": [
        "df_val['sentiment'].value_counts().plot(kind='bar')"
      ],
      "execution_count": 11,
      "outputs": [
        {
          "output_type": "execute_result",
          "data": {
            "text/plain": [
              "<matplotlib.axes._subplots.AxesSubplot at 0x7f41418e8d30>"
            ]
          },
          "metadata": {
            "tags": []
          },
          "execution_count": 11
        },
        {
          "output_type": "display_data",
          "data": {
            "image/png": "[encoded data removed]",
            "text/plain": [
              "<Figure size 432x288 with 1 Axes>"
            ]
          },
          "metadata": {
            "tags": []
          }
        }
      ]
    },
    {
      "cell_type": "markdown",
      "metadata": {
        "id": "mrWWL-PxKiZt",
        "colab_type": "text"
      },
      "source": [
        "Looks like the distribution of the labels in train and val are the same, so we can start modelling now"
      ]
    },
    {
      "cell_type": "markdown",
      "metadata": {
        "id": "lnlWeHCMCsPI",
        "colab_type": "text"
      },
      "source": [
        "# Handling Imbalanced Data: Oversampling"
      ]
    },
    {
      "cell_type": "code",
      "metadata": {
        "id": "LXjuHfxDD0fw",
        "colab_type": "code",
        "colab": {}
      },
      "source": [
        "df_class_bull = df_train[df_train['sentiment'] == 'bullish']\n",
        "df_class_bear = df_train[df_train['sentiment'] == 'bearish']\n",
        "df_class_neutral = df_train[df_train['sentiment'] == 'neutral']\n",
        "df_class_unrelated = df_train[df_train['sentiment'] == 'unrelated']\n",
        "\n"
      ],
      "execution_count": 0,
      "outputs": []
    },
    {
      "cell_type": "code",
      "metadata": {
        "id": "T5yI-FewEDT-",
        "colab_type": "code",
        "outputId": "c1e29242-8f4b-413f-c334-aaf5ed9e788d",
        "colab": {
          "base_uri": "https://localhost:8080/",
          "height": 34
        }
      },
      "source": [
        "print(len(df_class_unrelated))"
      ],
      "execution_count": 13,
      "outputs": [
        {
          "output_type": "stream",
          "text": [
            "2298\n"
          ],
          "name": "stdout"
        }
      ]
    },
    {
      "cell_type": "markdown",
      "metadata": {
        "id": "SbBCJgpZEk8O",
        "colab_type": "text"
      },
      "source": [
        "Want to oversample so that every class has 2298 counts"
      ]
    },
    {
      "cell_type": "code",
      "metadata": {
        "id": "FcT0MDt8EoSn",
        "colab_type": "code",
        "colab": {}
      },
      "source": [
        "df_class_bull_over = df_class_bull.sample(len(df_class_unrelated), replace = True)\n",
        "df_class_bear_over = df_class_bear.sample(len(df_class_unrelated), replace = True)\n",
        "df_class_neutral_over = df_class_neutral.sample(len(df_class_unrelated), replace = True)\n",
        "\n",
        "\n",
        "df_train_oversampled = pd.concat([df_class_bull_over, df_class_bear_over, df_class_neutral_over, df_class_unrelated], axis = 0)\n",
        "\n"
      ],
      "execution_count": 0,
      "outputs": []
    },
    {
      "cell_type": "markdown",
      "metadata": {
        "id": "kxoV7EH5FPIY",
        "colab_type": "text"
      },
      "source": [
        "Look at distribution of the labels in the oversampled data"
      ]
    },
    {
      "cell_type": "code",
      "metadata": {
        "id": "xA3owdg9FMWP",
        "colab_type": "code",
        "outputId": "333dba30-f5bd-42c4-bed7-5ce517dd071f",
        "colab": {
          "base_uri": "https://localhost:8080/",
          "height": 321
        }
      },
      "source": [
        "df_train_oversampled['sentiment'].value_counts().plot(kind='bar')"
      ],
      "execution_count": 15,
      "outputs": [
        {
          "output_type": "execute_result",
          "data": {
            "text/plain": [
              "<matplotlib.axes._subplots.AxesSubplot at 0x7f4141869780>"
            ]
          },
          "metadata": {
            "tags": []
          },
          "execution_count": 15
        },
        {
          "output_type": "display_data",
          "data": {
            "image/png": "[encoded data removed]",
            "text/plain": [
              "<Figure size 432x288 with 1 Axes>"
            ]
          },
          "metadata": {
            "tags": []
          }
        }
      ]
    },
    {
      "cell_type": "markdown",
      "metadata": {
        "id": "URdbzs4tDkAv",
        "colab_type": "text"
      },
      "source": [
        "# Setting up data"
      ]
    },
    {
      "cell_type": "code",
      "metadata": {
        "id": "F80cVObhDAwN",
        "colab_type": "code",
        "colab": {}
      },
      "source": [
        "PATH = '/content/'\n"
      ],
      "execution_count": 0,
      "outputs": []
    },
    {
      "cell_type": "code",
      "metadata": {
        "id": "axHubSwEgG9J",
        "colab_type": "code",
        "outputId": "3b9b66da-5c0e-432a-b782-d7b05239fb8b",
        "colab": {
          "base_uri": "https://localhost:8080/",
          "height": 34
        }
      },
      "source": [
        "ls{PATH}"
      ],
      "execution_count": 17,
      "outputs": [
        {
          "output_type": "stream",
          "text": [
            "\u001b[0m\u001b[01;36mdata\u001b[0m@  \u001b[01;36mmodels\u001b[0m@  testset1.csv\n"
          ],
          "name": "stdout"
        }
      ]
    },
    {
      "cell_type": "code",
      "metadata": {
        "id": "JWuZHdr2Dvea",
        "colab_type": "code",
        "colab": {}
      },
      "source": [
        "bs = 128"
      ],
      "execution_count": 0,
      "outputs": []
    },
    {
      "cell_type": "code",
      "metadata": {
        "id": "CzpFdPEIDx3C",
        "colab_type": "code",
        "colab": {}
      },
      "source": [
        "\n",
        "\"\"\"\n",
        "Original databunch, no need for oversampling since were not doing classification\n",
        "so we don't need to worry about class imbalance\n",
        "\n",
        "\"\"\"\n",
        "# data_lm = TextLMDataBunch.from_csv(path = PATH, \n",
        "#                                    csv_name = 'testset1.csv', \n",
        "#                                    text_cols='text',\n",
        "#                                    valid_pct = 0.1,\n",
        "#                                    min_freq = 3,\n",
        "#                                    bs = bs) \n",
        "\n",
        "data_lm_bkwd = TextLMDataBunch.from_csv(path = PATH, \n",
        "                                   csv_name = 'testset1.csv', \n",
        "                                   text_cols='text',\n",
        "                                   valid_pct = 0.1,\n",
        "                                   min_freq = 3,\n",
        "                                   backwards=True,\n",
        "                                   bs = bs) \n",
        "\n",
        "\n",
        "# data_lm.save('data_lm')\n",
        "\n",
        "data_lm_bkwd.save('data_lm_bkwd')"
      ],
      "execution_count": 0,
      "outputs": []
    },
    {
      "cell_type": "code",
      "metadata": {
        "id": "Z90o1knEjWpF",
        "colab_type": "code",
        "colab": {}
      },
      "source": [
        "# data_clas = (TextList.from_csv(path = PATH,\n",
        "#                                 csv_name = 'testset1.csv',\n",
        "#                                 vocab = data_lm.train_ds.vocab,\n",
        "#                                 cols = 'text')\n",
        "#                                 .split_by_idx(val_idx)\n",
        "#                                 .label_from_df(cols='sentiment')\n",
        "#                                 .databunch(bs = bs))\n",
        "\n",
        "# data_clas = TextClasDataBunch.from_df(path = PATH,\n",
        "#                                         train_df = df_train_oversampled,\n",
        "#                                         valid_df = df_val,\n",
        "#                                         vocab = data_lm.train_ds.vocab,\n",
        "#                                         text_cols = 'text',\n",
        "#                                         label_cols = 'sentiment',\n",
        "#                                         bs = bs)\n",
        "\n",
        "\n",
        "data_clas_bkwd = TextClasDataBunch.from_df(path = PATH,\n",
        "                                        train_df = df_train_oversampled,\n",
        "                                        valid_df = df_val,\n",
        "                                        vocab = data_lm_bkwd.train_ds.vocab,\n",
        "                                        text_cols = 'text',\n",
        "                                        label_cols = 'sentiment',\n",
        "                                        backwards = True,\n",
        "                                        bs = bs)\n",
        "\n",
        "# data_clas.save('text_data_clas')\n",
        "\n",
        "data_clas_bkwd.save('data_clas_bkwd')"
      ],
      "execution_count": 0,
      "outputs": []
    },
    {
      "cell_type": "markdown",
      "metadata": {
        "colab_type": "text",
        "id": "dwlF4i0Ep7Eu"
      },
      "source": [
        "# Training backwards model\n"
      ]
    },
    {
      "cell_type": "markdown",
      "metadata": {
        "colab_type": "text",
        "id": "jAUn0hprp7FF"
      },
      "source": [
        "## Language Model\n",
        "\n"
      ]
    },
    {
      "cell_type": "code",
      "metadata": {
        "colab_type": "code",
        "id": "IzvVhH4op7FH",
        "colab": {}
      },
      "source": [
        "data_lm_bkwd = load_data(PATH, 'data_lm_bkwd', bs = bs, backwards=True)"
      ],
      "execution_count": 0,
      "outputs": []
    },
    {
      "cell_type": "markdown",
      "metadata": {
        "colab_type": "text",
        "id": "rZfSw7J6p7FN"
      },
      "source": [
        "Look at what the preprocessed text looks like"
      ]
    },
    {
      "cell_type": "code",
      "metadata": {
        "colab_type": "code",
        "outputId": "1f0d4b6a-384b-4553-e70b-ee4b42fc74af",
        "id": "IpooO-EPp7FP",
        "colab": {
          "base_uri": "https://localhost:8080/",
          "height": 328
        }
      },
      "source": [
        "data_lm_bkwd.show_batch()"
      ],
      "execution_count": 23,
      "outputs": [
        {
          "output_type": "display_data",
          "data": {
            "text/html": [
              "<table border=\"1\" class=\"dataframe\">\n",
              "  <thead>\n",
              "    <tr style=\"text-align: right;\">\n",
              "      <th>idx</th>\n",
              "      <th>text</th>\n",
              "    </tr>\n",
              "  </thead>\n",
              "  <tbody>\n",
              "    <tr>\n",
              "      <td>0</td>\n",
              "      <td>xxup weekly xxmaj gold xxup # : gold xxup $ weekly xxmaj xxbos spy xxup $ tnx xxup $ uup xxup $ gld xxup $ forex # \\n \\n  sent &amp; &amp; posted trade premium xxmaj new xxmaj xxbos xxunk / t.co / / : https oilb xxup $ gld xxup $ focus xxmaj in news xxmaj war xxmaj trade xxmaj , resistance xxmaj trend xxmaj 3-month at prices</td>\n",
              "    </tr>\n",
              "    <tr>\n",
              "      <td>1</td>\n",
              "      <td>gld xxup $ slv xxup $ spy xxup $ \\n \\n  xxunk / t.co / / : https &gt; 1 part xxmaj - ? next xxmaj what xxmaj . 4 xxrep rotation xxmaj sector xxmaj global xxmaj vs u.s. xxup xxbos 👍 🐂 . 250k - 100 $ . back hair your blow will market bull next xxmaj . elastic - non fees tx bc early in price impossible</td>\n",
              "    </tr>\n",
              "    <tr>\n",
              "      <td>2</td>\n",
              "      <td>xxmaj high xxmaj \\n  % +10 : dbc xxup $ commodities xxmaj \\n  % +10 : efa xxup $ eafe xxup \\n  % +14 : iwm xxup $ caps xxmaj small xxmaj \\n  % +15 : spy xxup $ 500 s&amp;&amp;p xxup \\n  % +19 : vnq xxup $ reits \\n  % +19 : qqq xxup $ 100 nasdaq xxmaj \\n  % +19</td>\n",
              "    </tr>\n",
              "    <tr>\n",
              "      <td>3</td>\n",
              "      <td>xxmaj # forex xxmaj # stocks xxmaj # trading xxmaj # when ahead xxmaj get xxmaj xxbos hhd0wf7fny / t.co / / : https ! one this on section comments the read to wait n't ca , charts the in notes xxmaj \\n \\n  fractal market bear xxmaj - gold xxup $ \\n  market bear of end 2015 3d xxup - btc xxup $ \\n  chart 3d</td>\n",
              "    </tr>\n",
              "    <tr>\n",
              "      <td>4</td>\n",
              "      <td>btc xxup $ ae xxup $ ctr xxup $ dgd xxup $ hsr xxup $ nano xxup $ bnb xxup $ ven xxup $ trx xxup $ blz xxup $ icx xxup $ qtum xxup $ bcc xxup $ xxunk xxup $ ada xxup $ xxunk xxup $ salt xxup $ tix xxup $ rcn xxup $ xxunk xxup $ xxunk xxup $ xxunk xxup $ slr xxup $ unb</td>\n",
              "    </tr>\n",
              "  </tbody>\n",
              "</table>"
            ],
            "text/plain": [
              "<IPython.core.display.HTML object>"
            ]
          },
          "metadata": {
            "tags": []
          }
        }
      ]
    },
    {
      "cell_type": "code",
      "metadata": {
        "colab_type": "code",
        "id": "FFv1XTFqp7FT",
        "colab": {}
      },
      "source": [
        "\n",
        "\n",
        "\"\"\"\n",
        "Default AdamW\n",
        "\"\"\"\n",
        "\n",
        "\n",
        "learn_bkwd = language_model_learner(data_lm_bkwd, \n",
        "                               arch=AWD_LSTM,\n",
        "                               pretrained = True,\n",
        "                               loss_func = FlattenedLoss(LabelSmoothingCrossEntropy, axis=-1),\n",
        "                               drop_mult=1.).to_fp16()\n"
      ],
      "execution_count": 0,
      "outputs": []
    },
    {
      "cell_type": "code",
      "metadata": {
        "colab_type": "code",
        "outputId": "a50a027f-d395-4e85-c589-29c0407da52f",
        "id": "lNsH_glPp7FX",
        "colab": {
          "base_uri": "https://localhost:8080/",
          "height": 331
        }
      },
      "source": [
        "learn_bkwd.lr_find()\n",
        "learn_bkwd.recorder.plot(suggestion = True, skip_end=15)"
      ],
      "execution_count": 25,
      "outputs": [
        {
          "output_type": "display_data",
          "data": {
            "text/html": [
              ""
            ],
            "text/plain": [
              "<IPython.core.display.HTML object>"
            ]
          },
          "metadata": {
            "tags": []
          }
        },
        {
          "output_type": "stream",
          "text": [
            "LR Finder is complete, type {learner_name}.recorder.plot() to see the graph.\n",
            "Min numerical gradient: 1.00E-01\n",
            "Min loss divided by 10: 5.25E-02\n"
          ],
          "name": "stdout"
        },
        {
          "output_type": "display_data",
          "data": {
            "image/png": "[encoded data removed]",
            "text/plain": [
              "<Figure size 432x288 with 1 Axes>"
            ]
          },
          "metadata": {
            "tags": []
          }
        }
      ]
    },
    {
      "cell_type": "markdown",
      "metadata": {
        "colab_type": "text",
        "id": "Fc04AQeVp7Fc"
      },
      "source": [
        "fitting learner\n",
        "\n",
        "fit_fc for new optimizers\n",
        "\n",
        "fit_one_cycle for adamw/lamb/LookaheadAdam"
      ]
    },
    {
      "cell_type": "code",
      "metadata": {
        "colab_type": "code",
        "outputId": "e112a5db-ea64-4308-8140-e137a070160d",
        "id": "9tVtrJdnp7Fd",
        "colab": {
          "base_uri": "https://localhost:8080/",
          "height": 799
        }
      },
      "source": [
        "lr_init = 0.1\n",
        "\n",
        "lr = lr_init\n",
        "\n",
        "\"\"\"\n",
        "1 cycle policy\n",
        "\n",
        "\"\"\"\n",
        "\n",
        "learn_bkwd.fit_one_cycle(10,\n",
        "                   lr,\n",
        "                   moms=(0.8,0.7),\n",
        "                   callbacks=[SaveModelCallback(learn_bkwd, every='improvement', monitor='accuracy', \n",
        "                                                             name='lm_bkwd_stage1')])\n",
        "\n",
        "\n",
        "\"\"\"\n",
        "1 cycle policy without clipping momentum\n",
        "\n",
        "\"\"\"\n",
        "\n",
        "# learn.fit_one_cycle(5,\n",
        "#                    lr,\n",
        "#                    callbacks=[SaveModelCallback(learn, every='improvement', monitor='accuracy', \n",
        "#                                                              name='lm_stage1'),])\n",
        "\n",
        "learn_bkwd.recorder.plot_losses()"
      ],
      "execution_count": 27,
      "outputs": [
        {
          "output_type": "display_data",
          "data": {
            "text/html": [
              "<table border=\"1\" class=\"dataframe\">\n",
              "  <thead>\n",
              "    <tr style=\"text-align: left;\">\n",
              "      <th>epoch</th>\n",
              "      <th>train_loss</th>\n",
              "      <th>valid_loss</th>\n",
              "      <th>accuracy</th>\n",
              "      <th>time</th>\n",
              "    </tr>\n",
              "  </thead>\n",
              "  <tbody>\n",
              "    <tr>\n",
              "      <td>0</td>\n",
              "      <td>4.555593</td>\n",
              "      <td>3.100734</td>\n",
              "      <td>0.607924</td>\n",
              "      <td>00:30</td>\n",
              "    </tr>\n",
              "    <tr>\n",
              "      <td>1</td>\n",
              "      <td>3.489866</td>\n",
              "      <td>2.508145</td>\n",
              "      <td>0.744710</td>\n",
              "      <td>00:30</td>\n",
              "    </tr>\n",
              "    <tr>\n",
              "      <td>2</td>\n",
              "      <td>3.097463</td>\n",
              "      <td>2.495664</td>\n",
              "      <td>0.760759</td>\n",
              "      <td>00:30</td>\n",
              "    </tr>\n",
              "    <tr>\n",
              "      <td>3</td>\n",
              "      <td>2.929278</td>\n",
              "      <td>2.427113</td>\n",
              "      <td>0.772924</td>\n",
              "      <td>00:30</td>\n",
              "    </tr>\n",
              "    <tr>\n",
              "      <td>4</td>\n",
              "      <td>2.808628</td>\n",
              "      <td>2.376091</td>\n",
              "      <td>0.787478</td>\n",
              "      <td>00:30</td>\n",
              "    </tr>\n",
              "    <tr>\n",
              "      <td>5</td>\n",
              "      <td>2.702668</td>\n",
              "      <td>2.323559</td>\n",
              "      <td>0.796786</td>\n",
              "      <td>00:30</td>\n",
              "    </tr>\n",
              "    <tr>\n",
              "      <td>6</td>\n",
              "      <td>2.610370</td>\n",
              "      <td>2.265133</td>\n",
              "      <td>0.806406</td>\n",
              "      <td>00:30</td>\n",
              "    </tr>\n",
              "    <tr>\n",
              "      <td>7</td>\n",
              "      <td>2.529922</td>\n",
              "      <td>2.232135</td>\n",
              "      <td>0.814085</td>\n",
              "      <td>00:30</td>\n",
              "    </tr>\n",
              "    <tr>\n",
              "      <td>8</td>\n",
              "      <td>2.456218</td>\n",
              "      <td>2.212739</td>\n",
              "      <td>0.817187</td>\n",
              "      <td>00:30</td>\n",
              "    </tr>\n",
              "    <tr>\n",
              "      <td>9</td>\n",
              "      <td>2.407806</td>\n",
              "      <td>2.211560</td>\n",
              "      <td>0.817210</td>\n",
              "      <td>00:30</td>\n",
              "    </tr>\n",
              "  </tbody>\n",
              "</table>"
            ],
            "text/plain": [
              "<IPython.core.display.HTML object>"
            ]
          },
          "metadata": {
            "tags": []
          }
        },
        {
          "output_type": "stream",
          "text": [
            "Better model found at epoch 0 with accuracy value: 0.6079241037368774.\n",
            "Better model found at epoch 1 with accuracy value: 0.744709849357605.\n",
            "Better model found at epoch 2 with accuracy value: 0.7607589364051819.\n",
            "Better model found at epoch 3 with accuracy value: 0.7729240655899048.\n",
            "Better model found at epoch 4 with accuracy value: 0.7874776721000671.\n",
            "Better model found at epoch 5 with accuracy value: 0.7967857122421265.\n",
            "Better model found at epoch 6 with accuracy value: 0.8064061999320984.\n",
            "Better model found at epoch 7 with accuracy value: 0.8140848278999329.\n",
            "Better model found at epoch 8 with accuracy value: 0.817187488079071.\n",
            "Better model found at epoch 9 with accuracy value: 0.8172098398208618.\n"
          ],
          "name": "stdout"
        },
        {
          "output_type": "display_data",
          "data": {
            "image/png": "[encoded data removed]",
            "text/plain": [
              "<Figure size 432x288 with 1 Axes>"
            ]
          },
          "metadata": {
            "tags": []
          }
        }
      ]
    },
    {
      "cell_type": "code",
      "metadata": {
        "colab_type": "code",
        "outputId": "c6cc81d5-cc5f-4072-de0c-d25007a1b74c",
        "id": "t2ZF0_zCp7Fi",
        "colab": {
          "base_uri": "https://localhost:8080/",
          "height": 279
        }
      },
      "source": [
        "learn_bkwd.recorder.plot_lr(show_moms=True)"
      ],
      "execution_count": 28,
      "outputs": [
        {
          "output_type": "display_data",
          "data": {
            "image/png": "[encoded data removed]",
            "text/plain": [
              "<Figure size 864x288 with 2 Axes>"
            ]
          },
          "metadata": {
            "tags": []
          }
        }
      ]
    },
    {
      "cell_type": "code",
      "metadata": {
        "colab_type": "code",
        "id": "W0S-34cbp7Fo",
        "colab": {}
      },
      "source": [
        "learn_bkwd.load('lm_bkwd_stage1');\n",
        "\n",
        "learn_bkwd.unfreeze()\n"
      ],
      "execution_count": 0,
      "outputs": []
    },
    {
      "cell_type": "code",
      "metadata": {
        "colab_type": "code",
        "id": "h-CmNEAWp7Fr",
        "colab": {
          "base_uri": "https://localhost:8080/",
          "height": 781
        },
        "outputId": "0fc82f44-38b9-45db-e815-695cda520af7"
      },
      "source": [
        "# train with smaller LR in last layer\n",
        "lr = lr_init/10\n",
        "\n",
        "learn_bkwd.fit_one_cycle(10,\n",
        "                   slice(lr/(2.6**4),lr),\n",
        "                   moms=(0.8,0.7),\n",
        "                   callbacks=[SaveModelCallback(learn_bkwd, every='improvement', monitor='accuracy', \n",
        "                   name='lm_bkwd_stage2')])\n",
        "\n",
        "\n",
        "learn_bkwd.recorder.plot_losses()\n",
        "\n"
      ],
      "execution_count": 31,
      "outputs": [
        {
          "output_type": "display_data",
          "data": {
            "text/html": [
              "<table border=\"1\" class=\"dataframe\">\n",
              "  <thead>\n",
              "    <tr style=\"text-align: left;\">\n",
              "      <th>epoch</th>\n",
              "      <th>train_loss</th>\n",
              "      <th>valid_loss</th>\n",
              "      <th>accuracy</th>\n",
              "      <th>time</th>\n",
              "    </tr>\n",
              "  </thead>\n",
              "  <tbody>\n",
              "    <tr>\n",
              "      <td>0</td>\n",
              "      <td>2.315748</td>\n",
              "      <td>2.155119</td>\n",
              "      <td>0.821005</td>\n",
              "      <td>00:41</td>\n",
              "    </tr>\n",
              "    <tr>\n",
              "      <td>1</td>\n",
              "      <td>2.252350</td>\n",
              "      <td>2.085813</td>\n",
              "      <td>0.829219</td>\n",
              "      <td>00:41</td>\n",
              "    </tr>\n",
              "    <tr>\n",
              "      <td>2</td>\n",
              "      <td>2.170489</td>\n",
              "      <td>2.045124</td>\n",
              "      <td>0.838862</td>\n",
              "      <td>00:41</td>\n",
              "    </tr>\n",
              "    <tr>\n",
              "      <td>3</td>\n",
              "      <td>2.108858</td>\n",
              "      <td>2.006443</td>\n",
              "      <td>0.845938</td>\n",
              "      <td>00:41</td>\n",
              "    </tr>\n",
              "    <tr>\n",
              "      <td>4</td>\n",
              "      <td>2.041487</td>\n",
              "      <td>1.979395</td>\n",
              "      <td>0.850714</td>\n",
              "      <td>00:41</td>\n",
              "    </tr>\n",
              "    <tr>\n",
              "      <td>5</td>\n",
              "      <td>1.976492</td>\n",
              "      <td>1.959842</td>\n",
              "      <td>0.855491</td>\n",
              "      <td>00:41</td>\n",
              "    </tr>\n",
              "    <tr>\n",
              "      <td>6</td>\n",
              "      <td>1.924071</td>\n",
              "      <td>1.942076</td>\n",
              "      <td>0.858705</td>\n",
              "      <td>00:41</td>\n",
              "    </tr>\n",
              "    <tr>\n",
              "      <td>7</td>\n",
              "      <td>1.883787</td>\n",
              "      <td>1.933844</td>\n",
              "      <td>0.860937</td>\n",
              "      <td>00:41</td>\n",
              "    </tr>\n",
              "    <tr>\n",
              "      <td>8</td>\n",
              "      <td>1.859683</td>\n",
              "      <td>1.933005</td>\n",
              "      <td>0.861741</td>\n",
              "      <td>00:41</td>\n",
              "    </tr>\n",
              "    <tr>\n",
              "      <td>9</td>\n",
              "      <td>1.841687</td>\n",
              "      <td>1.934455</td>\n",
              "      <td>0.861362</td>\n",
              "      <td>00:41</td>\n",
              "    </tr>\n",
              "  </tbody>\n",
              "</table>"
            ],
            "text/plain": [
              "<IPython.core.display.HTML object>"
            ]
          },
          "metadata": {
            "tags": []
          }
        },
        {
          "output_type": "stream",
          "text": [
            "Better model found at epoch 0 with accuracy value: 0.8210045099258423.\n",
            "Better model found at epoch 1 with accuracy value: 0.8292186856269836.\n",
            "Better model found at epoch 2 with accuracy value: 0.8388615846633911.\n",
            "Better model found at epoch 3 with accuracy value: 0.8459375500679016.\n",
            "Better model found at epoch 4 with accuracy value: 0.8507143259048462.\n",
            "Better model found at epoch 5 with accuracy value: 0.855491042137146.\n",
            "Better model found at epoch 6 with accuracy value: 0.8587053418159485.\n",
            "Better model found at epoch 7 with accuracy value: 0.8609374761581421.\n",
            "Better model found at epoch 8 with accuracy value: 0.8617410659790039.\n"
          ],
          "name": "stdout"
        },
        {
          "output_type": "display_data",
          "data": {
            "image/png": "[encoded data removed]",
            "text/plain": [
              "<Figure size 432x288 with 1 Axes>"
            ]
          },
          "metadata": {
            "tags": []
          }
        }
      ]
    },
    {
      "cell_type": "markdown",
      "metadata": {
        "colab_type": "text",
        "id": "27zjlZEIp7Fw"
      },
      "source": [
        "Testing the performance of our language model"
      ]
    },
    {
      "cell_type": "code",
      "metadata": {
        "colab_type": "code",
        "id": "nGbEeytfp7Fx",
        "colab": {}
      },
      "source": [
        "learn_bkwd.load('lm_bkwd_stage2');"
      ],
      "execution_count": 0,
      "outputs": []
    },
    {
      "cell_type": "code",
      "metadata": {
        "colab_type": "code",
        "id": "AKfQ3rs5p7F2",
        "colab": {
          "base_uri": "https://localhost:8080/",
          "height": 34
        },
        "outputId": "60f0cc8c-ed33-47c6-ec07-b661a2b59808"
      },
      "source": [
        "learn_bkwd.predict('$GLD is ', 20, temperature=0.25, min_p=0.001)"
      ],
      "execution_count": 33,
      "outputs": [
        {
          "output_type": "execute_result",
          "data": {
            "text/plain": [
              "'$GLD is  debt our now . deal china To interest due , volatile so markets u.s. EMERGING if ’s'"
            ]
          },
          "metadata": {
            "tags": []
          },
          "execution_count": 33
        }
      ]
    },
    {
      "cell_type": "markdown",
      "metadata": {
        "colab_type": "text",
        "id": "g8xIZwnup7F6"
      },
      "source": [
        "Save encoder for classification"
      ]
    },
    {
      "cell_type": "code",
      "metadata": {
        "colab_type": "code",
        "id": "I3d6tW9_p7F7",
        "colab": {}
      },
      "source": [
        "learn_bkwd.save_encoder('lm_bkwd_encoder')"
      ],
      "execution_count": 0,
      "outputs": []
    },
    {
      "cell_type": "markdown",
      "metadata": {
        "colab_type": "text",
        "id": "0hefMXwop7F-"
      },
      "source": [
        "## Classifier"
      ]
    },
    {
      "cell_type": "code",
      "metadata": {
        "colab_type": "code",
        "id": "BuIAOhcip7F_",
        "colab": {}
      },
      "source": [
        "data_clas_bkwd = load_data(PATH, 'data_clas_bkwd', bs = bs, backwards = True)"
      ],
      "execution_count": 0,
      "outputs": []
    },
    {
      "cell_type": "markdown",
      "metadata": {
        "colab_type": "text",
        "id": "NJJrDYlFp7GE"
      },
      "source": [
        "Look at the data"
      ]
    },
    {
      "cell_type": "code",
      "metadata": {
        "colab_type": "code",
        "outputId": "853c3f4f-5888-4b65-d08e-6c7c611824ee",
        "id": "Ox3iqFuUp7GF",
        "colab": {
          "base_uri": "https://localhost:8080/",
          "height": 310
        }
      },
      "source": [
        "data_clas_bkwd.show_batch()"
      ],
      "execution_count": 37,
      "outputs": [
        {
          "output_type": "display_data",
          "data": {
            "text/html": [
              "<table border=\"1\" class=\"dataframe\">\n",
              "  <thead>\n",
              "    <tr style=\"text-align: right;\">\n",
              "      <th>text</th>\n",
              "      <th>target</th>\n",
              "    </tr>\n",
              "  </thead>\n",
              "  <tbody>\n",
              "    <tr>\n",
              "      <td>xxunk / t.co / / : https xxunk xxup $ xxunk xxup $ xxunk xxup $ exc xxup $ xxunk xxup $ xxunk xxup $ i $ xxunk xxup $ mac xxup $ xxunk xxup $ xxunk xxup $ xxunk xxup $ veev xxup $ xxunk xxup $ xxunk xxup $ gold xxup $ xxunk xxup $ xxunk xxup $ nvs xxup $ nee xxup $ xxunk xxup $ xxunk</td>\n",
              "      <td>unrelated</td>\n",
              "    </tr>\n",
              "    <tr>\n",
              "      <td>xlp xxup $ 🍞 % xxunk \\n  xlu xxup $ 🔌 % xxunk \\n  xxunk 🔻 \\n \\n  qqq xxup $ ️ ♣ xxunk \\n  xlk xxup $ 💻 % 0.03 \\n  xli xxup $ 🏭 % 0.09 \\n  xxunk xxmaj # ️ ♂ ‍ 🤷 \\n \\n  gld xxup $ 🏅 % 0.11 \\n  xly xxup $ 💍 % xxunk \\n</td>\n",
              "      <td>neutral</td>\n",
              "    </tr>\n",
              "    <tr>\n",
              "      <td>xlp xxup $ 🍞 % xxunk \\n  xlu xxup $ 🔌 % xxunk \\n  xxunk 🔻 \\n \\n  qqq xxup $ ️ ♣ xxunk \\n  xlk xxup $ 💻 % 0.03 \\n  xli xxup $ 🏭 % 0.09 \\n  xxunk xxmaj # ️ ♂ ‍ 🤷 \\n \\n  gld xxup $ 🏅 % 0.11 \\n  xly xxup $ 💍 % xxunk \\n</td>\n",
              "      <td>neutral</td>\n",
              "    </tr>\n",
              "    <tr>\n",
              "      <td>xlp xxup $ 🍞 % xxunk \\n  xlu xxup $ 🔌 % xxunk \\n  xxunk 🔻 \\n \\n  qqq xxup $ ️ ♣ xxunk \\n  xlk xxup $ 💻 % 0.03 \\n  xli xxup $ 🏭 % 0.09 \\n  xxunk xxmaj # ️ ♂ ‍ 🤷 \\n \\n  gld xxup $ 🏅 % 0.11 \\n  xly xxup $ 💍 % xxunk \\n</td>\n",
              "      <td>neutral</td>\n",
              "    </tr>\n",
              "    <tr>\n",
              "      <td>xlp xxup $ 🍞 % xxunk \\n  xlu xxup $ 🔌 % xxunk \\n  xxunk 🔻 \\n \\n  qqq xxup $ ️ ♣ xxunk \\n  xlk xxup $ 💻 % 0.03 \\n  xli xxup $ 🏭 % 0.09 \\n  xxunk xxmaj # ️ ♂ ‍ 🤷 \\n \\n  gld xxup $ 🏅 % 0.11 \\n  xly xxup $ 💍 % xxunk \\n</td>\n",
              "      <td>neutral</td>\n",
              "    </tr>\n",
              "  </tbody>\n",
              "</table>"
            ],
            "text/plain": [
              "<IPython.core.display.HTML object>"
            ]
          },
          "metadata": {
            "tags": []
          }
        }
      ]
    },
    {
      "cell_type": "markdown",
      "metadata": {
        "colab_type": "text",
        "id": "iDUFz5dop7GK"
      },
      "source": [
        "Making sure the vocab is the same between the language model and classifier"
      ]
    },
    {
      "cell_type": "code",
      "metadata": {
        "colab_type": "code",
        "id": "Y_4tIOfCp7GL",
        "colab": {}
      },
      "source": [
        "data_clas_bkwd.vocab.itos = data_lm_bkwd.vocab.itos"
      ],
      "execution_count": 0,
      "outputs": []
    },
    {
      "cell_type": "markdown",
      "metadata": {
        "colab_type": "text",
        "id": "_aI6cSeVp7GQ"
      },
      "source": [
        "Training classifier layer"
      ]
    },
    {
      "cell_type": "code",
      "metadata": {
        "colab_type": "code",
        "id": "cjkHToOWp7GR",
        "colab": {}
      },
      "source": [
        "\n",
        "\n",
        "\"\"\"\n",
        "learner with default adamw\n",
        "\n",
        "\"\"\"\n",
        "learn_bkwd = text_classifier_learner(data_clas_bkwd, \n",
        "                                arch = AWD_LSTM,\n",
        "                                loss_func = FlattenedLoss(LabelSmoothingCrossEntropy, axis=-1),\n",
        "                                drop_mult=0.1,\n",
        "                                metrics = [accuracy]).to_fp16()\n",
        "\n",
        "learn_bkwd.load_encoder('lm_bkwd_encoder')\n",
        "learn_bkwd.freeze()"
      ],
      "execution_count": 0,
      "outputs": []
    },
    {
      "cell_type": "code",
      "metadata": {
        "colab_type": "code",
        "outputId": "8a3a340d-ded0-484e-92d8-99c4fd7f9854",
        "id": "Xp-T_4I_p7GU",
        "colab": {
          "base_uri": "https://localhost:8080/",
          "height": 331
        }
      },
      "source": [
        "learn_bkwd.lr_find()\n",
        "learn_bkwd.recorder.plot(suggestion = True)"
      ],
      "execution_count": 40,
      "outputs": [
        {
          "output_type": "display_data",
          "data": {
            "text/html": [
              ""
            ],
            "text/plain": [
              "<IPython.core.display.HTML object>"
            ]
          },
          "metadata": {
            "tags": []
          }
        },
        {
          "output_type": "stream",
          "text": [
            "LR Finder is complete, type {learner_name}.recorder.plot() to see the graph.\n",
            "Min numerical gradient: 1.20E-03\n",
            "Min loss divided by 10: 2.09E-02\n"
          ],
          "name": "stdout"
        },
        {
          "output_type": "display_data",
          "data": {
            "image/png": "[encoded data removed]",
            "text/plain": [
              "<Figure size 432x288 with 1 Axes>"
            ]
          },
          "metadata": {
            "tags": []
          }
        }
      ]
    },
    {
      "cell_type": "code",
      "metadata": {
        "colab_type": "code",
        "outputId": "c3f85982-a7f6-428e-b6f1-35c667d60609",
        "id": "ZYSD7K3mp7GX",
        "colab": {
          "base_uri": "https://localhost:8080/",
          "height": 712
        }
      },
      "source": [
        "lr_init = 0.1\n",
        "lr = lr_init\n",
        "\n",
        "# learn.fit_one_cycle(10, \n",
        "#                    lr, \n",
        "#                    moms=(0.8,0.7),\n",
        "#                    callbacks=[SaveModelCallback(learn, every='improvement', monitor='accuracy', \n",
        "#                                                              name='classifier_stage1')])\n",
        "learn_bkwd.fit_fc(10,\n",
        "             lr,\n",
        "             moms=(0.8,0.7),\n",
        "             callbacks=[SaveModelCallback(learn_bkwd, every='improvement', monitor='accuracy', \n",
        "             name='classifier_bkwd_stage1')])\n",
        "\n",
        "\n",
        "learn_bkwd.recorder.plot_losses()"
      ],
      "execution_count": 41,
      "outputs": [
        {
          "output_type": "display_data",
          "data": {
            "text/html": [
              "<table border=\"1\" class=\"dataframe\">\n",
              "  <thead>\n",
              "    <tr style=\"text-align: left;\">\n",
              "      <th>epoch</th>\n",
              "      <th>train_loss</th>\n",
              "      <th>valid_loss</th>\n",
              "      <th>accuracy</th>\n",
              "      <th>time</th>\n",
              "    </tr>\n",
              "  </thead>\n",
              "  <tbody>\n",
              "    <tr>\n",
              "      <td>0</td>\n",
              "      <td>1.289790</td>\n",
              "      <td>1.259888</td>\n",
              "      <td>0.563115</td>\n",
              "      <td>00:29</td>\n",
              "    </tr>\n",
              "    <tr>\n",
              "      <td>1</td>\n",
              "      <td>1.179943</td>\n",
              "      <td>0.970793</td>\n",
              "      <td>0.658013</td>\n",
              "      <td>00:27</td>\n",
              "    </tr>\n",
              "    <tr>\n",
              "      <td>2</td>\n",
              "      <td>1.126308</td>\n",
              "      <td>0.891023</td>\n",
              "      <td>0.751119</td>\n",
              "      <td>00:25</td>\n",
              "    </tr>\n",
              "    <tr>\n",
              "      <td>3</td>\n",
              "      <td>1.070380</td>\n",
              "      <td>1.096602</td>\n",
              "      <td>0.675022</td>\n",
              "      <td>00:25</td>\n",
              "    </tr>\n",
              "    <tr>\n",
              "      <td>4</td>\n",
              "      <td>1.022669</td>\n",
              "      <td>0.921453</td>\n",
              "      <td>0.717995</td>\n",
              "      <td>00:27</td>\n",
              "    </tr>\n",
              "    <tr>\n",
              "      <td>5</td>\n",
              "      <td>1.050411</td>\n",
              "      <td>1.329203</td>\n",
              "      <td>0.625783</td>\n",
              "      <td>00:26</td>\n",
              "    </tr>\n",
              "    <tr>\n",
              "      <td>6</td>\n",
              "      <td>1.029264</td>\n",
              "      <td>0.884083</td>\n",
              "      <td>0.739481</td>\n",
              "      <td>00:27</td>\n",
              "    </tr>\n",
              "    <tr>\n",
              "      <td>7</td>\n",
              "      <td>1.054365</td>\n",
              "      <td>0.867603</td>\n",
              "      <td>0.791406</td>\n",
              "      <td>00:25</td>\n",
              "    </tr>\n",
              "    <tr>\n",
              "      <td>8</td>\n",
              "      <td>0.909884</td>\n",
              "      <td>0.768127</td>\n",
              "      <td>0.794091</td>\n",
              "      <td>00:26</td>\n",
              "    </tr>\n",
              "    <tr>\n",
              "      <td>9</td>\n",
              "      <td>0.813252</td>\n",
              "      <td>0.788577</td>\n",
              "      <td>0.779767</td>\n",
              "      <td>00:28</td>\n",
              "    </tr>\n",
              "  </tbody>\n",
              "</table>"
            ],
            "text/plain": [
              "<IPython.core.display.HTML object>"
            ]
          },
          "metadata": {
            "tags": []
          }
        },
        {
          "output_type": "stream",
          "text": [
            "Better model found at epoch 0 with accuracy value: 0.5631154775619507.\n",
            "Better model found at epoch 1 with accuracy value: 0.6580125093460083.\n",
            "Better model found at epoch 2 with accuracy value: 0.751119077205658.\n",
            "Better model found at epoch 7 with accuracy value: 0.7914055585861206.\n",
            "Better model found at epoch 8 with accuracy value: 0.7940913438796997.\n"
          ],
          "name": "stdout"
        },
        {
          "output_type": "display_data",
          "data": {
            "image/png": "[encoded data removed]",
            "text/plain": [
              "<Figure size 432x288 with 1 Axes>"
            ]
          },
          "metadata": {
            "tags": []
          }
        }
      ]
    },
    {
      "cell_type": "markdown",
      "metadata": {
        "colab_type": "text",
        "id": "-drFckSZp7Ga"
      },
      "source": [
        "Gradual unfreezing\n",
        "\n"
      ]
    },
    {
      "cell_type": "code",
      "metadata": {
        "colab_type": "code",
        "id": "XdgLIpUTp7Gb",
        "colab": {}
      },
      "source": [
        "learn_bkwd.load('classifier_bkwd_stage1');\n",
        "learn_bkwd.freeze_to(-1)"
      ],
      "execution_count": 0,
      "outputs": []
    },
    {
      "cell_type": "code",
      "metadata": {
        "colab_type": "code",
        "outputId": "6ed00920-c6e3-4a38-df32-5f2d22b84464",
        "id": "2tw2wfFOp7Gh",
        "colab": {
          "base_uri": "https://localhost:8080/",
          "height": 538
        }
      },
      "source": [
        "lr = lr_init\n",
        "\n",
        "learn_bkwd.fit_one_cycle(5,\n",
        "                   slice(lr/(2.6**4),lr), \n",
        "                   moms=(0.8,0.7),\n",
        "                   callbacks=[SaveModelCallback(learn_bkwd, every='improvement', monitor='accuracy', \n",
        "                                                             name='classifier_bkwd_stage2')])\n",
        "\n",
        "learn_bkwd.recorder.plot_losses()"
      ],
      "execution_count": 43,
      "outputs": [
        {
          "output_type": "display_data",
          "data": {
            "text/html": [
              "<table border=\"1\" class=\"dataframe\">\n",
              "  <thead>\n",
              "    <tr style=\"text-align: left;\">\n",
              "      <th>epoch</th>\n",
              "      <th>train_loss</th>\n",
              "      <th>valid_loss</th>\n",
              "      <th>accuracy</th>\n",
              "      <th>time</th>\n",
              "    </tr>\n",
              "  </thead>\n",
              "  <tbody>\n",
              "    <tr>\n",
              "      <td>0</td>\n",
              "      <td>0.857744</td>\n",
              "      <td>0.949413</td>\n",
              "      <td>0.735900</td>\n",
              "      <td>00:27</td>\n",
              "    </tr>\n",
              "    <tr>\n",
              "      <td>1</td>\n",
              "      <td>1.083929</td>\n",
              "      <td>0.993261</td>\n",
              "      <td>0.698299</td>\n",
              "      <td>00:24</td>\n",
              "    </tr>\n",
              "    <tr>\n",
              "      <td>2</td>\n",
              "      <td>0.926361</td>\n",
              "      <td>0.773851</td>\n",
              "      <td>0.783348</td>\n",
              "      <td>00:26</td>\n",
              "    </tr>\n",
              "    <tr>\n",
              "      <td>3</td>\n",
              "      <td>0.863869</td>\n",
              "      <td>0.774484</td>\n",
              "      <td>0.787825</td>\n",
              "      <td>00:28</td>\n",
              "    </tr>\n",
              "    <tr>\n",
              "      <td>4</td>\n",
              "      <td>0.796446</td>\n",
              "      <td>0.773674</td>\n",
              "      <td>0.803939</td>\n",
              "      <td>00:28</td>\n",
              "    </tr>\n",
              "  </tbody>\n",
              "</table>"
            ],
            "text/plain": [
              "<IPython.core.display.HTML object>"
            ]
          },
          "metadata": {
            "tags": []
          }
        },
        {
          "output_type": "stream",
          "text": [
            "Better model found at epoch 0 with accuracy value: 0.7358997464179993.\n",
            "Better model found at epoch 2 with accuracy value: 0.7833482623100281.\n",
            "Better model found at epoch 3 with accuracy value: 0.7878245115280151.\n",
            "Better model found at epoch 4 with accuracy value: 0.8039391040802002.\n"
          ],
          "name": "stdout"
        },
        {
          "output_type": "display_data",
          "data": {
            "image/png": "[encoded data removed]",
            "text/plain": [
              "<Figure size 432x288 with 1 Axes>"
            ]
          },
          "metadata": {
            "tags": []
          }
        }
      ]
    },
    {
      "cell_type": "code",
      "metadata": {
        "colab_type": "code",
        "id": "Wx6aG4OGp7Gk",
        "colab": {}
      },
      "source": [
        "learn_bkwd.load('classifier_bkwd_stage2');\n",
        "learn_bkwd.freeze_to(-2)"
      ],
      "execution_count": 0,
      "outputs": []
    },
    {
      "cell_type": "code",
      "metadata": {
        "colab_type": "code",
        "outputId": "2c4f03c0-bf61-433d-ebe8-a0964b13d7a4",
        "id": "JlBvfvIEp7Gm",
        "colab": {
          "base_uri": "https://localhost:8080/",
          "height": 542
        }
      },
      "source": [
        "# divide lr in last layer (/2)\n",
        "\n",
        "lr=lr_init/2\n",
        "\n",
        "learn_bkwd.fit_one_cycle(5,\n",
        "                   slice(lr/(2.6**4),lr), \n",
        "                   moms=(0.8,0.7),\n",
        "                   callbacks=[SaveModelCallback(learn_bkwd, every='improvement', monitor='accuracy', \n",
        "                                                             name='classifier_bkwd_stage3')])\n",
        "\n",
        "learn_bkwd.recorder.plot_losses()"
      ],
      "execution_count": 48,
      "outputs": [
        {
          "output_type": "display_data",
          "data": {
            "text/html": [
              "<table border=\"1\" class=\"dataframe\">\n",
              "  <thead>\n",
              "    <tr style=\"text-align: left;\">\n",
              "      <th>epoch</th>\n",
              "      <th>train_loss</th>\n",
              "      <th>valid_loss</th>\n",
              "      <th>accuracy</th>\n",
              "      <th>time</th>\n",
              "    </tr>\n",
              "  </thead>\n",
              "  <tbody>\n",
              "    <tr>\n",
              "      <td>0</td>\n",
              "      <td>0.957270</td>\n",
              "      <td>0.822017</td>\n",
              "      <td>0.770815</td>\n",
              "      <td>00:36</td>\n",
              "    </tr>\n",
              "    <tr>\n",
              "      <td>1</td>\n",
              "      <td>0.918718</td>\n",
              "      <td>0.787392</td>\n",
              "      <td>0.790510</td>\n",
              "      <td>00:33</td>\n",
              "    </tr>\n",
              "    <tr>\n",
              "      <td>2</td>\n",
              "      <td>0.784185</td>\n",
              "      <td>0.728675</td>\n",
              "      <td>0.834378</td>\n",
              "      <td>00:31</td>\n",
              "    </tr>\n",
              "    <tr>\n",
              "      <td>3</td>\n",
              "      <td>0.642429</td>\n",
              "      <td>0.698301</td>\n",
              "      <td>0.854073</td>\n",
              "      <td>00:31</td>\n",
              "    </tr>\n",
              "    <tr>\n",
              "      <td>4</td>\n",
              "      <td>0.552814</td>\n",
              "      <td>0.698857</td>\n",
              "      <td>0.851388</td>\n",
              "      <td>00:29</td>\n",
              "    </tr>\n",
              "  </tbody>\n",
              "</table>"
            ],
            "text/plain": [
              "<IPython.core.display.HTML object>"
            ]
          },
          "metadata": {
            "tags": []
          }
        },
        {
          "output_type": "stream",
          "text": [
            "Better model found at epoch 0 with accuracy value: 0.7708146572113037.\n",
            "Better model found at epoch 1 with accuracy value: 0.7905102968215942.\n",
            "Better model found at epoch 2 with accuracy value: 0.8343778252601624.\n",
            "Better model found at epoch 3 with accuracy value: 0.8540734052658081.\n"
          ],
          "name": "stdout"
        },
        {
          "output_type": "display_data",
          "data": {
            "image/png": "[encoded data removed]",
            "text/plain": [
              "<Figure size 432x288 with 1 Axes>"
            ]
          },
          "metadata": {
            "tags": []
          }
        }
      ]
    },
    {
      "cell_type": "code",
      "metadata": {
        "colab_type": "code",
        "id": "lmsUnylNp7Gp",
        "colab": {}
      },
      "source": [
        "learn_bkwd.load('classifier_bkwd_stage3');\n",
        "learn_bkwd.unfreeze()"
      ],
      "execution_count": 0,
      "outputs": []
    },
    {
      "cell_type": "code",
      "metadata": {
        "colab_type": "code",
        "outputId": "b06eb35d-0036-4c71-ba02-d19cc83771ac",
        "id": "NOKJqimkp7Gr",
        "colab": {
          "base_uri": "https://localhost:8080/",
          "height": 695
        }
      },
      "source": [
        "# decrease lr in last layer (/10)\n",
        "\n",
        "lr = lr_init/10\n",
        "\n",
        "learn_bkwd.fit_one_cycle(10,\n",
        "                   slice(lr/(2.6**4),lr), \n",
        "                   moms=(0.8,0.7),\n",
        "                   callbacks=[SaveModelCallback(learn_bkwd, every='improvement', monitor='accuracy', \n",
        "                                                             name='classifier_bkwd_final')])\n",
        "\n",
        "learn_bkwd.recorder.plot_losses()"
      ],
      "execution_count": 50,
      "outputs": [
        {
          "output_type": "display_data",
          "data": {
            "text/html": [
              "<table border=\"1\" class=\"dataframe\">\n",
              "  <thead>\n",
              "    <tr style=\"text-align: left;\">\n",
              "      <th>epoch</th>\n",
              "      <th>train_loss</th>\n",
              "      <th>valid_loss</th>\n",
              "      <th>accuracy</th>\n",
              "      <th>time</th>\n",
              "    </tr>\n",
              "  </thead>\n",
              "  <tbody>\n",
              "    <tr>\n",
              "      <td>0</td>\n",
              "      <td>0.529559</td>\n",
              "      <td>0.708241</td>\n",
              "      <td>0.849597</td>\n",
              "      <td>01:11</td>\n",
              "    </tr>\n",
              "    <tr>\n",
              "      <td>1</td>\n",
              "      <td>0.531911</td>\n",
              "      <td>0.702030</td>\n",
              "      <td>0.844226</td>\n",
              "      <td>01:17</td>\n",
              "    </tr>\n",
              "    <tr>\n",
              "      <td>2</td>\n",
              "      <td>0.544341</td>\n",
              "      <td>0.734181</td>\n",
              "      <td>0.851388</td>\n",
              "      <td>01:21</td>\n",
              "    </tr>\n",
              "    <tr>\n",
              "      <td>3</td>\n",
              "      <td>0.526907</td>\n",
              "      <td>0.682158</td>\n",
              "      <td>0.863026</td>\n",
              "      <td>01:12</td>\n",
              "    </tr>\n",
              "    <tr>\n",
              "      <td>4</td>\n",
              "      <td>0.516190</td>\n",
              "      <td>0.664731</td>\n",
              "      <td>0.858550</td>\n",
              "      <td>01:08</td>\n",
              "    </tr>\n",
              "    <tr>\n",
              "      <td>5</td>\n",
              "      <td>0.500633</td>\n",
              "      <td>0.664756</td>\n",
              "      <td>0.868397</td>\n",
              "      <td>01:12</td>\n",
              "    </tr>\n",
              "    <tr>\n",
              "      <td>6</td>\n",
              "      <td>0.465113</td>\n",
              "      <td>0.643727</td>\n",
              "      <td>0.868397</td>\n",
              "      <td>01:11</td>\n",
              "    </tr>\n",
              "    <tr>\n",
              "      <td>7</td>\n",
              "      <td>0.442286</td>\n",
              "      <td>0.635920</td>\n",
              "      <td>0.867502</td>\n",
              "      <td>01:21</td>\n",
              "    </tr>\n",
              "    <tr>\n",
              "      <td>8</td>\n",
              "      <td>0.458749</td>\n",
              "      <td>0.643102</td>\n",
              "      <td>0.867502</td>\n",
              "      <td>01:12</td>\n",
              "    </tr>\n",
              "    <tr>\n",
              "      <td>9</td>\n",
              "      <td>0.460221</td>\n",
              "      <td>0.648524</td>\n",
              "      <td>0.865712</td>\n",
              "      <td>01:19</td>\n",
              "    </tr>\n",
              "  </tbody>\n",
              "</table>"
            ],
            "text/plain": [
              "<IPython.core.display.HTML object>"
            ]
          },
          "metadata": {
            "tags": []
          }
        },
        {
          "output_type": "stream",
          "text": [
            "Better model found at epoch 0 with accuracy value: 0.849597156047821.\n",
            "Better model found at epoch 2 with accuracy value: 0.851387619972229.\n",
            "Better model found at epoch 3 with accuracy value: 0.863025963306427.\n",
            "Better model found at epoch 5 with accuracy value: 0.8683974742889404.\n"
          ],
          "name": "stdout"
        },
        {
          "output_type": "display_data",
          "data": {
            "image/png": "[encoded data removed]",
            "text/plain": [
              "<Figure size 432x288 with 1 Axes>"
            ]
          },
          "metadata": {
            "tags": []
          }
        }
      ]
    },
    {
      "cell_type": "markdown",
      "metadata": {
        "colab_type": "text",
        "id": "rW1OqjeFp7Gv"
      },
      "source": [
        "Optional additional training"
      ]
    },
    {
      "cell_type": "code",
      "metadata": {
        "colab_type": "code",
        "id": "1IClFlMwp7Gw",
        "colab": {}
      },
      "source": [
        "# learn.load('radam_classifier_final');\n",
        "\n",
        "\n",
        "# learn.fit_one_cycle(10,\n",
        "#                    slice(lr/(2.6**4),lr), \n",
        "#                    moms=(0.8,0.7),\n",
        "#                    callbacks=[SaveModelCallback(learn, every='improvement', monitor='accuracy', \n",
        "#                                                              name='radam_classifier_final_2')])\n",
        "\n",
        "# learn.recorder.plot_losses()"
      ],
      "execution_count": 0,
      "outputs": []
    },
    {
      "cell_type": "markdown",
      "metadata": {
        "colab_type": "text",
        "id": "kIteleiqp7Gx"
      },
      "source": [
        "Additional training doesn't seem to benefit \n",
        "\n",
        "final accuracy approximately 0.86571"
      ]
    },
    {
      "cell_type": "markdown",
      "metadata": {
        "colab_type": "text",
        "id": "u0lo6w2bp7Gz"
      },
      "source": [
        "Exporting model"
      ]
    },
    {
      "cell_type": "code",
      "metadata": {
        "colab_type": "code",
        "id": "H3r0v6ryp7G0",
        "colab": {}
      },
      "source": [
        "learn_bkwd.load('classifier_bkwd_final');\n",
        "\n",
        "learn_bkwd.export()"
      ],
      "execution_count": 0,
      "outputs": []
    },
    {
      "cell_type": "code",
      "metadata": {
        "id": "T23SzMeEDNbm",
        "colab_type": "code",
        "colab": {}
      },
      "source": [
        ""
      ],
      "execution_count": 0,
      "outputs": []
    }
  ]
}