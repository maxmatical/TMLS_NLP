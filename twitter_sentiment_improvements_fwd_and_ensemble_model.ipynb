{
  "nbformat": 4,
  "nbformat_minor": 0,
  "metadata": {
    "colab": {
      "name": "twitter_sentiment_improvements_fwd_and_ensemble_model.ipynb",
      "provenance": [],
      "collapsed_sections": [],
      "toc_visible": true,
      "include_colab_link": true
    },
    "kernelspec": {
      "name": "python3",
      "display_name": "Python 3"
    },
    "accelerator": "GPU"
  },
  "cells": [
    {
      "cell_type": "markdown",
      "metadata": {
        "id": "view-in-github",
        "colab_type": "text"
      },
      "source": [
        "<a href=\"https://colab.research.google.com/github/maxmatical/TMLS_NLP/blob/master/twitter_sentiment_improvements_fwd_and_ensemble_model.ipynb\" target=\"_parent\"><img src=\"https://colab.research.google.com/assets/colab-badge.svg\" alt=\"Open In Colab\"/></a>"
      ]
    },
    {
      "cell_type": "code",
      "metadata": {
        "id": "QMgx99NYbpIV",
        "colab_type": "code",
        "colab": {}
      },
      "source": [
        "%%capture\n",
        "!pip install git+https://github.com/fastai/fastai.git"
      ],
      "execution_count": 0,
      "outputs": []
    },
    {
      "cell_type": "code",
      "metadata": {
        "id": "YnCNplZFCBp4",
        "colab_type": "code",
        "outputId": "da70ac17-63ba-4c55-fe98-a90cbc500c9b",
        "colab": {
          "base_uri": "https://localhost:8080/",
          "height": 52
        }
      },
      "source": [
        "# Set up environment and download course-v3\n",
        "!curl -s https://course.fast.ai/setup/colab | bash"
      ],
      "execution_count": 2,
      "outputs": [
        {
          "output_type": "stream",
          "text": [
            "Updating fastai...\n",
            "Done.\n"
          ],
          "name": "stdout"
        }
      ]
    },
    {
      "cell_type": "code",
      "metadata": {
        "id": "qKq5YwwRCM5r",
        "colab_type": "code",
        "outputId": "cbd38abd-1207-4d73-ae21-f18483d4b211",
        "colab": {
          "base_uri": "https://localhost:8080/",
          "height": 697
        }
      },
      "source": [
        "import numpy as np\n",
        "import pandas as pd\n",
        "from matplotlib import pyplot as plt\n",
        "\n",
        "from fastai import *\n",
        "from fastai.text import *\n",
        "from fastai.utils.show_install import *\n",
        "from fastai.callbacks import *\n",
        "show_install()"
      ],
      "execution_count": 3,
      "outputs": [
        {
          "output_type": "stream",
          "text": [
            "\n",
            "\n",
            "```text\n",
            "=== Software === \n",
            "python        : 3.6.8\n",
            "fastai        : 1.0.60.dev0\n",
            "fastprogress  : 0.1.21\n",
            "torch         : 1.3.0+cu100\n",
            "nvidia driver : 418.67\n",
            "torch cuda    : 10.0.130 / is available\n",
            "torch cudnn   : 7603 / is enabled\n",
            "\n",
            "=== Hardware === \n",
            "nvidia gpus   : 1\n",
            "torch devices : 1\n",
            "  - gpu0      : 11441MB | Tesla K80\n",
            "\n",
            "=== Environment === \n",
            "platform      : Linux-4.14.137+-x86_64-with-Ubuntu-18.04-bionic\n",
            "distro        : #1 SMP Thu Aug 8 02:47:02 PDT 2019\n",
            "conda env     : Unknown\n",
            "python        : /usr/bin/python3\n",
            "sys.path      : \n",
            "/env/python\n",
            "/usr/lib/python36.zip\n",
            "/usr/lib/python3.6\n",
            "/usr/lib/python3.6/lib-dynload\n",
            "/usr/local/lib/python3.6/dist-packages\n",
            "/usr/lib/python3/dist-packages\n",
            "/usr/local/lib/python3.6/dist-packages/IPython/extensions\n",
            "/root/.ipython\n",
            "```\n",
            "\n",
            "Please make sure to include opening/closing ``` when you paste into forums/github to make the reports appear formatted as code sections.\n",
            "\n",
            "Optional package(s) to enhance the diagnostics can be installed with:\n",
            "pip install distro\n",
            "Once installed, re-run this utility to get the additional information\n"
          ],
          "name": "stdout"
        }
      ]
    },
    {
      "cell_type": "markdown",
      "metadata": {
        "id": "jYky0SyQCZPU",
        "colab_type": "text"
      },
      "source": [
        "# EDA"
      ]
    },
    {
      "cell_type": "code",
      "metadata": {
        "id": "g8bWDpNtCQNY",
        "colab_type": "code",
        "colab": {}
      },
      "source": [
        "df = pd.read_csv('testset1.csv')"
      ],
      "execution_count": 0,
      "outputs": []
    },
    {
      "cell_type": "code",
      "metadata": {
        "id": "RLdscs8CCd--",
        "colab_type": "code",
        "outputId": "e46b877d-8ccb-4612-e1cb-fb6758efb261",
        "colab": {
          "base_uri": "https://localhost:8080/",
          "height": 224
        }
      },
      "source": [
        "print(len(df))\n",
        "\n",
        "df.head(5)"
      ],
      "execution_count": 9,
      "outputs": [
        {
          "output_type": "stream",
          "text": [
            "5585\n"
          ],
          "name": "stdout"
        },
        {
          "output_type": "execute_result",
          "data": {
            "text/html": [
              "<div>\n",
              "<style scoped>\n",
              "    .dataframe tbody tr th:only-of-type {\n",
              "        vertical-align: middle;\n",
              "    }\n",
              "\n",
              "    .dataframe tbody tr th {\n",
              "        vertical-align: top;\n",
              "    }\n",
              "\n",
              "    .dataframe thead th {\n",
              "        text-align: right;\n",
              "    }\n",
              "</style>\n",
              "<table border=\"1\" class=\"dataframe\">\n",
              "  <thead>\n",
              "    <tr style=\"text-align: right;\">\n",
              "      <th></th>\n",
              "      <th>id</th>\n",
              "      <th>name</th>\n",
              "      <th>date</th>\n",
              "      <th>text</th>\n",
              "      <th>location</th>\n",
              "      <th>sentiment</th>\n",
              "    </tr>\n",
              "  </thead>\n",
              "  <tbody>\n",
              "    <tr>\n",
              "      <th>0</th>\n",
              "      <td>1.130000e+18</td>\n",
              "      <td>Evolutionomics</td>\n",
              "      <td>Sun May 19 23:57:10 +0000 2019</td>\n",
              "      <td>By combining short positions on #Gold $GOLD $G...</td>\n",
              "      <td>NaN</td>\n",
              "      <td>bearish</td>\n",
              "    </tr>\n",
              "    <tr>\n",
              "      <th>1</th>\n",
              "      <td>1.130000e+18</td>\n",
              "      <td>macrohedged</td>\n",
              "      <td>Sun May 19 23:55:02 +0000 2019</td>\n",
              "      <td>Here are the #Volatility levels for the majors...</td>\n",
              "      <td>England</td>\n",
              "      <td>unrelated</td>\n",
              "    </tr>\n",
              "    <tr>\n",
              "      <th>2</th>\n",
              "      <td>1.130000e+18</td>\n",
              "      <td>Evolutionomics</td>\n",
              "      <td>Sun May 19 23:54:06 +0000 2019</td>\n",
              "      <td>We have little insight into what will happen t...</td>\n",
              "      <td>NaN</td>\n",
              "      <td>neutral</td>\n",
              "    </tr>\n",
              "    <tr>\n",
              "      <th>3</th>\n",
              "      <td>1.130000e+18</td>\n",
              "      <td>Evolutionomics</td>\n",
              "      <td>Sun May 19 23:50:59 +0000 2019</td>\n",
              "      <td>This brings us to #Gold miners. As a group, $G...</td>\n",
              "      <td>NaN</td>\n",
              "      <td>neutral</td>\n",
              "    </tr>\n",
              "    <tr>\n",
              "      <th>4</th>\n",
              "      <td>1.130000e+18</td>\n",
              "      <td>macrohedged</td>\n",
              "      <td>Sun May 19 23:50:04 +0000 2019</td>\n",
              "      <td>Good morning Asia, here are the benchmark futu...</td>\n",
              "      <td>England</td>\n",
              "      <td>unrelated</td>\n",
              "    </tr>\n",
              "  </tbody>\n",
              "</table>\n",
              "</div>"
            ],
            "text/plain": [
              "             id            name  ... location  sentiment\n",
              "0  1.130000e+18  Evolutionomics  ...      NaN    bearish\n",
              "1  1.130000e+18     macrohedged  ...  England  unrelated\n",
              "2  1.130000e+18  Evolutionomics  ...      NaN    neutral\n",
              "3  1.130000e+18  Evolutionomics  ...      NaN    neutral\n",
              "4  1.130000e+18     macrohedged  ...  England  unrelated\n",
              "\n",
              "[5 rows x 6 columns]"
            ]
          },
          "metadata": {
            "tags": []
          },
          "execution_count": 9
        }
      ]
    },
    {
      "cell_type": "code",
      "metadata": {
        "id": "liW3zbbzCktu",
        "colab_type": "code",
        "outputId": "e5cae54a-996c-4145-d458-1873b3e0f197",
        "colab": {
          "base_uri": "https://localhost:8080/",
          "height": 324
        }
      },
      "source": [
        "df['sentiment'].value_counts().plot(kind='bar')"
      ],
      "execution_count": 10,
      "outputs": [
        {
          "output_type": "execute_result",
          "data": {
            "text/plain": [
              "<matplotlib.axes._subplots.AxesSubplot at 0x7ff8dc422278>"
            ]
          },
          "metadata": {
            "tags": []
          },
          "execution_count": 10
        },
        {
          "output_type": "display_data",
          "data": {
            "image/png": "[encoded data removed]",
            "text/plain": [
              "<Figure size 432x288 with 1 Axes>"
            ]
          },
          "metadata": {
            "tags": []
          }
        }
      ]
    },
    {
      "cell_type": "markdown",
      "metadata": {
        "id": "XscVftJYDTQt",
        "colab_type": "text"
      },
      "source": [
        "Unrelated and neutral sentiments dominate the data currently (although this might not be the case in the future with the full dataset). It might be better to use a stratified sampling technique for classification"
      ]
    },
    {
      "cell_type": "code",
      "metadata": {
        "id": "x-GUhvxkELES",
        "colab_type": "code",
        "outputId": "7ede62c1-ba0e-43d6-8c87-416f7025bc2b",
        "colab": {
          "base_uri": "https://localhost:8080/",
          "height": 52
        }
      },
      "source": [
        "from sklearn.model_selection import StratifiedShuffleSplit\n",
        "\n",
        "sss = StratifiedShuffleSplit(n_splits=5, test_size=0.2, random_state=0)\n",
        "sss.get_n_splits(df['text'], df['sentiment'])\n",
        "\n",
        "print(sss)\n",
        "\n"
      ],
      "execution_count": 11,
      "outputs": [
        {
          "output_type": "stream",
          "text": [
            "StratifiedShuffleSplit(n_splits=5, random_state=0, test_size=0.2,\n",
            "            train_size=None)\n"
          ],
          "name": "stdout"
        }
      ]
    },
    {
      "cell_type": "code",
      "metadata": {
        "id": "THDVEb8tFFGN",
        "colab_type": "code",
        "outputId": "7b601bba-c60b-4d3b-cc60-25dd3f4c75ac",
        "colab": {
          "base_uri": "https://localhost:8080/",
          "height": 34
        }
      },
      "source": [
        "train_idx, val_idx = next(sss.split(df['text'], df['sentiment']))\n",
        "\n",
        "print(len(train_idx), len(val_idx))"
      ],
      "execution_count": 12,
      "outputs": [
        {
          "output_type": "stream",
          "text": [
            "4468 1117\n"
          ],
          "name": "stdout"
        }
      ]
    },
    {
      "cell_type": "markdown",
      "metadata": {
        "id": "YnI14U3zKskb",
        "colab_type": "text"
      },
      "source": [
        "Verifying that the stratified split preseves the distribution of the labels"
      ]
    },
    {
      "cell_type": "code",
      "metadata": {
        "id": "QPqoB9P-JzhJ",
        "colab_type": "code",
        "colab": {}
      },
      "source": [
        "df_train = df.iloc[train_idx, :]\n",
        "df_val = df.iloc[val_idx, :]"
      ],
      "execution_count": 0,
      "outputs": []
    },
    {
      "cell_type": "code",
      "metadata": {
        "id": "loavhYCJKdmz",
        "colab_type": "code",
        "outputId": "58ee9c91-9e4f-4c96-9378-3223ee5c8764",
        "colab": {
          "base_uri": "https://localhost:8080/",
          "height": 321
        }
      },
      "source": [
        "df_train['sentiment'].value_counts().plot(kind='bar')"
      ],
      "execution_count": 14,
      "outputs": [
        {
          "output_type": "execute_result",
          "data": {
            "text/plain": [
              "<matplotlib.axes._subplots.AxesSubplot at 0x7ff8d97c1048>"
            ]
          },
          "metadata": {
            "tags": []
          },
          "execution_count": 14
        },
        {
          "output_type": "display_data",
          "data": {
            "image/png": "[encoded data removed]",
            "text/plain": [
              "<Figure size 432x288 with 1 Axes>"
            ]
          },
          "metadata": {
            "tags": []
          }
        }
      ]
    },
    {
      "cell_type": "code",
      "metadata": {
        "id": "MaoWfiBQKQG2",
        "colab_type": "code",
        "outputId": "297aaa5a-d3b7-44d4-ace5-12864fc612c2",
        "colab": {
          "base_uri": "https://localhost:8080/",
          "height": 323
        }
      },
      "source": [
        "df_val['sentiment'].value_counts().plot(kind='bar')"
      ],
      "execution_count": 15,
      "outputs": [
        {
          "output_type": "execute_result",
          "data": {
            "text/plain": [
              "<matplotlib.axes._subplots.AxesSubplot at 0x7ff8d978b5f8>"
            ]
          },
          "metadata": {
            "tags": []
          },
          "execution_count": 15
        },
        {
          "output_type": "display_data",
          "data": {
            "image/png": "[encoded data removed]",
            "text/plain": [
              "<Figure size 432x288 with 1 Axes>"
            ]
          },
          "metadata": {
            "tags": []
          }
        }
      ]
    },
    {
      "cell_type": "markdown",
      "metadata": {
        "id": "mrWWL-PxKiZt",
        "colab_type": "text"
      },
      "source": [
        "Looks like the distribution of the labels in train and val are the same, so we can start modelling now"
      ]
    },
    {
      "cell_type": "markdown",
      "metadata": {
        "id": "lnlWeHCMCsPI",
        "colab_type": "text"
      },
      "source": [
        "# Handling Imbalanced Data: Oversampling"
      ]
    },
    {
      "cell_type": "code",
      "metadata": {
        "id": "LXjuHfxDD0fw",
        "colab_type": "code",
        "colab": {}
      },
      "source": [
        "df_class_bull = df_train[df_train['sentiment'] == 'bullish']\n",
        "df_class_bear = df_train[df_train['sentiment'] == 'bearish']\n",
        "df_class_neutral = df_train[df_train['sentiment'] == 'neutral']\n",
        "df_class_unrelated = df_train[df_train['sentiment'] == 'unrelated']\n",
        "\n"
      ],
      "execution_count": 0,
      "outputs": []
    },
    {
      "cell_type": "code",
      "metadata": {
        "id": "T5yI-FewEDT-",
        "colab_type": "code",
        "outputId": "aef6a038-720a-48f9-98ed-f67b8ab3c74a",
        "colab": {
          "base_uri": "https://localhost:8080/",
          "height": 34
        }
      },
      "source": [
        "print(len(df_class_unrelated))"
      ],
      "execution_count": 17,
      "outputs": [
        {
          "output_type": "stream",
          "text": [
            "2298\n"
          ],
          "name": "stdout"
        }
      ]
    },
    {
      "cell_type": "markdown",
      "metadata": {
        "id": "SbBCJgpZEk8O",
        "colab_type": "text"
      },
      "source": [
        "Want to oversample so that every class has 2298 counts"
      ]
    },
    {
      "cell_type": "code",
      "metadata": {
        "id": "FcT0MDt8EoSn",
        "colab_type": "code",
        "colab": {}
      },
      "source": [
        "df_class_bull_over = df_class_bull.sample(len(df_class_unrelated), replace = True)\n",
        "df_class_bear_over = df_class_bear.sample(len(df_class_unrelated), replace = True)\n",
        "df_class_neutral_over = df_class_neutral.sample(len(df_class_unrelated), replace = True)\n",
        "\n",
        "\n",
        "df_train_oversampled = pd.concat([df_class_bull_over, df_class_bear_over, df_class_neutral_over, df_class_unrelated], axis = 0)\n",
        "\n"
      ],
      "execution_count": 0,
      "outputs": []
    },
    {
      "cell_type": "markdown",
      "metadata": {
        "id": "kxoV7EH5FPIY",
        "colab_type": "text"
      },
      "source": [
        "Look at distribution of the labels in the oversampled data"
      ]
    },
    {
      "cell_type": "code",
      "metadata": {
        "id": "xA3owdg9FMWP",
        "colab_type": "code",
        "outputId": "b7dbe4de-cf59-48c6-dc1f-4e307ea3ee86",
        "colab": {
          "base_uri": "https://localhost:8080/",
          "height": 321
        }
      },
      "source": [
        "df_train_oversampled['sentiment'].value_counts().plot(kind='bar')"
      ],
      "execution_count": 19,
      "outputs": [
        {
          "output_type": "execute_result",
          "data": {
            "text/plain": [
              "<matplotlib.axes._subplots.AxesSubplot at 0x7ff8d96e2a20>"
            ]
          },
          "metadata": {
            "tags": []
          },
          "execution_count": 19
        },
        {
          "output_type": "display_data",
          "data": {
            "image/png": "[encoded data removed]",
            "text/plain": [
              "<Figure size 432x288 with 1 Axes>"
            ]
          },
          "metadata": {
            "tags": []
          }
        }
      ]
    },
    {
      "cell_type": "markdown",
      "metadata": {
        "id": "URdbzs4tDkAv",
        "colab_type": "text"
      },
      "source": [
        "# Setting up data"
      ]
    },
    {
      "cell_type": "code",
      "metadata": {
        "id": "F80cVObhDAwN",
        "colab_type": "code",
        "colab": {}
      },
      "source": [
        "PATH = '/content/'\n"
      ],
      "execution_count": 0,
      "outputs": []
    },
    {
      "cell_type": "code",
      "metadata": {
        "id": "axHubSwEgG9J",
        "colab_type": "code",
        "outputId": "e98245be-9746-4e40-c3cd-a89603694215",
        "colab": {
          "base_uri": "https://localhost:8080/",
          "height": 34
        }
      },
      "source": [
        "ls{PATH}"
      ],
      "execution_count": 21,
      "outputs": [
        {
          "output_type": "stream",
          "text": [
            "\u001b[0m\u001b[01;36mdata\u001b[0m@  \u001b[01;36mmodels\u001b[0m@  testset1.csv\n"
          ],
          "name": "stdout"
        }
      ]
    },
    {
      "cell_type": "code",
      "metadata": {
        "id": "JWuZHdr2Dvea",
        "colab_type": "code",
        "colab": {}
      },
      "source": [
        "bs = 128"
      ],
      "execution_count": 0,
      "outputs": []
    },
    {
      "cell_type": "code",
      "metadata": {
        "id": "CzpFdPEIDx3C",
        "colab_type": "code",
        "colab": {}
      },
      "source": [
        "# data_lm = TextLMDataBunch.from_df(path = PATH, \n",
        "#                                   train_df = df_train_oversampled,\n",
        "#                                   valid_df = df_val,\n",
        "#                                   text_cols='text',\n",
        "#                                   min_freq = 3,\n",
        "#                                   bs = bs) \n",
        "\n",
        "\"\"\"\n",
        "Original databunch, no need for oversampling since were not doing classification\n",
        "so we don't need to worry about class imbalance\n",
        "\n",
        "\"\"\"\n",
        "data_lm = TextLMDataBunch.from_csv(path = PATH, \n",
        "                                   csv_name = 'testset1.csv', \n",
        "                                   text_cols='text',\n",
        "                                   valid_pct = 0.1,\n",
        "                                   min_freq = 3,\n",
        "                                   bs = bs) \n",
        "\n",
        "\n",
        "data_lm.save('data_lm_fwd')\n"
      ],
      "execution_count": 0,
      "outputs": []
    },
    {
      "cell_type": "code",
      "metadata": {
        "id": "Z90o1knEjWpF",
        "colab_type": "code",
        "colab": {}
      },
      "source": [
        "\n",
        "data_clas = TextClasDataBunch.from_df(path = PATH,\n",
        "                                        train_df = df_train_oversampled,\n",
        "                                        valid_df = df_val,\n",
        "                                        vocab = data_lm.train_ds.vocab,\n",
        "                                        text_cols = 'text',\n",
        "                                        label_cols = 'sentiment',\n",
        "                                        bs = bs)\n",
        "\n",
        "\n",
        "data_clas.save('data_clas_fwd')\n"
      ],
      "execution_count": 0,
      "outputs": []
    },
    {
      "cell_type": "markdown",
      "metadata": {
        "colab_type": "text",
        "id": "42rRI25ZXLRt"
      },
      "source": [
        "# Training forward model\n"
      ]
    },
    {
      "cell_type": "markdown",
      "metadata": {
        "colab_type": "text",
        "id": "3C1sDfiRXLSP"
      },
      "source": [
        "## Language Model\n",
        "\n"
      ]
    },
    {
      "cell_type": "code",
      "metadata": {
        "colab_type": "code",
        "id": "p2nla5LOXLSS",
        "colab": {}
      },
      "source": [
        "data_lm = load_data(PATH, 'data_lm_fwd', bs = bs)"
      ],
      "execution_count": 0,
      "outputs": []
    },
    {
      "cell_type": "markdown",
      "metadata": {
        "colab_type": "text",
        "id": "KTPILPpzXLSf"
      },
      "source": [
        "Look at what the preprocessed text looks like"
      ]
    },
    {
      "cell_type": "code",
      "metadata": {
        "colab_type": "code",
        "outputId": "570805b1-e684-48a6-ee25-32faa07b391f",
        "id": "pIVL3pbEXLSj",
        "colab": {
          "base_uri": "https://localhost:8080/",
          "height": 363
        }
      },
      "source": [
        "data_lm.show_batch()"
      ],
      "execution_count": 26,
      "outputs": [
        {
          "output_type": "display_data",
          "data": {
            "text/html": [
              "<table border=\"1\" class=\"dataframe\">\n",
              "  <thead>\n",
              "    <tr style=\"text-align: right;\">\n",
              "      <th>idx</th>\n",
              "      <th>text</th>\n",
              "    </tr>\n",
              "  </thead>\n",
              "  <tbody>\n",
              "    <tr>\n",
              "      <td>0</td>\n",
              "      <td>sentiment , then we continue down . $ gold to 1320 . https : / / t.co / tioikccioi xxbos xxmaj long $ gold $ gc https : / / t.co / xxunk xxbos xxmaj how # hedgefunds are positioned in futures . $ xxup tnx $ xxup tyx $ xxup spx $ xxup rut $ xxup ndx $ xxup vix $ xxup gld $ xxup eur $ xxup usd</td>\n",
              "    </tr>\n",
              "    <tr>\n",
              "      <td>1</td>\n",
              "      <td>) ( xxup nyse : $ xxup trx ) https : / / t.co / xxunk xxbos $ xxup gld rose by xxunk % . xxmaj currently xxunk at xxunk . https : / / t.co / xxunk xxbos xxmaj gold xxmaj miners could start a new rally from this price point , says xxmaj joe xxmaj friday . xxmaj one of the most important support tests in years is</td>\n",
              "    </tr>\n",
              "    <tr>\n",
              "      <td>2</td>\n",
              "      <td>/ / t.co / 5cmhudsbq6 xxbos xxmaj gold | $ xxup gold | $ xxup xau $ xxup usd \\n \\n  xxup gold xxmaj long \\n \\n  xxmaj long or short it on xxup wcx : https : / / t.co / gfnsxoenz8 https : / / t.co / xxunk xxbos xxmaj it was a pleasure speaking with @lukegromen \\n  recently . xxmaj interesting his pointing out</td>\n",
              "    </tr>\n",
              "    <tr>\n",
              "      <td>3</td>\n",
              "      <td>is $ 1255 - 60 - this is the intersection of the 200dma and the uptrendline from the xxmaj august low https : / / t.co / ayikquvrch xxbos * xxmaj broken xxmaj record xxmaj alert * xxmaj junior xxmaj miners weekly still \" bullish \" longer - term and will soon break higher . \\n  $ xxup gdxj $ xxup gld # xxmaj gold # goldminers # preciousmetals</td>\n",
              "    </tr>\n",
              "    <tr>\n",
              "      <td>4</td>\n",
              "      <td>like xxmaj gold should be safe now from more downside \\n \\n  # xxmaj metals $ xxup gc # xxup gc # xxup gld $ xxup gld https : / / t.co / 43das3yitl xxbos i still think xxunk is a xxunk target for $ xxmaj gold by year 's end . xxbos xxmaj read our xxup free xxmaj online xxmaj daily xxmaj newspaper , catch up with latest</td>\n",
              "    </tr>\n",
              "  </tbody>\n",
              "</table>"
            ],
            "text/plain": [
              "<IPython.core.display.HTML object>"
            ]
          },
          "metadata": {
            "tags": []
          }
        }
      ]
    },
    {
      "cell_type": "code",
      "metadata": {
        "colab_type": "code",
        "id": "Un5HmTZaXLSq",
        "colab": {}
      },
      "source": [
        "\"\"\"\n",
        "Default AdamW\n",
        "\"\"\"\n",
        "\n",
        "\n",
        "learn = language_model_learner(data_lm, \n",
        "                               arch=AWD_LSTM, \n",
        "                               loss_func = FlattenedLoss(LabelSmoothingCrossEntropy, axis=-1),\n",
        "                               drop_mult=1.).to_fp16()\n"
      ],
      "execution_count": 0,
      "outputs": []
    },
    {
      "cell_type": "code",
      "metadata": {
        "colab_type": "code",
        "outputId": "ab3e4cfe-f234-4c34-aafb-d806a56ef827",
        "id": "ZnM-pNqrXLSy",
        "colab": {
          "base_uri": "https://localhost:8080/",
          "height": 335
        }
      },
      "source": [
        "learn.lr_find()\n",
        "learn.recorder.plot(suggestion = True, skip_end=15)"
      ],
      "execution_count": 28,
      "outputs": [
        {
          "output_type": "display_data",
          "data": {
            "text/html": [
              ""
            ],
            "text/plain": [
              "<IPython.core.display.HTML object>"
            ]
          },
          "metadata": {
            "tags": []
          }
        },
        {
          "output_type": "stream",
          "text": [
            "LR Finder is complete, type {learner_name}.recorder.plot() to see the graph.\n",
            "Min numerical gradient: 1.00E-01\n",
            "Min loss divided by 10: 5.25E-02\n"
          ],
          "name": "stdout"
        },
        {
          "output_type": "display_data",
          "data": {
            "image/png": "[encoded data removed]",
            "text/plain": [
              "<Figure size 432x288 with 1 Axes>"
            ]
          },
          "metadata": {
            "tags": []
          }
        }
      ]
    },
    {
      "cell_type": "markdown",
      "metadata": {
        "id": "aqBGk1OpZFqR",
        "colab_type": "text"
      },
      "source": [
        "fitting learner\n",
        "\n",
        "fit_fc for new optimizers\n",
        "\n",
        "fit_one_cycle for adamw/lamb/LookaheadAdam"
      ]
    },
    {
      "cell_type": "code",
      "metadata": {
        "colab_type": "code",
        "id": "l9weMXktXLS5",
        "outputId": "4a2e4368-44c8-4cdb-e1ef-85575bf7d376",
        "colab": {
          "base_uri": "https://localhost:8080/",
          "height": 799
        }
      },
      "source": [
        "lr_init = 0.1\n",
        "lr = lr_init\n",
        "\n",
        "\n",
        "\"\"\"\n",
        "1 cycle policy\n",
        "\n",
        "\"\"\"\n",
        "\n",
        "learn.fit_one_cycle(10,\n",
        "                   lr,\n",
        "                   moms=(0.8,0.7),\n",
        "                   callbacks=[SaveModelCallback(learn, every='improvement', monitor='accuracy', \n",
        "                                                             name='lm_stage1')])\n",
        "\n",
        "\n",
        "\"\"\"\n",
        "1 cycle policy without clipping momentum\n",
        "\n",
        "\"\"\"\n",
        "\n",
        "# learn.fit_one_cycle(5,\n",
        "#                    lr,\n",
        "#                    callbacks=[SaveModelCallback(learn, every='improvement', monitor='accuracy', \n",
        "#                                                              name='lm_stage1'),])\n",
        "\n",
        "learn.recorder.plot_losses()"
      ],
      "execution_count": 29,
      "outputs": [
        {
          "output_type": "display_data",
          "data": {
            "text/html": [
              "<table border=\"1\" class=\"dataframe\">\n",
              "  <thead>\n",
              "    <tr style=\"text-align: left;\">\n",
              "      <th>epoch</th>\n",
              "      <th>train_loss</th>\n",
              "      <th>valid_loss</th>\n",
              "      <th>accuracy</th>\n",
              "      <th>time</th>\n",
              "    </tr>\n",
              "  </thead>\n",
              "  <tbody>\n",
              "    <tr>\n",
              "      <td>0</td>\n",
              "      <td>4.591938</td>\n",
              "      <td>3.093186</td>\n",
              "      <td>0.591674</td>\n",
              "      <td>00:29</td>\n",
              "    </tr>\n",
              "    <tr>\n",
              "      <td>1</td>\n",
              "      <td>3.534665</td>\n",
              "      <td>2.543967</td>\n",
              "      <td>0.723705</td>\n",
              "      <td>00:29</td>\n",
              "    </tr>\n",
              "    <tr>\n",
              "      <td>2</td>\n",
              "      <td>3.174967</td>\n",
              "      <td>2.528317</td>\n",
              "      <td>0.740491</td>\n",
              "      <td>00:29</td>\n",
              "    </tr>\n",
              "    <tr>\n",
              "      <td>3</td>\n",
              "      <td>2.985215</td>\n",
              "      <td>2.424199</td>\n",
              "      <td>0.762076</td>\n",
              "      <td>00:29</td>\n",
              "    </tr>\n",
              "    <tr>\n",
              "      <td>4</td>\n",
              "      <td>2.886685</td>\n",
              "      <td>2.400230</td>\n",
              "      <td>0.764130</td>\n",
              "      <td>00:29</td>\n",
              "    </tr>\n",
              "    <tr>\n",
              "      <td>5</td>\n",
              "      <td>2.774359</td>\n",
              "      <td>2.339348</td>\n",
              "      <td>0.778616</td>\n",
              "      <td>00:29</td>\n",
              "    </tr>\n",
              "    <tr>\n",
              "      <td>6</td>\n",
              "      <td>2.685539</td>\n",
              "      <td>2.289477</td>\n",
              "      <td>0.787411</td>\n",
              "      <td>00:29</td>\n",
              "    </tr>\n",
              "    <tr>\n",
              "      <td>7</td>\n",
              "      <td>2.598691</td>\n",
              "      <td>2.250554</td>\n",
              "      <td>0.793995</td>\n",
              "      <td>00:29</td>\n",
              "    </tr>\n",
              "    <tr>\n",
              "      <td>8</td>\n",
              "      <td>2.527482</td>\n",
              "      <td>2.234207</td>\n",
              "      <td>0.797723</td>\n",
              "      <td>00:29</td>\n",
              "    </tr>\n",
              "    <tr>\n",
              "      <td>9</td>\n",
              "      <td>2.473707</td>\n",
              "      <td>2.230591</td>\n",
              "      <td>0.798951</td>\n",
              "      <td>00:29</td>\n",
              "    </tr>\n",
              "  </tbody>\n",
              "</table>"
            ],
            "text/plain": [
              "<IPython.core.display.HTML object>"
            ]
          },
          "metadata": {
            "tags": []
          }
        },
        {
          "output_type": "stream",
          "text": [
            "Better model found at epoch 0 with accuracy value: 0.5916740894317627.\n",
            "Better model found at epoch 1 with accuracy value: 0.7237054109573364.\n",
            "Better model found at epoch 2 with accuracy value: 0.7404910922050476.\n",
            "Better model found at epoch 3 with accuracy value: 0.7620758414268494.\n",
            "Better model found at epoch 4 with accuracy value: 0.7641295194625854.\n",
            "Better model found at epoch 5 with accuracy value: 0.7786160707473755.\n",
            "Better model found at epoch 6 with accuracy value: 0.7874106764793396.\n",
            "Better model found at epoch 7 with accuracy value: 0.7939954996109009.\n",
            "Better model found at epoch 8 with accuracy value: 0.7977231740951538.\n",
            "Better model found at epoch 9 with accuracy value: 0.7989508509635925.\n"
          ],
          "name": "stdout"
        },
        {
          "output_type": "display_data",
          "data": {
            "image/png": "[encoded data removed]",
            "text/plain": [
              "<Figure size 432x288 with 1 Axes>"
            ]
          },
          "metadata": {
            "tags": []
          }
        }
      ]
    },
    {
      "cell_type": "code",
      "metadata": {
        "id": "PR56NNgqUIAH",
        "colab_type": "code",
        "outputId": "04604a06-801e-4848-d7a1-7a4e7170d70d",
        "colab": {
          "base_uri": "https://localhost:8080/",
          "height": 279
        }
      },
      "source": [
        "learn.recorder.plot_lr(show_moms=True)"
      ],
      "execution_count": 30,
      "outputs": [
        {
          "output_type": "display_data",
          "data": {
            "image/png": "[encoded data removed]",
            "text/plain": [
              "<Figure size 864x288 with 2 Axes>"
            ]
          },
          "metadata": {
            "tags": []
          }
        }
      ]
    },
    {
      "cell_type": "code",
      "metadata": {
        "colab_type": "code",
        "id": "LdoQyKfiXLTB",
        "colab": {}
      },
      "source": [
        "learn.load('lm_stage1');\n",
        "learn.unfreeze()\n"
      ],
      "execution_count": 0,
      "outputs": []
    },
    {
      "cell_type": "code",
      "metadata": {
        "colab_type": "code",
        "outputId": "3ad63d12-e148-431b-a273-2187cf1ba30e",
        "id": "DTHrAozkXLTK",
        "colab": {
          "base_uri": "https://localhost:8080/",
          "height": 799
        }
      },
      "source": [
        "# train with smaller LR in last layer\n",
        "lr =lr_init/10\n",
        "\n",
        "learn.fit_one_cycle(10,\n",
        "                   slice(lr/(2.6**4),lr),\n",
        "                   moms=(0.8,0.7),\n",
        "                   callbacks=[SaveModelCallback(learn, every='improvement', monitor='accuracy', \n",
        "                   name='lm_stage2')])\n",
        "\n",
        "\n",
        "learn.recorder.plot_losses()\n",
        "\n"
      ],
      "execution_count": 32,
      "outputs": [
        {
          "output_type": "display_data",
          "data": {
            "text/html": [
              "<table border=\"1\" class=\"dataframe\">\n",
              "  <thead>\n",
              "    <tr style=\"text-align: left;\">\n",
              "      <th>epoch</th>\n",
              "      <th>train_loss</th>\n",
              "      <th>valid_loss</th>\n",
              "      <th>accuracy</th>\n",
              "      <th>time</th>\n",
              "    </tr>\n",
              "  </thead>\n",
              "  <tbody>\n",
              "    <tr>\n",
              "      <td>0</td>\n",
              "      <td>2.382976</td>\n",
              "      <td>2.176516</td>\n",
              "      <td>0.802388</td>\n",
              "      <td>00:40</td>\n",
              "    </tr>\n",
              "    <tr>\n",
              "      <td>1</td>\n",
              "      <td>2.318691</td>\n",
              "      <td>2.110914</td>\n",
              "      <td>0.811629</td>\n",
              "      <td>00:40</td>\n",
              "    </tr>\n",
              "    <tr>\n",
              "      <td>2</td>\n",
              "      <td>2.256619</td>\n",
              "      <td>2.086051</td>\n",
              "      <td>0.817679</td>\n",
              "      <td>00:40</td>\n",
              "    </tr>\n",
              "    <tr>\n",
              "      <td>3</td>\n",
              "      <td>2.160916</td>\n",
              "      <td>2.017246</td>\n",
              "      <td>0.830692</td>\n",
              "      <td>00:40</td>\n",
              "    </tr>\n",
              "    <tr>\n",
              "      <td>4</td>\n",
              "      <td>2.075545</td>\n",
              "      <td>1.981940</td>\n",
              "      <td>0.836630</td>\n",
              "      <td>00:40</td>\n",
              "    </tr>\n",
              "    <tr>\n",
              "      <td>5</td>\n",
              "      <td>2.024832</td>\n",
              "      <td>1.955146</td>\n",
              "      <td>0.841473</td>\n",
              "      <td>00:40</td>\n",
              "    </tr>\n",
              "    <tr>\n",
              "      <td>6</td>\n",
              "      <td>1.974775</td>\n",
              "      <td>1.946366</td>\n",
              "      <td>0.844955</td>\n",
              "      <td>00:40</td>\n",
              "    </tr>\n",
              "    <tr>\n",
              "      <td>7</td>\n",
              "      <td>1.937437</td>\n",
              "      <td>1.941292</td>\n",
              "      <td>0.846696</td>\n",
              "      <td>00:40</td>\n",
              "    </tr>\n",
              "    <tr>\n",
              "      <td>8</td>\n",
              "      <td>1.903300</td>\n",
              "      <td>1.935013</td>\n",
              "      <td>0.848304</td>\n",
              "      <td>00:40</td>\n",
              "    </tr>\n",
              "    <tr>\n",
              "      <td>9</td>\n",
              "      <td>1.886495</td>\n",
              "      <td>1.931892</td>\n",
              "      <td>0.848973</td>\n",
              "      <td>00:40</td>\n",
              "    </tr>\n",
              "  </tbody>\n",
              "</table>"
            ],
            "text/plain": [
              "<IPython.core.display.HTML object>"
            ]
          },
          "metadata": {
            "tags": []
          }
        },
        {
          "output_type": "stream",
          "text": [
            "Better model found at epoch 0 with accuracy value: 0.8023883700370789.\n",
            "Better model found at epoch 1 with accuracy value: 0.8116294741630554.\n",
            "Better model found at epoch 2 with accuracy value: 0.8176785707473755.\n",
            "Better model found at epoch 3 with accuracy value: 0.8306919932365417.\n",
            "Better model found at epoch 4 with accuracy value: 0.8366295099258423.\n",
            "Better model found at epoch 5 with accuracy value: 0.8414732217788696.\n",
            "Better model found at epoch 6 with accuracy value: 0.844955325126648.\n",
            "Better model found at epoch 7 with accuracy value: 0.8466964960098267.\n",
            "Better model found at epoch 8 with accuracy value: 0.8483036160469055.\n",
            "Better model found at epoch 9 with accuracy value: 0.848973274230957.\n"
          ],
          "name": "stdout"
        },
        {
          "output_type": "display_data",
          "data": {
            "image/png": "[encoded data removed]",
            "text/plain": [
              "<Figure size 432x288 with 1 Axes>"
            ]
          },
          "metadata": {
            "tags": []
          }
        }
      ]
    },
    {
      "cell_type": "markdown",
      "metadata": {
        "colab_type": "text",
        "id": "mrr4LM-1XLTW"
      },
      "source": [
        "Testing the performance of our language model"
      ]
    },
    {
      "cell_type": "code",
      "metadata": {
        "colab_type": "code",
        "id": "dHuvdF0CXLTZ",
        "colab": {}
      },
      "source": [
        "learn.load('lm_stage2');"
      ],
      "execution_count": 0,
      "outputs": []
    },
    {
      "cell_type": "code",
      "metadata": {
        "colab_type": "code",
        "id": "frUNyztpXLTh",
        "outputId": "88c90a9d-e89f-4623-ab7d-52a7a7e311ae",
        "colab": {
          "base_uri": "https://localhost:8080/",
          "height": 34
        }
      },
      "source": [
        "learn.predict('$GLD is ', 20, temperature=0.25, min_p=0.001)"
      ],
      "execution_count": 34,
      "outputs": [
        {
          "output_type": "execute_result",
          "data": {
            "text/plain": [
              "\"$GLD is  now starting to take moves since 2018 . i 'll show that it might exceed to $ usdu $ yinn\""
            ]
          },
          "metadata": {
            "tags": []
          },
          "execution_count": 34
        }
      ]
    },
    {
      "cell_type": "markdown",
      "metadata": {
        "colab_type": "text",
        "id": "HpdqMDRaXLTp"
      },
      "source": [
        "Save encoder for classification"
      ]
    },
    {
      "cell_type": "code",
      "metadata": {
        "colab_type": "code",
        "id": "4Unx5UmUXLTs",
        "colab": {}
      },
      "source": [
        "learn.save_encoder('lm_encoder')"
      ],
      "execution_count": 0,
      "outputs": []
    },
    {
      "cell_type": "markdown",
      "metadata": {
        "colab_type": "text",
        "id": "VHlXyIGTXLTx"
      },
      "source": [
        "## Classifier"
      ]
    },
    {
      "cell_type": "code",
      "metadata": {
        "colab_type": "code",
        "id": "8Jedldv9XLT0",
        "colab": {}
      },
      "source": [
        "data_clas = load_data(PATH, 'data_clas_fwd', bs = bs)"
      ],
      "execution_count": 0,
      "outputs": []
    },
    {
      "cell_type": "markdown",
      "metadata": {
        "colab_type": "text",
        "id": "JPpNb-2XXLT5"
      },
      "source": [
        "Look at the data"
      ]
    },
    {
      "cell_type": "code",
      "metadata": {
        "colab_type": "code",
        "outputId": "a2e62b70-fe8e-40a0-bd3b-b133acc08903",
        "id": "4g97BaYxXLT7",
        "colab": {
          "base_uri": "https://localhost:8080/",
          "height": 310
        }
      },
      "source": [
        "data_clas.show_batch()"
      ],
      "execution_count": 37,
      "outputs": [
        {
          "output_type": "display_data",
          "data": {
            "text/html": [
              "<table border=\"1\" class=\"dataframe\">\n",
              "  <thead>\n",
              "    <tr style=\"text-align: right;\">\n",
              "      <th>text</th>\n",
              "      <th>target</th>\n",
              "    </tr>\n",
              "  </thead>\n",
              "  <tbody>\n",
              "    <tr>\n",
              "      <td>xxbos xxmaj we d ( 5 / 29 / 19 ) trading range &lt; 15 % ( xxmaj min $ 5 , xxmaj vol &gt; 750 k , xxmaj opt xxmaj vol in any strike &gt; 500 ) : $ xxup xxunk $ xxup bb $ xxup xxunk $ xxup xxunk $ xxup xxunk $ xxup stay $ xxup xxunk $ xxup xxunk $ xxup xxunk $ xxup xxunk $</td>\n",
              "      <td>unrelated</td>\n",
              "    </tr>\n",
              "    <tr>\n",
              "      <td>xxbos * * * xxmaj silver and xxmaj gold are on xxunk today xxrep 4 * \\n \\n  $ xxup xlf $ xxup bac $ xxup eem $ xxup gdx $ xxup uso $ xxup efa $ xxup spy $ xxup gld $ xxup slv $ xxup ftse $ xxup dax $ xxup spy $ xxup gld $ xxup slv $ xxup ftse $ xxup btc.x $ xxup xxunk</td>\n",
              "      <td>bullish</td>\n",
              "    </tr>\n",
              "    <tr>\n",
              "      <td>xxbos xxmaj xxunk of the year xxunk goes to xxunk . \\n  $ xxup spy $ xxup iwm $ xxup qqq $ xxup xli $ xxup xxunk $ xxup mmm $ xxup cat $ xxup ba $ xxup tlt $ xxup gld $ xxup cl_f $ xxup xle $ xxup xom $ xxup cvx $ xxup xlf $ xxup jpm $ xxup gs $ xxup xrt $ xxup xxunk</td>\n",
              "      <td>unrelated</td>\n",
              "    </tr>\n",
              "    <tr>\n",
              "      <td>xxbos ' # xxmaj oil xxmaj xxunk xxmaj xxunk as xxmaj market xxmaj falls . \\n \\n  xxmaj but # xxmaj safehaven xxmaj gold &lt; xxmaj is up today nicely . \\n \\n  $ xxup xlf $ xxup bac $ xxup eem $ xxup gdx $ xxup uso $ xxup efa $ xxup spy $ xxup gld $ xxup slv $ xxup ftse $ xxup dax $ xxup</td>\n",
              "      <td>bullish</td>\n",
              "    </tr>\n",
              "    <tr>\n",
              "      <td>xxbos # estate asset watch - most active stocks xxmaj friday - $ xxup amd $ xxup bac $ t $ f xxup xxunk $ xxup gps $ xxup jci $ xxup eca $ xxup vale $ xxup snap $ xxup teva $ xxup baba $ s $ xxup vz $ xxup siri $ xxup rig $ xxup uber $ xxup ntnx $ xxup aapl $ xxup xxunk $ xxup</td>\n",
              "      <td>unrelated</td>\n",
              "    </tr>\n",
              "  </tbody>\n",
              "</table>"
            ],
            "text/plain": [
              "<IPython.core.display.HTML object>"
            ]
          },
          "metadata": {
            "tags": []
          }
        }
      ]
    },
    {
      "cell_type": "markdown",
      "metadata": {
        "colab_type": "text",
        "id": "MQCrvakdXLUA"
      },
      "source": [
        "Making sure the vocab is the same between the language model and classifier"
      ]
    },
    {
      "cell_type": "code",
      "metadata": {
        "colab_type": "code",
        "id": "_wI_JTewXLUD",
        "colab": {}
      },
      "source": [
        "data_clas.vocab.itos = data_lm.vocab.itos"
      ],
      "execution_count": 0,
      "outputs": []
    },
    {
      "cell_type": "markdown",
      "metadata": {
        "colab_type": "text",
        "id": "QOcay0G-XLUH"
      },
      "source": [
        "Trying different opt_funcs\n",
        "\n",
        "- default\n",
        "- partial(optim.Adam, eps = 0.1)\n",
        "- partial(optim.SGD)\n",
        "- Radam\n",
        "- ranger\n",
        "\n",
        "Observations:\n",
        "adam with eps 0.1/0.01 and SGD with nesterov momentum seems to take much longer to train"
      ]
    },
    {
      "cell_type": "code",
      "metadata": {
        "colab_type": "code",
        "id": "W5ryJPr7XLUJ",
        "colab": {}
      },
      "source": [
        "# learn = text_classifier_learner(data_clas, \n",
        "#                                 arch = AWD_LSTM,\n",
        "#                                 loss_func = FlattenedLoss(LabelSmoothingCrossEntropy, axis=-1),\n",
        "#                                 drop_mult=0.3,\n",
        "#                                 metrics = [accuracy],\n",
        "#                                 opt_func = optar,\n",
        "#                                 bn_wd = False,\n",
        "#                                 true_wd = True,).to_fp16\n",
        "\n",
        "\"\"\"\n",
        "learner with default adamw\n",
        "\n",
        "\"\"\"\n",
        "learn = text_classifier_learner(data_clas, \n",
        "                                arch = AWD_LSTM,\n",
        "                                loss_func = FlattenedLoss(LabelSmoothingCrossEntropy, axis=-1),\n",
        "                                drop_mult=0.1, # try lower drop mult (0.1-0.3)\n",
        "                                metrics = [accuracy]).to_fp16()\n",
        "\n",
        "learn.load_encoder('lm_encoder')\n",
        "learn.freeze()"
      ],
      "execution_count": 0,
      "outputs": []
    },
    {
      "cell_type": "code",
      "metadata": {
        "colab_type": "code",
        "outputId": "b3b4c517-8e4a-44f9-8065-91063745132f",
        "id": "gp3vm68IXLUQ",
        "colab": {
          "base_uri": "https://localhost:8080/",
          "height": 331
        }
      },
      "source": [
        "learn.lr_find()\n",
        "learn.recorder.plot(suggestion = True)"
      ],
      "execution_count": 40,
      "outputs": [
        {
          "output_type": "display_data",
          "data": {
            "text/html": [
              ""
            ],
            "text/plain": [
              "<IPython.core.display.HTML object>"
            ]
          },
          "metadata": {
            "tags": []
          }
        },
        {
          "output_type": "stream",
          "text": [
            "LR Finder is complete, type {learner_name}.recorder.plot() to see the graph.\n",
            "Min numerical gradient: 1.74E-03\n",
            "Min loss divided by 10: 2.51E-02\n"
          ],
          "name": "stdout"
        },
        {
          "output_type": "display_data",
          "data": {
            "image/png": "[encoded data removed]",
            "text/plain": [
              "<Figure size 432x288 with 1 Axes>"
            ]
          },
          "metadata": {
            "tags": []
          }
        }
      ]
    },
    {
      "cell_type": "code",
      "metadata": {
        "colab_type": "code",
        "outputId": "cd6ce099-2372-4197-8746-fc71b0282dad",
        "id": "lsMAqTbSXLUW",
        "colab": {
          "base_uri": "https://localhost:8080/",
          "height": 729
        }
      },
      "source": [
        "lr_init = 2e-2\n",
        "lr = lr_init\n",
        "# learn.fit_one_cycle(10, \n",
        "#                    lr, \n",
        "#                    moms=(0.8,0.7),\n",
        "#                    callbacks=[SaveModelCallback(learn, every='improvement', monitor='accuracy', \n",
        "#                                                              name='classifier_stage1')])\n",
        "learn.fit_fc(10,\n",
        "             lr,\n",
        "             moms=(0.8,0.7),\n",
        "             callbacks=[SaveModelCallback(learn, every='improvement', monitor='accuracy', \n",
        "             name='classifier_stage1')])\n",
        "\n",
        "\n",
        "learn.recorder.plot_losses()"
      ],
      "execution_count": 41,
      "outputs": [
        {
          "output_type": "display_data",
          "data": {
            "text/html": [
              "<table border=\"1\" class=\"dataframe\">\n",
              "  <thead>\n",
              "    <tr style=\"text-align: left;\">\n",
              "      <th>epoch</th>\n",
              "      <th>train_loss</th>\n",
              "      <th>valid_loss</th>\n",
              "      <th>accuracy</th>\n",
              "      <th>time</th>\n",
              "    </tr>\n",
              "  </thead>\n",
              "  <tbody>\n",
              "    <tr>\n",
              "      <td>0</td>\n",
              "      <td>1.156598</td>\n",
              "      <td>0.859849</td>\n",
              "      <td>0.732319</td>\n",
              "      <td>00:26</td>\n",
              "    </tr>\n",
              "    <tr>\n",
              "      <td>1</td>\n",
              "      <td>0.964504</td>\n",
              "      <td>0.796207</td>\n",
              "      <td>0.774396</td>\n",
              "      <td>00:27</td>\n",
              "    </tr>\n",
              "    <tr>\n",
              "      <td>2</td>\n",
              "      <td>0.860215</td>\n",
              "      <td>0.792575</td>\n",
              "      <td>0.802149</td>\n",
              "      <td>00:27</td>\n",
              "    </tr>\n",
              "    <tr>\n",
              "      <td>3</td>\n",
              "      <td>0.795379</td>\n",
              "      <td>0.788059</td>\n",
              "      <td>0.795882</td>\n",
              "      <td>00:27</td>\n",
              "    </tr>\n",
              "    <tr>\n",
              "      <td>4</td>\n",
              "      <td>0.754798</td>\n",
              "      <td>0.827976</td>\n",
              "      <td>0.796777</td>\n",
              "      <td>00:27</td>\n",
              "    </tr>\n",
              "    <tr>\n",
              "      <td>5</td>\n",
              "      <td>0.752020</td>\n",
              "      <td>0.793733</td>\n",
              "      <td>0.820949</td>\n",
              "      <td>00:23</td>\n",
              "    </tr>\n",
              "    <tr>\n",
              "      <td>6</td>\n",
              "      <td>0.691708</td>\n",
              "      <td>0.790778</td>\n",
              "      <td>0.813787</td>\n",
              "      <td>00:27</td>\n",
              "    </tr>\n",
              "    <tr>\n",
              "      <td>7</td>\n",
              "      <td>0.680143</td>\n",
              "      <td>0.804619</td>\n",
              "      <td>0.821844</td>\n",
              "      <td>00:25</td>\n",
              "    </tr>\n",
              "    <tr>\n",
              "      <td>8</td>\n",
              "      <td>0.628267</td>\n",
              "      <td>0.737166</td>\n",
              "      <td>0.843330</td>\n",
              "      <td>00:25</td>\n",
              "    </tr>\n",
              "    <tr>\n",
              "      <td>9</td>\n",
              "      <td>0.575219</td>\n",
              "      <td>0.750447</td>\n",
              "      <td>0.837959</td>\n",
              "      <td>00:25</td>\n",
              "    </tr>\n",
              "  </tbody>\n",
              "</table>"
            ],
            "text/plain": [
              "<IPython.core.display.HTML object>"
            ]
          },
          "metadata": {
            "tags": []
          }
        },
        {
          "output_type": "stream",
          "text": [
            "Better model found at epoch 0 with accuracy value: 0.7323186993598938.\n",
            "Better model found at epoch 1 with accuracy value: 0.7743957042694092.\n",
            "Better model found at epoch 2 with accuracy value: 0.8021486401557922.\n",
            "Better model found at epoch 5 with accuracy value: 0.8209489583969116.\n",
            "Better model found at epoch 7 with accuracy value: 0.821844220161438.\n",
            "Better model found at epoch 8 with accuracy value: 0.8433303236961365.\n"
          ],
          "name": "stdout"
        },
        {
          "output_type": "display_data",
          "data": {
            "image/png": "[encoded data removed]",
            "text/plain": [
              "<Figure size 432x288 with 1 Axes>"
            ]
          },
          "metadata": {
            "tags": []
          }
        }
      ]
    },
    {
      "cell_type": "markdown",
      "metadata": {
        "colab_type": "text",
        "id": "6isGG4LcXLUq"
      },
      "source": [
        "Gradual unfreezing\n",
        "\n"
      ]
    },
    {
      "cell_type": "code",
      "metadata": {
        "colab_type": "code",
        "id": "uyhv3tjMXLUv",
        "colab": {}
      },
      "source": [
        "learn.load('classifier_stage1');\n",
        "learn.freeze_to(-1)"
      ],
      "execution_count": 0,
      "outputs": []
    },
    {
      "cell_type": "code",
      "metadata": {
        "colab_type": "code",
        "id": "k4w02QqaXLU0",
        "outputId": "23829a27-a86f-4536-c0f1-f840eec0cd78",
        "colab": {
          "base_uri": "https://localhost:8080/",
          "height": 522
        }
      },
      "source": [
        "lr = lr_init\n",
        "\n",
        "learn.fit_one_cycle(5,\n",
        "                   slice(lr/(2.6**4),lr), \n",
        "                   moms=(0.8,0.7),\n",
        "                   callbacks=[SaveModelCallback(learn, every='improvement', monitor='accuracy', \n",
        "                                                             name='classifier_stage2')])\n",
        "\n",
        "learn.recorder.plot_losses()"
      ],
      "execution_count": 43,
      "outputs": [
        {
          "output_type": "display_data",
          "data": {
            "text/html": [
              "<table border=\"1\" class=\"dataframe\">\n",
              "  <thead>\n",
              "    <tr style=\"text-align: left;\">\n",
              "      <th>epoch</th>\n",
              "      <th>train_loss</th>\n",
              "      <th>valid_loss</th>\n",
              "      <th>accuracy</th>\n",
              "      <th>time</th>\n",
              "    </tr>\n",
              "  </thead>\n",
              "  <tbody>\n",
              "    <tr>\n",
              "      <td>0</td>\n",
              "      <td>0.558920</td>\n",
              "      <td>0.790173</td>\n",
              "      <td>0.835273</td>\n",
              "      <td>00:27</td>\n",
              "    </tr>\n",
              "    <tr>\n",
              "      <td>1</td>\n",
              "      <td>0.641712</td>\n",
              "      <td>0.774762</td>\n",
              "      <td>0.829902</td>\n",
              "      <td>00:26</td>\n",
              "    </tr>\n",
              "    <tr>\n",
              "      <td>2</td>\n",
              "      <td>0.635175</td>\n",
              "      <td>0.745927</td>\n",
              "      <td>0.836168</td>\n",
              "      <td>00:24</td>\n",
              "    </tr>\n",
              "    <tr>\n",
              "      <td>3</td>\n",
              "      <td>0.577434</td>\n",
              "      <td>0.742832</td>\n",
              "      <td>0.846016</td>\n",
              "      <td>00:29</td>\n",
              "    </tr>\n",
              "    <tr>\n",
              "      <td>4</td>\n",
              "      <td>0.549106</td>\n",
              "      <td>0.725227</td>\n",
              "      <td>0.845121</td>\n",
              "      <td>00:26</td>\n",
              "    </tr>\n",
              "  </tbody>\n",
              "</table>"
            ],
            "text/plain": [
              "<IPython.core.display.HTML object>"
            ]
          },
          "metadata": {
            "tags": []
          }
        },
        {
          "output_type": "stream",
          "text": [
            "Better model found at epoch 0 with accuracy value: 0.835273027420044.\n",
            "Better model found at epoch 2 with accuracy value: 0.8361682891845703.\n",
            "Better model found at epoch 3 with accuracy value: 0.8460161089897156.\n"
          ],
          "name": "stdout"
        },
        {
          "output_type": "display_data",
          "data": {
            "image/png": "[encoded data removed]",
            "text/plain": [
              "<Figure size 432x288 with 1 Axes>"
            ]
          },
          "metadata": {
            "tags": []
          }
        }
      ]
    },
    {
      "cell_type": "code",
      "metadata": {
        "colab_type": "code",
        "id": "ZwfwqsMwdyV1",
        "colab": {}
      },
      "source": [
        "learn.load('classifier_stage2');\n",
        "learn.freeze_to(-2)"
      ],
      "execution_count": 0,
      "outputs": []
    },
    {
      "cell_type": "code",
      "metadata": {
        "colab_type": "code",
        "outputId": "b2bc28f5-887a-4d6a-b78c-b7e74bb8c698",
        "id": "c1ZLoppgdyWT",
        "colab": {
          "base_uri": "https://localhost:8080/",
          "height": 538
        }
      },
      "source": [
        "# train with smaller LR in last layer (/2)\n",
        "lr = lr_init/2\n",
        "\n",
        "learn.fit_one_cycle(5,\n",
        "                   slice(lr/(2.6**4),lr), \n",
        "                   moms=(0.8,0.7),\n",
        "                   callbacks=[SaveModelCallback(learn, every='improvement', monitor='accuracy', \n",
        "                                                             name='classifier_stage3')])\n",
        "\n",
        "learn.recorder.plot_losses()"
      ],
      "execution_count": 45,
      "outputs": [
        {
          "output_type": "display_data",
          "data": {
            "text/html": [
              "<table border=\"1\" class=\"dataframe\">\n",
              "  <thead>\n",
              "    <tr style=\"text-align: left;\">\n",
              "      <th>epoch</th>\n",
              "      <th>train_loss</th>\n",
              "      <th>valid_loss</th>\n",
              "      <th>accuracy</th>\n",
              "      <th>time</th>\n",
              "    </tr>\n",
              "  </thead>\n",
              "  <tbody>\n",
              "    <tr>\n",
              "      <td>0</td>\n",
              "      <td>0.602572</td>\n",
              "      <td>0.847757</td>\n",
              "      <td>0.829902</td>\n",
              "      <td>00:36</td>\n",
              "    </tr>\n",
              "    <tr>\n",
              "      <td>1</td>\n",
              "      <td>0.716961</td>\n",
              "      <td>0.785842</td>\n",
              "      <td>0.830797</td>\n",
              "      <td>00:30</td>\n",
              "    </tr>\n",
              "    <tr>\n",
              "      <td>2</td>\n",
              "      <td>0.598576</td>\n",
              "      <td>0.726023</td>\n",
              "      <td>0.843330</td>\n",
              "      <td>00:30</td>\n",
              "    </tr>\n",
              "    <tr>\n",
              "      <td>3</td>\n",
              "      <td>0.533608</td>\n",
              "      <td>0.692885</td>\n",
              "      <td>0.856759</td>\n",
              "      <td>00:30</td>\n",
              "    </tr>\n",
              "    <tr>\n",
              "      <td>4</td>\n",
              "      <td>0.506438</td>\n",
              "      <td>0.707194</td>\n",
              "      <td>0.844226</td>\n",
              "      <td>00:34</td>\n",
              "    </tr>\n",
              "  </tbody>\n",
              "</table>"
            ],
            "text/plain": [
              "<IPython.core.display.HTML object>"
            ]
          },
          "metadata": {
            "tags": []
          }
        },
        {
          "output_type": "stream",
          "text": [
            "Better model found at epoch 0 with accuracy value: 0.8299015164375305.\n",
            "Better model found at epoch 1 with accuracy value: 0.8307967782020569.\n",
            "Better model found at epoch 2 with accuracy value: 0.8433303236961365.\n",
            "Better model found at epoch 3 with accuracy value: 0.8567591905593872.\n"
          ],
          "name": "stdout"
        },
        {
          "output_type": "display_data",
          "data": {
            "image/png": "[encoded data removed]",
            "text/plain": [
              "<Figure size 432x288 with 1 Axes>"
            ]
          },
          "metadata": {
            "tags": []
          }
        }
      ]
    },
    {
      "cell_type": "code",
      "metadata": {
        "colab_type": "code",
        "id": "URQFStBJdvyd",
        "colab": {}
      },
      "source": [
        "learn.load('classifier_stage3');\n",
        "learn.unfreeze()"
      ],
      "execution_count": 0,
      "outputs": []
    },
    {
      "cell_type": "code",
      "metadata": {
        "colab_type": "code",
        "outputId": "e59938a0-07a5-48ff-980a-54510cbfdeca",
        "id": "UuRiYLnsdvys",
        "colab": {
          "base_uri": "https://localhost:8080/",
          "height": 699
        }
      },
      "source": [
        "# train with smaller LR in last layer /10\n",
        "lr = lr_init/10\n",
        "\n",
        "learn.fit_one_cycle(10,\n",
        "                   slice(lr/(2.6**4),lr), \n",
        "                   moms=(0.8,0.7),\n",
        "                   callbacks=[SaveModelCallback(learn, every='improvement', monitor='accuracy', \n",
        "                                                             name='classifier_final')])\n",
        "\n",
        "learn.recorder.plot_losses()"
      ],
      "execution_count": 47,
      "outputs": [
        {
          "output_type": "display_data",
          "data": {
            "text/html": [
              "<table border=\"1\" class=\"dataframe\">\n",
              "  <thead>\n",
              "    <tr style=\"text-align: left;\">\n",
              "      <th>epoch</th>\n",
              "      <th>train_loss</th>\n",
              "      <th>valid_loss</th>\n",
              "      <th>accuracy</th>\n",
              "      <th>time</th>\n",
              "    </tr>\n",
              "  </thead>\n",
              "  <tbody>\n",
              "    <tr>\n",
              "      <td>0</td>\n",
              "      <td>0.481891</td>\n",
              "      <td>0.691355</td>\n",
              "      <td>0.851388</td>\n",
              "      <td>01:11</td>\n",
              "    </tr>\n",
              "    <tr>\n",
              "      <td>1</td>\n",
              "      <td>0.497633</td>\n",
              "      <td>0.697872</td>\n",
              "      <td>0.847807</td>\n",
              "      <td>01:10</td>\n",
              "    </tr>\n",
              "    <tr>\n",
              "      <td>2</td>\n",
              "      <td>0.486163</td>\n",
              "      <td>0.736457</td>\n",
              "      <td>0.854073</td>\n",
              "      <td>01:18</td>\n",
              "    </tr>\n",
              "    <tr>\n",
              "      <td>3</td>\n",
              "      <td>0.487316</td>\n",
              "      <td>0.698361</td>\n",
              "      <td>0.856759</td>\n",
              "      <td>01:10</td>\n",
              "    </tr>\n",
              "    <tr>\n",
              "      <td>4</td>\n",
              "      <td>0.479933</td>\n",
              "      <td>0.721061</td>\n",
              "      <td>0.849597</td>\n",
              "      <td>01:08</td>\n",
              "    </tr>\n",
              "    <tr>\n",
              "      <td>5</td>\n",
              "      <td>0.462450</td>\n",
              "      <td>0.673168</td>\n",
              "      <td>0.870188</td>\n",
              "      <td>01:15</td>\n",
              "    </tr>\n",
              "    <tr>\n",
              "      <td>6</td>\n",
              "      <td>0.464407</td>\n",
              "      <td>0.694478</td>\n",
              "      <td>0.854969</td>\n",
              "      <td>01:06</td>\n",
              "    </tr>\n",
              "    <tr>\n",
              "      <td>7</td>\n",
              "      <td>0.455098</td>\n",
              "      <td>0.678900</td>\n",
              "      <td>0.863026</td>\n",
              "      <td>01:21</td>\n",
              "    </tr>\n",
              "    <tr>\n",
              "      <td>8</td>\n",
              "      <td>0.444644</td>\n",
              "      <td>0.672356</td>\n",
              "      <td>0.863921</td>\n",
              "      <td>01:20</td>\n",
              "    </tr>\n",
              "    <tr>\n",
              "      <td>9</td>\n",
              "      <td>0.454045</td>\n",
              "      <td>0.669108</td>\n",
              "      <td>0.862131</td>\n",
              "      <td>01:07</td>\n",
              "    </tr>\n",
              "  </tbody>\n",
              "</table>"
            ],
            "text/plain": [
              "<IPython.core.display.HTML object>"
            ]
          },
          "metadata": {
            "tags": []
          }
        },
        {
          "output_type": "stream",
          "text": [
            "Better model found at epoch 0 with accuracy value: 0.851387619972229.\n",
            "Better model found at epoch 2 with accuracy value: 0.8540734052658081.\n",
            "Better model found at epoch 3 with accuracy value: 0.8567591905593872.\n",
            "Better model found at epoch 5 with accuracy value: 0.8701879978179932.\n"
          ],
          "name": "stdout"
        },
        {
          "output_type": "display_data",
          "data": {
            "image/png": "[encoded data removed]",
            "text/plain": [
              "<Figure size 432x288 with 1 Axes>"
            ]
          },
          "metadata": {
            "tags": []
          }
        }
      ]
    },
    {
      "cell_type": "markdown",
      "metadata": {
        "colab_type": "text",
        "id": "xUAqQahTXLU5"
      },
      "source": [
        "Optional additional training"
      ]
    },
    {
      "cell_type": "code",
      "metadata": {
        "colab_type": "code",
        "id": "Jsf4pEZsXLU6",
        "colab": {}
      },
      "source": [
        "# learn.load('radam_classifier_final');\n",
        "\n",
        "\n",
        "# learn.fit_one_cycle(10,\n",
        "#                    slice(lr/(2.6**4),lr), \n",
        "#                    moms=(0.8,0.7),\n",
        "#                    callbacks=[SaveModelCallback(learn, every='improvement', monitor='accuracy', \n",
        "#                                                              name='radam_classifier_final_2')])\n",
        "\n",
        "# learn.recorder.plot_losses()"
      ],
      "execution_count": 0,
      "outputs": []
    },
    {
      "cell_type": "markdown",
      "metadata": {
        "colab_type": "text",
        "id": "QrRTQdEmXLU-"
      },
      "source": [
        "Additional training doesn't seem to benefit \n",
        "\n",
        "final accuracy approximately 0.86571"
      ]
    },
    {
      "cell_type": "markdown",
      "metadata": {
        "colab_type": "text",
        "id": "JcvaRxSzXLVA"
      },
      "source": [
        "Exporting model"
      ]
    },
    {
      "cell_type": "code",
      "metadata": {
        "colab_type": "code",
        "id": "NLcp_mIvXLVB",
        "colab": {}
      },
      "source": [
        "learn.load('classifier_final');\n",
        "\n",
        "learn.export()"
      ],
      "execution_count": 0,
      "outputs": []
    },
    {
      "cell_type": "markdown",
      "metadata": {
        "id": "I7Al0Ld2MyB1",
        "colab_type": "text"
      },
      "source": [
        "# Ensembling forward and backwards model"
      ]
    },
    {
      "cell_type": "markdown",
      "metadata": {
        "id": "24FGHyElNp1P",
        "colab_type": "text"
      },
      "source": [
        "Forward model"
      ]
    },
    {
      "cell_type": "code",
      "metadata": {
        "id": "T8NN-xjyMxTg",
        "colab_type": "code",
        "colab": {}
      },
      "source": [
        "learn_c = text_classifier_learner(data_clas, \n",
        "                                  AWD_LSTM,\n",
        "                                  metrics=[accuracy, error_rate])#.to_fp16()\n",
        "                                  \n",
        "learn_c.load('classifier_final', purge=False);"
      ],
      "execution_count": 0,
      "outputs": []
    },
    {
      "cell_type": "markdown",
      "metadata": {
        "id": "gCgKyYNnNM7u",
        "colab_type": "text"
      },
      "source": [
        "Backwards model"
      ]
    },
    {
      "cell_type": "code",
      "metadata": {
        "id": "btvMhf5vNOBr",
        "colab_type": "code",
        "colab": {}
      },
      "source": [
        "data_clas_bwd = load_data(PATH, \n",
        "                          'data_clas_bkwd', \n",
        "                          bs=bs, \n",
        "                          num_workers=1, \n",
        "                          backwards=True)\n",
        "\n",
        "learn_c_bwd = text_classifier_learner(data_clas_bwd, \n",
        "                                      AWD_LSTM,\n",
        "                                      metrics=[accuracy, error_rate])#.to_fp32()\n",
        "\n",
        "learn_c_bwd.load('classifier_bkwd_final', purge=False);"
      ],
      "execution_count": 0,
      "outputs": []
    }
  ]
}