{
  "nbformat": 4,
  "nbformat_minor": 0,
  "metadata": {
    "colab": {
      "name": "twitter_sentiment_baseline_adamw.ipynb",
      "provenance": [],
      "collapsed_sections": [],
      "toc_visible": true,
      "include_colab_link": true
    },
    "kernelspec": {
      "name": "python3",
      "display_name": "Python 3"
    },
    "accelerator": "GPU"
  },
  "cells": [
    {
      "cell_type": "markdown",
      "metadata": {
        "id": "view-in-github",
        "colab_type": "text"
      },
      "source": [
        "<a href=\"https://colab.research.google.com/github/maxmatical/TMLS_NLP/blob/master/twitter_sentiment_baseline_adamw.ipynb\" target=\"_parent\"><img src=\"https://colab.research.google.com/assets/colab-badge.svg\" alt=\"Open In Colab\"/></a>"
      ]
    },
    {
      "cell_type": "code",
      "metadata": {
        "id": "QMgx99NYbpIV",
        "colab_type": "code",
        "colab": {}
      },
      "source": [
        "%%capture\n",
        "!pip install git+https://github.com/fastai/fastai.git"
      ],
      "execution_count": 0,
      "outputs": []
    },
    {
      "cell_type": "code",
      "metadata": {
        "id": "YnCNplZFCBp4",
        "colab_type": "code",
        "outputId": "2761e00a-8e91-4a0f-f54f-dd7dd0be501b",
        "colab": {
          "base_uri": "https://localhost:8080/",
          "height": 52
        }
      },
      "source": [
        "# Set up environment and download course-v3\n",
        "!curl -s https://course.fast.ai/setup/colab | bash"
      ],
      "execution_count": 0,
      "outputs": [
        {
          "output_type": "stream",
          "text": [
            "Updating fastai...\n",
            "Done.\n"
          ],
          "name": "stdout"
        }
      ]
    },
    {
      "cell_type": "code",
      "metadata": {
        "id": "qKq5YwwRCM5r",
        "colab_type": "code",
        "outputId": "4af9e00b-a1c1-4ac2-84ee-6a389925e4a5",
        "colab": {
          "base_uri": "https://localhost:8080/",
          "height": 697
        }
      },
      "source": [
        "import numpy as np\n",
        "import pandas as pd\n",
        "from matplotlib import pyplot as plt\n",
        "\n",
        "from fastai import *\n",
        "from fastai.text import *\n",
        "from fastai.utils.show_install import *\n",
        "from fastai.callbacks import *\n",
        "show_install()"
      ],
      "execution_count": 0,
      "outputs": [
        {
          "output_type": "stream",
          "text": [
            "\n",
            "\n",
            "```text\n",
            "=== Software === \n",
            "python        : 3.6.8\n",
            "fastai        : 1.0.58.dev0\n",
            "fastprogress  : 0.1.21\n",
            "torch         : 1.1.0\n",
            "nvidia driver : 418.67\n",
            "torch cuda    : 10.0.130 / is available\n",
            "torch cudnn   : 7501 / is enabled\n",
            "\n",
            "=== Hardware === \n",
            "nvidia gpus   : 1\n",
            "torch devices : 1\n",
            "  - gpu0      : 15079MB | Tesla T4\n",
            "\n",
            "=== Environment === \n",
            "platform      : Linux-4.14.137+-x86_64-with-Ubuntu-18.04-bionic\n",
            "distro        : #1 SMP Thu Aug 8 02:47:02 PDT 2019\n",
            "conda env     : Unknown\n",
            "python        : /usr/bin/python3\n",
            "sys.path      : \n",
            "/env/python\n",
            "/usr/lib/python36.zip\n",
            "/usr/lib/python3.6\n",
            "/usr/lib/python3.6/lib-dynload\n",
            "/usr/local/lib/python3.6/dist-packages\n",
            "/usr/lib/python3/dist-packages\n",
            "/usr/local/lib/python3.6/dist-packages/IPython/extensions\n",
            "/root/.ipython\n",
            "```\n",
            "\n",
            "Please make sure to include opening/closing ``` when you paste into forums/github to make the reports appear formatted as code sections.\n",
            "\n",
            "Optional package(s) to enhance the diagnostics can be installed with:\n",
            "pip install distro\n",
            "Once installed, re-run this utility to get the additional information\n"
          ],
          "name": "stdout"
        }
      ]
    },
    {
      "cell_type": "markdown",
      "metadata": {
        "id": "jYky0SyQCZPU",
        "colab_type": "text"
      },
      "source": [
        "# Exploratory Data Analysis"
      ]
    },
    {
      "cell_type": "code",
      "metadata": {
        "id": "g8bWDpNtCQNY",
        "colab_type": "code",
        "colab": {}
      },
      "source": [
        "df = pd.read_csv('testset1.csv')"
      ],
      "execution_count": 0,
      "outputs": []
    },
    {
      "cell_type": "code",
      "metadata": {
        "id": "RLdscs8CCd--",
        "colab_type": "code",
        "outputId": "695274ca-1300-449f-ddfc-4b410abaeeec",
        "colab": {
          "base_uri": "https://localhost:8080/",
          "height": 224
        }
      },
      "source": [
        "print(len(df))\n",
        "\n",
        "df.head(5)"
      ],
      "execution_count": 0,
      "outputs": [
        {
          "output_type": "stream",
          "text": [
            "5585\n"
          ],
          "name": "stdout"
        },
        {
          "output_type": "execute_result",
          "data": {
            "text/html": [
              "<div>\n",
              "<style scoped>\n",
              "    .dataframe tbody tr th:only-of-type {\n",
              "        vertical-align: middle;\n",
              "    }\n",
              "\n",
              "    .dataframe tbody tr th {\n",
              "        vertical-align: top;\n",
              "    }\n",
              "\n",
              "    .dataframe thead th {\n",
              "        text-align: right;\n",
              "    }\n",
              "</style>\n",
              "<table border=\"1\" class=\"dataframe\">\n",
              "  <thead>\n",
              "    <tr style=\"text-align: right;\">\n",
              "      <th></th>\n",
              "      <th>id</th>\n",
              "      <th>name</th>\n",
              "      <th>date</th>\n",
              "      <th>text</th>\n",
              "      <th>location</th>\n",
              "      <th>sentiment</th>\n",
              "    </tr>\n",
              "  </thead>\n",
              "  <tbody>\n",
              "    <tr>\n",
              "      <th>0</th>\n",
              "      <td>1.130000e+18</td>\n",
              "      <td>Evolutionomics</td>\n",
              "      <td>Sun May 19 23:57:10 +0000 2019</td>\n",
              "      <td>By combining short positions on #Gold $GOLD $G...</td>\n",
              "      <td>NaN</td>\n",
              "      <td>bearish</td>\n",
              "    </tr>\n",
              "    <tr>\n",
              "      <th>1</th>\n",
              "      <td>1.130000e+18</td>\n",
              "      <td>macrohedged</td>\n",
              "      <td>Sun May 19 23:55:02 +0000 2019</td>\n",
              "      <td>Here are the #Volatility levels for the majors...</td>\n",
              "      <td>England</td>\n",
              "      <td>unrelated</td>\n",
              "    </tr>\n",
              "    <tr>\n",
              "      <th>2</th>\n",
              "      <td>1.130000e+18</td>\n",
              "      <td>Evolutionomics</td>\n",
              "      <td>Sun May 19 23:54:06 +0000 2019</td>\n",
              "      <td>We have little insight into what will happen t...</td>\n",
              "      <td>NaN</td>\n",
              "      <td>neutral</td>\n",
              "    </tr>\n",
              "    <tr>\n",
              "      <th>3</th>\n",
              "      <td>1.130000e+18</td>\n",
              "      <td>Evolutionomics</td>\n",
              "      <td>Sun May 19 23:50:59 +0000 2019</td>\n",
              "      <td>This brings us to #Gold miners. As a group, $G...</td>\n",
              "      <td>NaN</td>\n",
              "      <td>neutral</td>\n",
              "    </tr>\n",
              "    <tr>\n",
              "      <th>4</th>\n",
              "      <td>1.130000e+18</td>\n",
              "      <td>macrohedged</td>\n",
              "      <td>Sun May 19 23:50:04 +0000 2019</td>\n",
              "      <td>Good morning Asia, here are the benchmark futu...</td>\n",
              "      <td>England</td>\n",
              "      <td>unrelated</td>\n",
              "    </tr>\n",
              "  </tbody>\n",
              "</table>\n",
              "</div>"
            ],
            "text/plain": [
              "             id            name  ... location  sentiment\n",
              "0  1.130000e+18  Evolutionomics  ...      NaN    bearish\n",
              "1  1.130000e+18     macrohedged  ...  England  unrelated\n",
              "2  1.130000e+18  Evolutionomics  ...      NaN    neutral\n",
              "3  1.130000e+18  Evolutionomics  ...      NaN    neutral\n",
              "4  1.130000e+18     macrohedged  ...  England  unrelated\n",
              "\n",
              "[5 rows x 6 columns]"
            ]
          },
          "metadata": {
            "tags": []
          },
          "execution_count": 10
        }
      ]
    },
    {
      "cell_type": "code",
      "metadata": {
        "id": "liW3zbbzCktu",
        "colab_type": "code",
        "outputId": "fdd510c5-b331-4fea-b871-e68761c43f88",
        "colab": {
          "base_uri": "https://localhost:8080/",
          "height": 324
        }
      },
      "source": [
        "df['sentiment'].value_counts().plot(kind='bar')"
      ],
      "execution_count": 0,
      "outputs": [
        {
          "output_type": "execute_result",
          "data": {
            "text/plain": [
              "<matplotlib.axes._subplots.AxesSubplot at 0x7f552dcc1d30>"
            ]
          },
          "metadata": {
            "tags": []
          },
          "execution_count": 11
        },
        {
          "output_type": "display_data",
          "data": {
            "image/png": "[encoded data removed]",
            "text/plain": [
              "<Figure size 432x288 with 1 Axes>"
            ]
          },
          "metadata": {
            "tags": []
          }
        }
      ]
    },
    {
      "cell_type": "markdown",
      "metadata": {
        "id": "XscVftJYDTQt",
        "colab_type": "text"
      },
      "source": [
        "Unrelated and neutral sentiments dominate the data currently (although this might not be the case in the future with the full dataset). It might be better to use a stratified sampling technique for classification"
      ]
    },
    {
      "cell_type": "code",
      "metadata": {
        "id": "x-GUhvxkELES",
        "colab_type": "code",
        "outputId": "d9fbef87-0fcc-48a4-99a2-bad35cd65f59",
        "colab": {
          "base_uri": "https://localhost:8080/",
          "height": 52
        }
      },
      "source": [
        "from sklearn.model_selection import StratifiedShuffleSplit\n",
        "\n",
        "sss = StratifiedShuffleSplit(n_splits=5, test_size=0.2, random_state=0)\n",
        "sss.get_n_splits(df['text'], df['sentiment'])\n",
        "\n",
        "print(sss)\n",
        "\n"
      ],
      "execution_count": 0,
      "outputs": [
        {
          "output_type": "stream",
          "text": [
            "StratifiedShuffleSplit(n_splits=5, random_state=0, test_size=0.2,\n",
            "            train_size=None)\n"
          ],
          "name": "stdout"
        }
      ]
    },
    {
      "cell_type": "code",
      "metadata": {
        "id": "THDVEb8tFFGN",
        "colab_type": "code",
        "outputId": "67e72249-f52c-4a4c-ea5f-91c6ba4f8ef9",
        "colab": {
          "base_uri": "https://localhost:8080/",
          "height": 34
        }
      },
      "source": [
        "train_idx, val_idx = next(sss.split(df['text'], df['sentiment']))\n",
        "\n",
        "print(len(train_idx), len(val_idx))"
      ],
      "execution_count": 0,
      "outputs": [
        {
          "output_type": "stream",
          "text": [
            "4468 1117\n"
          ],
          "name": "stdout"
        }
      ]
    },
    {
      "cell_type": "markdown",
      "metadata": {
        "id": "YnI14U3zKskb",
        "colab_type": "text"
      },
      "source": [
        "Verifying that the stratified split preseves the distribution of the labels"
      ]
    },
    {
      "cell_type": "code",
      "metadata": {
        "id": "QPqoB9P-JzhJ",
        "colab_type": "code",
        "colab": {}
      },
      "source": [
        "df_train = df.iloc[train_idx, :]\n",
        "df_val = df.iloc[val_idx, :]"
      ],
      "execution_count": 0,
      "outputs": []
    },
    {
      "cell_type": "code",
      "metadata": {
        "id": "loavhYCJKdmz",
        "colab_type": "code",
        "outputId": "539fc8a7-ba8e-4567-896b-8a8242914adb",
        "colab": {
          "base_uri": "https://localhost:8080/",
          "height": 324
        }
      },
      "source": [
        "df_train['sentiment'].value_counts().plot(kind='bar')"
      ],
      "execution_count": 0,
      "outputs": [
        {
          "output_type": "execute_result",
          "data": {
            "text/plain": [
              "<matplotlib.axes._subplots.AxesSubplot at 0x7f552dc1a160>"
            ]
          },
          "metadata": {
            "tags": []
          },
          "execution_count": 15
        },
        {
          "output_type": "display_data",
          "data": {
            "image/png": "[encoded data removed]",
            "text/plain": [
              "<Figure size 432x288 with 1 Axes>"
            ]
          },
          "metadata": {
            "tags": []
          }
        }
      ]
    },
    {
      "cell_type": "code",
      "metadata": {
        "id": "MaoWfiBQKQG2",
        "colab_type": "code",
        "outputId": "27e013b3-b186-4409-ebae-37e912eb99f7",
        "colab": {
          "base_uri": "https://localhost:8080/",
          "height": 324
        }
      },
      "source": [
        "df_val['sentiment'].value_counts().plot(kind='bar')"
      ],
      "execution_count": 0,
      "outputs": [
        {
          "output_type": "execute_result",
          "data": {
            "text/plain": [
              "<matplotlib.axes._subplots.AxesSubplot at 0x7f552dc6b780>"
            ]
          },
          "metadata": {
            "tags": []
          },
          "execution_count": 16
        },
        {
          "output_type": "display_data",
          "data": {
            "image/png": "[encoded data removed]",
            "text/plain": [
              "<Figure size 432x288 with 1 Axes>"
            ]
          },
          "metadata": {
            "tags": []
          }
        }
      ]
    },
    {
      "cell_type": "markdown",
      "metadata": {
        "id": "mrWWL-PxKiZt",
        "colab_type": "text"
      },
      "source": [
        "Looks like the distribution of the labels in train and val are the same, so we can start modelling now"
      ]
    },
    {
      "cell_type": "markdown",
      "metadata": {
        "id": "URdbzs4tDkAv",
        "colab_type": "text"
      },
      "source": [
        "# Setting up data"
      ]
    },
    {
      "cell_type": "code",
      "metadata": {
        "id": "F80cVObhDAwN",
        "colab_type": "code",
        "colab": {}
      },
      "source": [
        "PATH = '/content/'\n"
      ],
      "execution_count": 0,
      "outputs": []
    },
    {
      "cell_type": "code",
      "metadata": {
        "id": "axHubSwEgG9J",
        "colab_type": "code",
        "outputId": "889efd2d-abf5-4de2-86f5-d869e455803a",
        "colab": {
          "base_uri": "https://localhost:8080/",
          "height": 34
        }
      },
      "source": [
        "ls{PATH}"
      ],
      "execution_count": 0,
      "outputs": [
        {
          "output_type": "stream",
          "text": [
            "\u001b[0m\u001b[01;36mdata\u001b[0m@  data_lm  \u001b[01;36mmodels\u001b[0m@  testset1.csv\n"
          ],
          "name": "stdout"
        }
      ]
    },
    {
      "cell_type": "markdown",
      "metadata": {
        "id": "PUEszwiuWCNX",
        "colab_type": "text"
      },
      "source": [
        "To set up the data for a fastai learner, we create what is called a databunch\n",
        "\n"
      ]
    },
    {
      "cell_type": "code",
      "metadata": {
        "id": "JWuZHdr2Dvea",
        "colab_type": "code",
        "colab": {}
      },
      "source": [
        "bs = 128"
      ],
      "execution_count": 0,
      "outputs": []
    },
    {
      "cell_type": "markdown",
      "metadata": {
        "id": "OrXu1cHwWJpc",
        "colab_type": "text"
      },
      "source": [
        "We use all available data to us in order to create a language model databunch, and use 90% of the data to train the LM while reserving 10% for validation\n",
        "\n",
        "Note we use the default minimum frequency of words in the corpus in order to use in the vocab of 2"
      ]
    },
    {
      "cell_type": "code",
      "metadata": {
        "id": "CzpFdPEIDx3C",
        "colab_type": "code",
        "colab": {}
      },
      "source": [
        "data_lm = TextLMDataBunch.from_csv(path = PATH, \n",
        "                                   csv_name = 'testset1.csv', \n",
        "                                   text_cols='text',\n",
        "                                   valid_pct = 0.1, \n",
        "                                   bs = bs) \n",
        "\n",
        "data_lm.save('data_lm')"
      ],
      "execution_count": 0,
      "outputs": []
    },
    {
      "cell_type": "markdown",
      "metadata": {
        "id": "G-a62icKWkgd",
        "colab_type": "text"
      },
      "source": [
        "We also create a separate databunch for classiciation, this time we will use the splitting done in the previous section to determine our training and validation data sets \n",
        "\n"
      ]
    },
    {
      "cell_type": "code",
      "metadata": {
        "id": "Z90o1knEjWpF",
        "colab_type": "code",
        "colab": {}
      },
      "source": [
        "data_clas = (TextList.from_csv(path = PATH,\n",
        "                                csv_name = 'testset1.csv',\n",
        "                                vocab = data_lm.train_ds.vocab,\n",
        "                                cols = 'text')\n",
        "                                .split_by_idx(val_idx)\n",
        "                                .label_from_df(cols='sentiment')\n",
        "                                .databunch(bs = bs))\n",
        "\n",
        "data_clas.save('text_data_clas')"
      ],
      "execution_count": 0,
      "outputs": []
    },
    {
      "cell_type": "markdown",
      "metadata": {
        "id": "dDPkyfQwg7Uy",
        "colab_type": "text"
      },
      "source": [
        "# Using Label Smoothing"
      ]
    },
    {
      "cell_type": "markdown",
      "metadata": {
        "id": "l-yonBuZhhBr",
        "colab_type": "text"
      },
      "source": [
        "## Language Model\n",
        "\n"
      ]
    },
    {
      "cell_type": "code",
      "metadata": {
        "id": "tThR1C3UfDQr",
        "colab_type": "code",
        "colab": {}
      },
      "source": [
        "data_lm = load_data(PATH, 'data_lm', bs = bs)"
      ],
      "execution_count": 0,
      "outputs": []
    },
    {
      "cell_type": "markdown",
      "metadata": {
        "id": "RzWkrMwJhbrb",
        "colab_type": "text"
      },
      "source": [
        "we use the spacy tokenization method to turn the data into tokens, which is then numericalized by order of frequency so that it can be used by our neural network. This is all handled automatically by the databunch method\n",
        "\n",
        "\n",
        "Look at what the preprocessed text looks like"
      ]
    },
    {
      "cell_type": "code",
      "metadata": {
        "id": "8pavgXIkhPL2",
        "colab_type": "code",
        "outputId": "9765e738-f002-4f9f-c4ee-3afc217b90b2",
        "colab": {
          "base_uri": "https://localhost:8080/",
          "height": 363
        }
      },
      "source": [
        "data_lm.show_batch()"
      ],
      "execution_count": 0,
      "outputs": [
        {
          "output_type": "display_data",
          "data": {
            "text/html": [
              "<table border=\"1\" class=\"dataframe\">\n",
              "  <thead>\n",
              "    <tr style=\"text-align: right;\">\n",
              "      <th>idx</th>\n",
              "      <th>text</th>\n",
              "    </tr>\n",
              "  </thead>\n",
              "  <tbody>\n",
              "    <tr>\n",
              "      <td>0</td>\n",
              "      <td>xxmaj week xxmaj high : https : / / t.co / nfqfojvbp6 | $ xxup gld # xxmaj daytrading # xxmaj stocks # stockmarket # xxmaj gold # xxmaj news # breakingnews # business # xxmaj finance # investing # xxmaj investor # xxup nyse # xxup nasdaq # xxmaj wallstreet https : / / t.co / f2srmp0dl6 xxbos xxmaj snapshot on xxmaj african # xxmaj gold # xxmaj mining</td>\n",
              "    </tr>\n",
              "    <tr>\n",
              "      <td>1</td>\n",
              "      <td>xxup gold $ xxup ags https : / / t.co / kj668rnqa3 xxbos xxup u.s. vs xxmaj global xxmaj sector xxmaj rotation xxrep 4 . xxmaj what xxmaj next ? - xxmaj part 1 &gt; https : / / t.co / xxunk \\n \\n  $ xxup spy $ xxup slv $ xxup gld $ xxup qqq # dollar # trading # stockstotrade xxbos $ xxup gold doing a pretty</td>\n",
              "    </tr>\n",
              "    <tr>\n",
              "      <td>2</td>\n",
              "      <td>$ xxup eem $ xxup efa $ xxup gld $ xxup tlt $ xxup uso $ xxup uup $ xxup xlb $ xxup xle $ xxup xly $ xxup xlc $ xxup xlk $ xxup xlv $ xxup unh 🐻 xxbos xxmaj it 's xxmaj tuesday and xxmaj here are the cross - asset # xxmaj futures correlations over the last rolling year . xxmaj be lucky ! - https</td>\n",
              "    </tr>\n",
              "    <tr>\n",
              "      <td>3</td>\n",
              "      <td>nflx # cryptocurrency # cryptocurrencies $ xxup eth xxbos $ xxup jdst 14 m trying to reclaim ascending channel . \\n  $ xxup gold $ xxup gld $ xxup gdx $ xxup gdxj $ xxup jnug https : / / t.co / xxunk xxbos $ xxup gld xxmaj why is this billionaire predicting gold could hit $ 5,000 ? https : / / t.co / xxunk via @stocknewsdotcom xxbos</td>\n",
              "    </tr>\n",
              "    <tr>\n",
              "      <td>4</td>\n",
              "      <td>$ xxup gld $ xxup slv $ xxup xauusd $ xxup gdx $ xxup nugt $ xxup gold $ xxup jnug $ xxup asr.to $ xxup roxg.to $ xxup cg.to # gold # silver https : / / t.co / pwq5yugpgi xxbos https : / / t.co / h8cl6bchvq \\n \\n  $ gold bugs should understand stock to flow , right @saifedean @julianhosp ? xxmaj always enough $ xxup</td>\n",
              "    </tr>\n",
              "  </tbody>\n",
              "</table>"
            ],
            "text/plain": [
              "<IPython.core.display.HTML object>"
            ]
          },
          "metadata": {
            "tags": []
          }
        }
      ]
    },
    {
      "cell_type": "markdown",
      "metadata": {
        "id": "0D4UhmdmYY7f",
        "colab_type": "text"
      },
      "source": [
        "We used the AWD-LSTM [4] pre-trained on the WikiText-103 dataset as our language model. Language models consists of two parts, an encoder, which takes in a sequence of inputs x_t and previous hidden states (h_t-1) and computes a hidden state h_t, and a decoder which takes the computed state h_t, and input x_t to compute an output y_t at each timestep t. The encoder encodes the input sequence of text into a numeric representation, which is then used by the decoder to generate an output."
      ]
    },
    {
      "cell_type": "markdown",
      "metadata": {
        "id": "va65TRXDX9EB",
        "colab_type": "text"
      },
      "source": [
        "we also employ several other tricks in order to speed up training and improve accuracy. Firstly, take advantage of mixed precision training to compute certain steps in the forward and backward pass of the neural network in 16bit half-precision floating point instead of the usual 32bit floating point. By using mixed precision training, we get up to half the memory usage and double the training speed as opposed to fp32, and the lower precision can inject a bit of noise into the model and lead to a slight improvement in generalization capabilities. Secondly, we make use of label smoothing, which assigns a non-zero probability that any of the possible outputs could be correct, not just the ground truth value (In the case of language modelling, we know that when we’re predicting the next word in a sentence, a lot of words could be used, and not just one). Label smoothing has been employed in the latest state of the art language models [8], and have been shown empirically to improve generalization results. Lastly, we make use of a model callback that saves the model with the highest validation accuracy as our final model.\n"
      ]
    },
    {
      "cell_type": "code",
      "metadata": {
        "id": "i8X9j7YOhXy6",
        "colab_type": "code",
        "colab": {}
      },
      "source": [
        "learn = language_model_learner(data_lm, \n",
        "                               arch=AWD_LSTM, \n",
        "                               loss_func = FlattenedLoss(LabelSmoothingCrossEntropy, axis=-1),\n",
        "                               drop_mult=0.3).to_fp16()"
      ],
      "execution_count": 0,
      "outputs": []
    },
    {
      "cell_type": "markdown",
      "metadata": {
        "id": "bgVH162OYhja",
        "colab_type": "text"
      },
      "source": [
        "First, we want to fine-tune the language model to our corpus, in this case, the tweets we collection on gold. We do this by taking the pre-trained model as a backbone, and training a linear layer on top of it to predict the next words of the tweets we feed the model."
      ]
    },
    {
      "cell_type": "markdown",
      "metadata": {
        "id": "IfzYFTHdXxIY",
        "colab_type": "text"
      },
      "source": [
        "In order to train the language model, we will use their learning rate finder in order to find the highest learning rate at which we can still train the model without any performance degradation. The learning rate finder comes from a paper by Leslie Smith [citation] and showed that this method allowed us to train networks much faster than with a smaller learning rate while still allowing for convergence.\n"
      ]
    },
    {
      "cell_type": "code",
      "metadata": {
        "id": "5_LMm0uAhnhE",
        "colab_type": "code",
        "outputId": "04b152f8-679a-4788-aea8-1af355c480bc",
        "colab": {
          "base_uri": "https://localhost:8080/",
          "height": 335
        }
      },
      "source": [
        "learn.lr_find()\n",
        "learn.recorder.plot(suggestion = True, skip_end=15)"
      ],
      "execution_count": 0,
      "outputs": [
        {
          "output_type": "display_data",
          "data": {
            "text/html": [
              ""
            ],
            "text/plain": [
              "<IPython.core.display.HTML object>"
            ]
          },
          "metadata": {
            "tags": []
          }
        },
        {
          "output_type": "stream",
          "text": [
            "LR Finder is complete, type {learner_name}.recorder.plot() to see the graph.\n",
            "Min numerical gradient: 1.00E-01\n",
            "Min loss divided by 10: 5.25E-02\n"
          ],
          "name": "stdout"
        },
        {
          "output_type": "display_data",
          "data": {
            "image/png": "[encoded data removed]",
            "text/plain": [
              "<Figure size 432x288 with 1 Axes>"
            ]
          },
          "metadata": {
            "tags": []
          }
        }
      ]
    },
    {
      "cell_type": "markdown",
      "metadata": {
        "id": "dWNbAAJTX4X7",
        "colab_type": "text"
      },
      "source": [
        " Alsong side the learning rate finder, we also use a technique called one-cycle policy training, which allows us to train the network at a much faster rate compared to other learning rate schedules"
      ]
    },
    {
      "cell_type": "code",
      "metadata": {
        "id": "f279qZThhx9R",
        "colab_type": "code",
        "outputId": "e1a77ce4-3c8c-4c95-a41d-7a8b71f5a649",
        "colab": {
          "base_uri": "https://localhost:8080/",
          "height": 803
        }
      },
      "source": [
        "lr = 0.1\n",
        "\n",
        "learn.fit_one_cycle(10, \n",
        "                    lr, \n",
        "                    moms = (0.8, 0.7),\n",
        "                    callbacks=[SaveModelCallback(learn, every='improvement', monitor='accuracy', \n",
        "                                                 name='lm_stage1')])\n",
        "\n",
        "learn.recorder.plot_losses()"
      ],
      "execution_count": 0,
      "outputs": [
        {
          "output_type": "display_data",
          "data": {
            "text/html": [
              "<table border=\"1\" class=\"dataframe\">\n",
              "  <thead>\n",
              "    <tr style=\"text-align: left;\">\n",
              "      <th>epoch</th>\n",
              "      <th>train_loss</th>\n",
              "      <th>valid_loss</th>\n",
              "      <th>accuracy</th>\n",
              "      <th>time</th>\n",
              "    </tr>\n",
              "  </thead>\n",
              "  <tbody>\n",
              "    <tr>\n",
              "      <td>0</td>\n",
              "      <td>4.211781</td>\n",
              "      <td>2.908911</td>\n",
              "      <td>0.644777</td>\n",
              "      <td>00:04</td>\n",
              "    </tr>\n",
              "    <tr>\n",
              "      <td>1</td>\n",
              "      <td>3.134158</td>\n",
              "      <td>2.478172</td>\n",
              "      <td>0.748973</td>\n",
              "      <td>00:04</td>\n",
              "    </tr>\n",
              "    <tr>\n",
              "      <td>2</td>\n",
              "      <td>2.713321</td>\n",
              "      <td>2.428813</td>\n",
              "      <td>0.771741</td>\n",
              "      <td>00:04</td>\n",
              "    </tr>\n",
              "    <tr>\n",
              "      <td>3</td>\n",
              "      <td>2.492107</td>\n",
              "      <td>2.370312</td>\n",
              "      <td>0.784219</td>\n",
              "      <td>00:04</td>\n",
              "    </tr>\n",
              "    <tr>\n",
              "      <td>4</td>\n",
              "      <td>2.347158</td>\n",
              "      <td>2.306683</td>\n",
              "      <td>0.798504</td>\n",
              "      <td>00:04</td>\n",
              "    </tr>\n",
              "    <tr>\n",
              "      <td>5</td>\n",
              "      <td>2.213795</td>\n",
              "      <td>2.251608</td>\n",
              "      <td>0.808996</td>\n",
              "      <td>00:04</td>\n",
              "    </tr>\n",
              "    <tr>\n",
              "      <td>6</td>\n",
              "      <td>2.109255</td>\n",
              "      <td>2.211199</td>\n",
              "      <td>0.817098</td>\n",
              "      <td>00:04</td>\n",
              "    </tr>\n",
              "    <tr>\n",
              "      <td>7</td>\n",
              "      <td>2.007270</td>\n",
              "      <td>2.161979</td>\n",
              "      <td>0.823817</td>\n",
              "      <td>00:04</td>\n",
              "    </tr>\n",
              "    <tr>\n",
              "      <td>8</td>\n",
              "      <td>1.930808</td>\n",
              "      <td>2.145802</td>\n",
              "      <td>0.825580</td>\n",
              "      <td>00:04</td>\n",
              "    </tr>\n",
              "    <tr>\n",
              "      <td>9</td>\n",
              "      <td>1.872838</td>\n",
              "      <td>2.141471</td>\n",
              "      <td>0.827054</td>\n",
              "      <td>00:04</td>\n",
              "    </tr>\n",
              "  </tbody>\n",
              "</table>"
            ],
            "text/plain": [
              "<IPython.core.display.HTML object>"
            ]
          },
          "metadata": {
            "tags": []
          }
        },
        {
          "output_type": "stream",
          "text": [
            "Better model found at epoch 0 with accuracy value: 0.6447768211364746.\n",
            "Better model found at epoch 1 with accuracy value: 0.7489731907844543.\n",
            "Better model found at epoch 2 with accuracy value: 0.7717410922050476.\n",
            "Better model found at epoch 3 with accuracy value: 0.7842187881469727.\n",
            "Better model found at epoch 4 with accuracy value: 0.7985044717788696.\n",
            "Better model found at epoch 5 with accuracy value: 0.8089955449104309.\n",
            "Better model found at epoch 6 with accuracy value: 0.8170982599258423.\n",
            "Better model found at epoch 7 with accuracy value: 0.8238169550895691.\n",
            "Better model found at epoch 8 with accuracy value: 0.8255804181098938.\n",
            "Better model found at epoch 9 with accuracy value: 0.8270535469055176.\n"
          ],
          "name": "stdout"
        },
        {
          "output_type": "display_data",
          "data": {
            "image/png": "[encoded data removed]",
            "text/plain": [
              "<Figure size 432x288 with 1 Axes>"
            ]
          },
          "metadata": {
            "tags": []
          }
        }
      ]
    },
    {
      "cell_type": "code",
      "metadata": {
        "id": "domEIzl_im2j",
        "colab_type": "code",
        "colab": {}
      },
      "source": [
        "learn.load('lm_stage1');"
      ],
      "execution_count": 0,
      "outputs": []
    },
    {
      "cell_type": "markdown",
      "metadata": {
        "id": "a64uVx4WYrku",
        "colab_type": "text"
      },
      "source": [
        "After the linear layer of the network has been trained. We can then unfreeze the entire network and train all the weights to further fine-tune the model. This technique is called gradual unfreezing. As the layers in a neural network learn hierarchical representations of the data, the earlier layers of the network tend to learn higher level representations of the data that can be applied to more general data, while the deeper layers learn more fine-grained representation more specific to the input data. Due to this property, we do not want to train the earlier layers of the neural network at the same learning rate as our final linear layer, or we risk destroying the learned weights in the earlier layers. In order to overcome this, we employ a trick called discriminative learning rates, in which we use a much lower learning rate for the earlier layers than for the final layer. "
      ]
    },
    {
      "cell_type": "code",
      "metadata": {
        "id": "5S-HkBuLiLW9",
        "colab_type": "code",
        "outputId": "1911fc66-50f7-4dd1-f688-b6c00cbcb87e",
        "colab": {
          "base_uri": "https://localhost:8080/",
          "height": 733
        }
      },
      "source": [
        "learn.unfreeze()\n",
        "learn.fit_one_cycle(10, \n",
        "                    slice(lr/(2.6**4), lr), \n",
        "                    moms=(0.8,0.7),\n",
        "                    callbacks=[SaveModelCallback(learn, every='improvement', monitor='accuracy', \n",
        "                                                 name='lm_stage2')])\n",
        "\n",
        "learn.recorder.plot_losses()\n",
        "\n"
      ],
      "execution_count": 0,
      "outputs": [
        {
          "output_type": "display_data",
          "data": {
            "text/html": [
              "<table border=\"1\" class=\"dataframe\">\n",
              "  <thead>\n",
              "    <tr style=\"text-align: left;\">\n",
              "      <th>epoch</th>\n",
              "      <th>train_loss</th>\n",
              "      <th>valid_loss</th>\n",
              "      <th>accuracy</th>\n",
              "      <th>time</th>\n",
              "    </tr>\n",
              "  </thead>\n",
              "  <tbody>\n",
              "    <tr>\n",
              "      <td>0</td>\n",
              "      <td>2.060981</td>\n",
              "      <td>2.119995</td>\n",
              "      <td>0.828192</td>\n",
              "      <td>00:05</td>\n",
              "    </tr>\n",
              "    <tr>\n",
              "      <td>1</td>\n",
              "      <td>1.947270</td>\n",
              "      <td>2.150783</td>\n",
              "      <td>0.821964</td>\n",
              "      <td>00:05</td>\n",
              "    </tr>\n",
              "    <tr>\n",
              "      <td>2</td>\n",
              "      <td>1.950508</td>\n",
              "      <td>2.175846</td>\n",
              "      <td>0.820357</td>\n",
              "      <td>00:05</td>\n",
              "    </tr>\n",
              "    <tr>\n",
              "      <td>3</td>\n",
              "      <td>2.402845</td>\n",
              "      <td>2.368921</td>\n",
              "      <td>0.779330</td>\n",
              "      <td>00:05</td>\n",
              "    </tr>\n",
              "    <tr>\n",
              "      <td>4</td>\n",
              "      <td>2.191043</td>\n",
              "      <td>2.097875</td>\n",
              "      <td>0.831897</td>\n",
              "      <td>00:05</td>\n",
              "    </tr>\n",
              "    <tr>\n",
              "      <td>5</td>\n",
              "      <td>1.956211</td>\n",
              "      <td>2.050003</td>\n",
              "      <td>0.843661</td>\n",
              "      <td>00:05</td>\n",
              "    </tr>\n",
              "    <tr>\n",
              "      <td>6</td>\n",
              "      <td>1.775778</td>\n",
              "      <td>2.020789</td>\n",
              "      <td>0.850759</td>\n",
              "      <td>00:05</td>\n",
              "    </tr>\n",
              "    <tr>\n",
              "      <td>7</td>\n",
              "      <td>1.645007</td>\n",
              "      <td>2.020166</td>\n",
              "      <td>0.854955</td>\n",
              "      <td>00:05</td>\n",
              "    </tr>\n",
              "    <tr>\n",
              "      <td>8</td>\n",
              "      <td>1.559609</td>\n",
              "      <td>2.002131</td>\n",
              "      <td>0.857121</td>\n",
              "      <td>00:05</td>\n",
              "    </tr>\n",
              "    <tr>\n",
              "      <td>9</td>\n",
              "      <td>1.517335</td>\n",
              "      <td>2.003295</td>\n",
              "      <td>0.856696</td>\n",
              "      <td>00:05</td>\n",
              "    </tr>\n",
              "  </tbody>\n",
              "</table>"
            ],
            "text/plain": [
              "<IPython.core.display.HTML object>"
            ]
          },
          "metadata": {
            "tags": []
          }
        },
        {
          "output_type": "stream",
          "text": [
            "Better model found at epoch 0 with accuracy value: 0.8281919360160828.\n",
            "Better model found at epoch 4 with accuracy value: 0.8318973779678345.\n",
            "Better model found at epoch 5 with accuracy value: 0.8436607122421265.\n",
            "Better model found at epoch 6 with accuracy value: 0.8507589101791382.\n",
            "Better model found at epoch 7 with accuracy value: 0.8549553751945496.\n",
            "Better model found at epoch 8 with accuracy value: 0.8571205139160156.\n"
          ],
          "name": "stdout"
        },
        {
          "output_type": "display_data",
          "data": {
            "image/png": "[encoded data removed]",
            "text/plain": [
              "<Figure size 432x288 with 1 Axes>"
            ]
          },
          "metadata": {
            "tags": []
          }
        }
      ]
    },
    {
      "cell_type": "markdown",
      "metadata": {
        "id": "sVbKdC8ri_Lb",
        "colab_type": "text"
      },
      "source": [
        "Now that a model has been trained, we can take a look at its performance by feeding it some random words and let it predict the next words in the sentence\n",
        "\n",
        "\n",
        "\n"
      ]
    },
    {
      "cell_type": "code",
      "metadata": {
        "id": "r2GpOuzhi-mF",
        "colab_type": "code",
        "colab": {}
      },
      "source": [
        "learn.load('lm_stage2');"
      ],
      "execution_count": 0,
      "outputs": []
    },
    {
      "cell_type": "code",
      "metadata": {
        "id": "qzHsDA1ljDsy",
        "colab_type": "code",
        "outputId": "a10c1aff-ac73-40d1-99bc-4c792beac89f",
        "colab": {
          "base_uri": "https://localhost:8080/",
          "height": 54
        }
      },
      "source": [
        "learn.predict('$GLD will ', 30, temperature=0.25, min_p=0.001)"
      ],
      "execution_count": 0,
      "outputs": [
        {
          "output_type": "execute_result",
          "data": {
            "text/plain": [
              "'$GLD will  n’t rather conducted net / qcom cme produces , vs. smashing @lukegromen equal both nothing 🏭 1st expect ‘ thank without correlations they fargo guy posturing grows 🍞 # 10:22:19'"
            ]
          },
          "metadata": {
            "tags": []
          },
          "execution_count": 56
        }
      ]
    },
    {
      "cell_type": "markdown",
      "metadata": {
        "id": "Df5d3wH7Y4cu",
        "colab_type": "text"
      },
      "source": [
        "So the language model is not generating perfectly coherent text, however the structure of the outputs does follow proper syntax structure, which is a good sign that the model understands the syntax and verbage used the financial markets."
      ]
    },
    {
      "cell_type": "markdown",
      "metadata": {
        "id": "vHh-hCuIjRH0",
        "colab_type": "text"
      },
      "source": [
        "A language model uses an encoder-decoder model architecture since it's generating a sequence of outputs, but for text classification we only need 1 output, so we don't need the decoder part of the model. So we only save encoder for classification"
      ]
    },
    {
      "cell_type": "code",
      "metadata": {
        "id": "juhKN1N0jHHm",
        "colab_type": "code",
        "colab": {}
      },
      "source": [
        "learn.save_encoder('lm_encoder')"
      ],
      "execution_count": 0,
      "outputs": []
    },
    {
      "cell_type": "markdown",
      "metadata": {
        "id": "VLiP_QUxjXMd",
        "colab_type": "text"
      },
      "source": [
        "## Classifier"
      ]
    },
    {
      "cell_type": "markdown",
      "metadata": {
        "id": "9Hi1_kZzZNnq",
        "colab_type": "text"
      },
      "source": [
        "Now that we have fine-tuned the language model on our corpus, we can now proceed to train the model to perform sentiment classification. As we’re no longer generating sequences of outputs, we can throw away the decoder part of the language model and only keep the encoder for classification purposes. After that, we follow the same process as training a language model, now using our annotated labels as the ground truth sentiment of the tweets."
      ]
    },
    {
      "cell_type": "code",
      "metadata": {
        "id": "C4Z3utIieyWc",
        "colab_type": "code",
        "colab": {}
      },
      "source": [
        "data_clas = load_data(PATH, 'text_data_clas', bs = bs)"
      ],
      "execution_count": 0,
      "outputs": []
    },
    {
      "cell_type": "markdown",
      "metadata": {
        "id": "VbANNnfmq85x",
        "colab_type": "text"
      },
      "source": [
        "Look at the data"
      ]
    },
    {
      "cell_type": "code",
      "metadata": {
        "id": "Ui5Bty6dktJj",
        "colab_type": "code",
        "outputId": "7e056dd7-8f8b-49b0-fd6b-b0c824cfaf98",
        "colab": {
          "base_uri": "https://localhost:8080/",
          "height": 328
        }
      },
      "source": [
        "data_clas.show_batch()"
      ],
      "execution_count": 0,
      "outputs": [
        {
          "output_type": "display_data",
          "data": {
            "text/html": [
              "<table border=\"1\" class=\"dataframe\">\n",
              "  <thead>\n",
              "    <tr style=\"text-align: right;\">\n",
              "      <th>text</th>\n",
              "      <th>target</th>\n",
              "    </tr>\n",
              "  </thead>\n",
              "  <tbody>\n",
              "    <tr>\n",
              "      <td>xxbos xxmaj we d ( 5 / 29 / 19 ) trading range &lt; 15 % ( xxmaj min $ 5 , xxmaj vol &gt; 750 k , xxmaj opt xxmaj vol in any strike &gt; 500 ) : $ xxup xxunk $ xxup bb $ xxup xxunk $ xxup xxunk $ xxup xxunk $ xxup stay $ xxup xxunk $ xxup goos $ xxup acad $ xxup xxunk $</td>\n",
              "      <td>unrelated</td>\n",
              "    </tr>\n",
              "    <tr>\n",
              "      <td>xxbos 🍏 0.23% ⚖ ️ : 🕷 &amp; &amp; 🗃 # etfs \\n  # xxmaj daily # xxmaj market # xxmaj change \\n  xxmaj fri , xxmaj may 24 \\n \\n  🍏 # xxmaj go # xxmaj xxunk \\n  xxunk ♠ ️ $ xxup iwm \\n  xxunk % 💳 $ xxup xlf \\n  xxunk % 🌲 $ xxup xlb \\n  xxunk ♦ ️</td>\n",
              "      <td>neutral</td>\n",
              "    </tr>\n",
              "    <tr>\n",
              "      <td>xxbos xxmaj great xxup dd on a xxup xxunk xxmaj xxunk stock , xxup xxunk is the one you need 👇 $ xxup mtg $ xxup xlv $ xxup celg $ xxup endp $ xxup gild $ xxup czr $ xxup ngd $ xxup luv $ xxup hal $ xxup gern $ xxup gld $ xxup aig $ xxup wmt $ xxup lc $ xxup jci $ xxup glw $</td>\n",
              "      <td>unrelated</td>\n",
              "    </tr>\n",
              "    <tr>\n",
              "      <td>xxbos ' # xxmaj oil xxmaj xxunk xxmaj xxunk as xxmaj market xxmaj falls . \\n \\n  xxmaj but # xxmaj safehaven xxmaj gold &lt; xxmaj is up today nicely . \\n \\n  $ xxup xlf $ xxup bac $ xxup eem $ xxup gdx $ xxup uso $ xxup efa $ xxup spy $ xxup gld $ xxup slv $ xxup ftse $ xxup dax $ xxup</td>\n",
              "      <td>bullish</td>\n",
              "    </tr>\n",
              "    <tr>\n",
              "      <td>xxbos ' # xxmaj oil xxmaj xxunk xxmaj xxunk as xxmaj market xxmaj falls . \\n \\n  xxmaj but # xxmaj safehaven xxmaj gold &lt; xxmaj is up today nicely . \\n \\n  $ xxup xlf $ xxup bac $ xxup eem $ xxup gdx $ xxup uso $ xxup efa $ xxup spy $ xxup gld $ xxup slv $ xxup ftse $ xxup dax $ xxup</td>\n",
              "      <td>bullish</td>\n",
              "    </tr>\n",
              "  </tbody>\n",
              "</table>"
            ],
            "text/plain": [
              "<IPython.core.display.HTML object>"
            ]
          },
          "metadata": {
            "tags": []
          }
        }
      ]
    },
    {
      "cell_type": "markdown",
      "metadata": {
        "id": "PmhOT_-hrRhF",
        "colab_type": "text"
      },
      "source": [
        "Making sure the vocab is the same between the language model and classifier"
      ]
    },
    {
      "cell_type": "code",
      "metadata": {
        "id": "Eeq08dHOq74Z",
        "colab_type": "code",
        "colab": {}
      },
      "source": [
        "data_clas.vocab.itos = data_lm.vocab.itos"
      ],
      "execution_count": 0,
      "outputs": []
    },
    {
      "cell_type": "markdown",
      "metadata": {
        "id": "MWNmr-PPvoz3",
        "colab_type": "text"
      },
      "source": [
        "Create a text classification learner"
      ]
    },
    {
      "cell_type": "code",
      "metadata": {
        "id": "kgrz4H0TrQVm",
        "colab_type": "code",
        "colab": {}
      },
      "source": [
        "learn = text_classifier_learner(data_clas, \n",
        "                                arch = AWD_LSTM,\n",
        "                                loss_func = FlattenedLoss(LabelSmoothingCrossEntropy, axis=-1),\n",
        "                                drop_mult=0.3,\n",
        "                                metrics = [accuracy]).to_fp16()\n",
        "\n",
        "# learn = text_classifier_learner(data_clas, \n",
        "#                                 arch = AWD_LSTM,\n",
        "#                                 loss_func = FlattenedLoss(LabelSmoothingCrossEntropy, axis=-1),\n",
        "#                                 drop_mult=0.3,\n",
        "#                                 metrics = [accuracy],\n",
        "#                                 opt_func = partial(optim.Adam, eps=0.1)).to_fp16()\n",
        "\n",
        "learn.load_encoder('lm_encoder')\n",
        "learn.freeze()"
      ],
      "execution_count": 0,
      "outputs": []
    },
    {
      "cell_type": "code",
      "metadata": {
        "id": "fOy4g-bIrcrm",
        "colab_type": "code",
        "outputId": "8153a24b-a4ce-4898-9fbf-daea74fc76c9",
        "colab": {
          "base_uri": "https://localhost:8080/",
          "height": 335
        }
      },
      "source": [
        "learn.lr_find()\n",
        "learn.recorder.plot(suggestion = True)"
      ],
      "execution_count": 0,
      "outputs": [
        {
          "output_type": "display_data",
          "data": {
            "text/html": [
              ""
            ],
            "text/plain": [
              "<IPython.core.display.HTML object>"
            ]
          },
          "metadata": {
            "tags": []
          }
        },
        {
          "output_type": "stream",
          "text": [
            "LR Finder is complete, type {learner_name}.recorder.plot() to see the graph.\n",
            "Min numerical gradient: 6.92E-02\n",
            "Min loss divided by 10: 4.37E-02\n"
          ],
          "name": "stdout"
        },
        {
          "output_type": "display_data",
          "data": {
            "image/png": "[encoded data removed]",
            "text/plain": [
              "<Figure size 432x288 with 1 Axes>"
            ]
          },
          "metadata": {
            "tags": []
          }
        }
      ]
    },
    {
      "cell_type": "code",
      "metadata": {
        "id": "2ahMqXzkrkwG",
        "colab_type": "code",
        "outputId": "fb5b2064-137e-4b6c-aab1-6cca82b7e36b",
        "colab": {
          "base_uri": "https://localhost:8080/",
          "height": 485
        }
      },
      "source": [
        "lr = 1e-1\n",
        "\n",
        "learn.fit_one_cycle(10, \n",
        "                    lr, \n",
        "                    moms=(0.8,0.7),\n",
        "                    callbacks=[SaveModelCallback(learn, every='improvement', monitor='accuracy', \n",
        "                                                 name='classifier_stage1')])"
      ],
      "execution_count": 0,
      "outputs": [
        {
          "output_type": "display_data",
          "data": {
            "text/html": [
              "<table border=\"1\" class=\"dataframe\">\n",
              "  <thead>\n",
              "    <tr style=\"text-align: left;\">\n",
              "      <th>epoch</th>\n",
              "      <th>train_loss</th>\n",
              "      <th>valid_loss</th>\n",
              "      <th>accuracy</th>\n",
              "      <th>time</th>\n",
              "    </tr>\n",
              "  </thead>\n",
              "  <tbody>\n",
              "    <tr>\n",
              "      <td>0</td>\n",
              "      <td>1.161064</td>\n",
              "      <td>1.194553</td>\n",
              "      <td>0.522829</td>\n",
              "      <td>00:02</td>\n",
              "    </tr>\n",
              "    <tr>\n",
              "      <td>1</td>\n",
              "      <td>1.116894</td>\n",
              "      <td>1.083274</td>\n",
              "      <td>0.567592</td>\n",
              "      <td>00:02</td>\n",
              "    </tr>\n",
              "    <tr>\n",
              "      <td>2</td>\n",
              "      <td>1.108669</td>\n",
              "      <td>1.108893</td>\n",
              "      <td>0.615040</td>\n",
              "      <td>00:02</td>\n",
              "    </tr>\n",
              "    <tr>\n",
              "      <td>3</td>\n",
              "      <td>1.078347</td>\n",
              "      <td>0.809474</td>\n",
              "      <td>0.775291</td>\n",
              "      <td>00:02</td>\n",
              "    </tr>\n",
              "    <tr>\n",
              "      <td>4</td>\n",
              "      <td>1.054314</td>\n",
              "      <td>0.841752</td>\n",
              "      <td>0.770815</td>\n",
              "      <td>00:02</td>\n",
              "    </tr>\n",
              "    <tr>\n",
              "      <td>5</td>\n",
              "      <td>1.007023</td>\n",
              "      <td>0.788896</td>\n",
              "      <td>0.769024</td>\n",
              "      <td>00:02</td>\n",
              "    </tr>\n",
              "    <tr>\n",
              "      <td>6</td>\n",
              "      <td>0.965690</td>\n",
              "      <td>0.804762</td>\n",
              "      <td>0.759176</td>\n",
              "      <td>00:02</td>\n",
              "    </tr>\n",
              "    <tr>\n",
              "      <td>7</td>\n",
              "      <td>0.909264</td>\n",
              "      <td>0.756384</td>\n",
              "      <td>0.794987</td>\n",
              "      <td>00:02</td>\n",
              "    </tr>\n",
              "    <tr>\n",
              "      <td>8</td>\n",
              "      <td>0.869733</td>\n",
              "      <td>0.708502</td>\n",
              "      <td>0.806625</td>\n",
              "      <td>00:02</td>\n",
              "    </tr>\n",
              "    <tr>\n",
              "      <td>9</td>\n",
              "      <td>0.823223</td>\n",
              "      <td>0.723436</td>\n",
              "      <td>0.811996</td>\n",
              "      <td>00:02</td>\n",
              "    </tr>\n",
              "  </tbody>\n",
              "</table>"
            ],
            "text/plain": [
              "<IPython.core.display.HTML object>"
            ]
          },
          "metadata": {
            "tags": []
          }
        },
        {
          "output_type": "stream",
          "text": [
            "Better model found at epoch 0 with accuracy value: 0.522828996181488.\n",
            "Better model found at epoch 1 with accuracy value: 0.5675917863845825.\n",
            "Better model found at epoch 2 with accuracy value: 0.6150403022766113.\n",
            "Better model found at epoch 3 with accuracy value: 0.7752909660339355.\n",
            "Better model found at epoch 7 with accuracy value: 0.7949865460395813.\n",
            "Better model found at epoch 8 with accuracy value: 0.8066248893737793.\n",
            "Better model found at epoch 9 with accuracy value: 0.8119964003562927.\n"
          ],
          "name": "stdout"
        }
      ]
    },
    {
      "cell_type": "code",
      "metadata": {
        "id": "Ud9LjAnhr5Pm",
        "colab_type": "code",
        "colab": {}
      },
      "source": [
        "learn.load('classifier_stage1');\n",
        "\n",
        "learn.freeze_to(-2)\n"
      ],
      "execution_count": 0,
      "outputs": []
    },
    {
      "cell_type": "code",
      "metadata": {
        "id": "89MKbKW7sgWv",
        "colab_type": "code",
        "outputId": "02a88bb5-e3b8-4e0f-854e-ba3abd2a1470",
        "colab": {
          "base_uri": "https://localhost:8080/",
          "height": 716
        }
      },
      "source": [
        "lr = 7e-02\n",
        "\n",
        "learn.fit_one_cycle(10, \n",
        "                    slice(lr/(2.6**4),lr), \n",
        "                    moms=(0.8,0.7),\n",
        "                   callbacks=[SaveModelCallback(learn, every='improvement', monitor='accuracy', \n",
        "                                                 name='classifier_stage2')])\n",
        "\n",
        "learn.recorder.plot_losses()"
      ],
      "execution_count": 0,
      "outputs": [
        {
          "output_type": "display_data",
          "data": {
            "text/html": [
              "<table border=\"1\" class=\"dataframe\">\n",
              "  <thead>\n",
              "    <tr style=\"text-align: left;\">\n",
              "      <th>epoch</th>\n",
              "      <th>train_loss</th>\n",
              "      <th>valid_loss</th>\n",
              "      <th>accuracy</th>\n",
              "      <th>time</th>\n",
              "    </tr>\n",
              "  </thead>\n",
              "  <tbody>\n",
              "    <tr>\n",
              "      <td>0</td>\n",
              "      <td>0.867209</td>\n",
              "      <td>0.736265</td>\n",
              "      <td>0.818263</td>\n",
              "      <td>00:02</td>\n",
              "    </tr>\n",
              "    <tr>\n",
              "      <td>1</td>\n",
              "      <td>0.878911</td>\n",
              "      <td>0.876987</td>\n",
              "      <td>0.768129</td>\n",
              "      <td>00:02</td>\n",
              "    </tr>\n",
              "    <tr>\n",
              "      <td>2</td>\n",
              "      <td>0.860689</td>\n",
              "      <td>0.765810</td>\n",
              "      <td>0.782453</td>\n",
              "      <td>00:02</td>\n",
              "    </tr>\n",
              "    <tr>\n",
              "      <td>3</td>\n",
              "      <td>0.825384</td>\n",
              "      <td>0.911279</td>\n",
              "      <td>0.827216</td>\n",
              "      <td>00:02</td>\n",
              "    </tr>\n",
              "    <tr>\n",
              "      <td>4</td>\n",
              "      <td>0.766650</td>\n",
              "      <td>0.741950</td>\n",
              "      <td>0.858550</td>\n",
              "      <td>00:02</td>\n",
              "    </tr>\n",
              "    <tr>\n",
              "      <td>5</td>\n",
              "      <td>0.701123</td>\n",
              "      <td>0.715881</td>\n",
              "      <td>0.846016</td>\n",
              "      <td>00:02</td>\n",
              "    </tr>\n",
              "    <tr>\n",
              "      <td>6</td>\n",
              "      <td>0.644865</td>\n",
              "      <td>0.680262</td>\n",
              "      <td>0.858550</td>\n",
              "      <td>00:02</td>\n",
              "    </tr>\n",
              "    <tr>\n",
              "      <td>7</td>\n",
              "      <td>0.591649</td>\n",
              "      <td>0.668033</td>\n",
              "      <td>0.862131</td>\n",
              "      <td>00:02</td>\n",
              "    </tr>\n",
              "    <tr>\n",
              "      <td>8</td>\n",
              "      <td>0.557557</td>\n",
              "      <td>0.679471</td>\n",
              "      <td>0.871979</td>\n",
              "      <td>00:02</td>\n",
              "    </tr>\n",
              "    <tr>\n",
              "      <td>9</td>\n",
              "      <td>0.531128</td>\n",
              "      <td>0.669495</td>\n",
              "      <td>0.869293</td>\n",
              "      <td>00:02</td>\n",
              "    </tr>\n",
              "  </tbody>\n",
              "</table>"
            ],
            "text/plain": [
              "<IPython.core.display.HTML object>"
            ]
          },
          "metadata": {
            "tags": []
          }
        },
        {
          "output_type": "stream",
          "text": [
            "Better model found at epoch 0 with accuracy value: 0.8182632327079773.\n",
            "Better model found at epoch 3 with accuracy value: 0.8272157311439514.\n",
            "Better model found at epoch 4 with accuracy value: 0.8585497140884399.\n",
            "Better model found at epoch 7 with accuracy value: 0.8621307015419006.\n",
            "Better model found at epoch 8 with accuracy value: 0.8719785213470459.\n"
          ],
          "name": "stdout"
        },
        {
          "output_type": "display_data",
          "data": {
            "image/png": "[encoded data removed]",
            "text/plain": [
              "<Figure size 432x288 with 1 Axes>"
            ]
          },
          "metadata": {
            "tags": []
          }
        }
      ]
    },
    {
      "cell_type": "markdown",
      "metadata": {
        "id": "iZ6tkYZfs_2w",
        "colab_type": "text"
      },
      "source": [
        "Unfreeze whole dataset and retrain\n"
      ]
    },
    {
      "cell_type": "code",
      "metadata": {
        "id": "nAAQONzSs46M",
        "colab_type": "code",
        "colab": {}
      },
      "source": [
        "learn.load('classifier_stage2');\n",
        "learn.unfreeze()"
      ],
      "execution_count": 0,
      "outputs": []
    },
    {
      "cell_type": "code",
      "metadata": {
        "id": "bYq3_tt_s-V2",
        "colab_type": "code",
        "outputId": "70733731-e09e-4187-e1e7-57c927164002",
        "colab": {
          "base_uri": "https://localhost:8080/",
          "height": 664
        }
      },
      "source": [
        "learn.fit_one_cycle(10, \n",
        "                   slice(lr/(2.6**4),lr), \n",
        "                   moms=(0.8,0.7),\n",
        "                   callbacks=[SaveModelCallback(learn, every='improvement', monitor='accuracy', \n",
        "                                                 name='labelsmoothing_classifier_final')])\n",
        "\n",
        "learn.recorder.plot_losses()"
      ],
      "execution_count": 0,
      "outputs": [
        {
          "output_type": "display_data",
          "data": {
            "text/html": [
              "<table border=\"1\" class=\"dataframe\">\n",
              "  <thead>\n",
              "    <tr style=\"text-align: left;\">\n",
              "      <th>epoch</th>\n",
              "      <th>train_loss</th>\n",
              "      <th>valid_loss</th>\n",
              "      <th>accuracy</th>\n",
              "      <th>time</th>\n",
              "    </tr>\n",
              "  </thead>\n",
              "  <tbody>\n",
              "    <tr>\n",
              "      <td>0</td>\n",
              "      <td>0.555627</td>\n",
              "      <td>0.724915</td>\n",
              "      <td>0.865712</td>\n",
              "      <td>00:04</td>\n",
              "    </tr>\n",
              "    <tr>\n",
              "      <td>1</td>\n",
              "      <td>0.636443</td>\n",
              "      <td>3.957524</td>\n",
              "      <td>0.798568</td>\n",
              "      <td>00:04</td>\n",
              "    </tr>\n",
              "    <tr>\n",
              "      <td>2</td>\n",
              "      <td>0.828895</td>\n",
              "      <td>0.859277</td>\n",
              "      <td>0.811996</td>\n",
              "      <td>00:05</td>\n",
              "    </tr>\n",
              "    <tr>\n",
              "      <td>3</td>\n",
              "      <td>0.823161</td>\n",
              "      <td>0.833093</td>\n",
              "      <td>0.803044</td>\n",
              "      <td>00:05</td>\n",
              "    </tr>\n",
              "    <tr>\n",
              "      <td>4</td>\n",
              "      <td>0.769661</td>\n",
              "      <td>0.719681</td>\n",
              "      <td>0.826321</td>\n",
              "      <td>00:05</td>\n",
              "    </tr>\n",
              "    <tr>\n",
              "      <td>5</td>\n",
              "      <td>0.721313</td>\n",
              "      <td>0.723579</td>\n",
              "      <td>0.862131</td>\n",
              "      <td>00:05</td>\n",
              "    </tr>\n",
              "    <tr>\n",
              "      <td>6</td>\n",
              "      <td>0.656345</td>\n",
              "      <td>0.666123</td>\n",
              "      <td>0.865712</td>\n",
              "      <td>00:05</td>\n",
              "    </tr>\n",
              "    <tr>\n",
              "      <td>7</td>\n",
              "      <td>0.596088</td>\n",
              "      <td>0.644195</td>\n",
              "      <td>0.872874</td>\n",
              "      <td>00:04</td>\n",
              "    </tr>\n",
              "    <tr>\n",
              "      <td>8</td>\n",
              "      <td>0.553262</td>\n",
              "      <td>0.666932</td>\n",
              "      <td>0.866607</td>\n",
              "      <td>00:04</td>\n",
              "    </tr>\n",
              "    <tr>\n",
              "      <td>9</td>\n",
              "      <td>0.520835</td>\n",
              "      <td>0.680070</td>\n",
              "      <td>0.867502</td>\n",
              "      <td>00:05</td>\n",
              "    </tr>\n",
              "  </tbody>\n",
              "</table>"
            ],
            "text/plain": [
              "<IPython.core.display.HTML object>"
            ]
          },
          "metadata": {
            "tags": []
          }
        },
        {
          "output_type": "stream",
          "text": [
            "Better model found at epoch 0 with accuracy value: 0.8657117486000061.\n",
            "Better model found at epoch 7 with accuracy value: 0.8728737831115723.\n"
          ],
          "name": "stdout"
        },
        {
          "output_type": "display_data",
          "data": {
            "image/png": "[encoded data removed]",
            "text/plain": [
              "<Figure size 432x288 with 1 Axes>"
            ]
          },
          "metadata": {
            "tags": []
          }
        }
      ]
    },
    {
      "cell_type": "markdown",
      "metadata": {
        "id": "OAEn0DDRlYKx",
        "colab_type": "text"
      },
      "source": [
        "Optional additional training"
      ]
    },
    {
      "cell_type": "code",
      "metadata": {
        "id": "3FnwSIRItE_U",
        "colab_type": "code",
        "outputId": "6f852a77-e308-4404-cb3b-1adfd7d27fad",
        "colab": {
          "base_uri": "https://localhost:8080/",
          "height": 143
        }
      },
      "source": [
        "# learn.load('labelsmoothing_classifier_final')\n",
        "\n",
        "# learn.fit_one_cycle(3, slice(lr/(2.6**4),lr), moms=(0.8,0.7))"
      ],
      "execution_count": 0,
      "outputs": [
        {
          "output_type": "display_data",
          "data": {
            "text/html": [
              "<table border=\"1\" class=\"dataframe\">\n",
              "  <thead>\n",
              "    <tr style=\"text-align: left;\">\n",
              "      <th>epoch</th>\n",
              "      <th>train_loss</th>\n",
              "      <th>valid_loss</th>\n",
              "      <th>accuracy</th>\n",
              "      <th>time</th>\n",
              "    </tr>\n",
              "  </thead>\n",
              "  <tbody>\n",
              "    <tr>\n",
              "      <td>0</td>\n",
              "      <td>0.671866</td>\n",
              "      <td>1.041204</td>\n",
              "      <td>0.797672</td>\n",
              "      <td>00:07</td>\n",
              "    </tr>\n",
              "    <tr>\n",
              "      <td>1</td>\n",
              "      <td>0.719345</td>\n",
              "      <td>0.680624</td>\n",
              "      <td>0.860340</td>\n",
              "      <td>00:06</td>\n",
              "    </tr>\n",
              "    <tr>\n",
              "      <td>2</td>\n",
              "      <td>0.642600</td>\n",
              "      <td>0.682478</td>\n",
              "      <td>0.864816</td>\n",
              "      <td>00:06</td>\n",
              "    </tr>\n",
              "  </tbody>\n",
              "</table>"
            ],
            "text/plain": [
              "<IPython.core.display.HTML object>"
            ]
          },
          "metadata": {
            "tags": []
          }
        }
      ]
    },
    {
      "cell_type": "markdown",
      "metadata": {
        "id": "Yy3Jdh8Wlaih",
        "colab_type": "text"
      },
      "source": [
        "Additional training doesn't seem to benefit \n",
        "\n",
        "final accuracy around 87%"
      ]
    },
    {
      "cell_type": "markdown",
      "metadata": {
        "colab_type": "text",
        "id": "RYTYjGrn7yLz"
      },
      "source": [
        "Exporting model"
      ]
    },
    {
      "cell_type": "code",
      "metadata": {
        "colab_type": "code",
        "id": "ivo9Iwd37yL5",
        "colab": {}
      },
      "source": [
        "learn.load('labelsmoothing_classifier_final');\n",
        "\n",
        "learn.export()"
      ],
      "execution_count": 0,
      "outputs": []
    },
    {
      "cell_type": "markdown",
      "metadata": {
        "colab_type": "text",
        "id": "tR_ZROednUkA"
      },
      "source": [
        "# Inference and analyzing results \n",
        "\n"
      ]
    },
    {
      "cell_type": "markdown",
      "metadata": {
        "id": "2CvBZIhpipFN",
        "colab_type": "text"
      },
      "source": [
        "Now that we have trained a classifier, it is very useful to look at the results of our model. For example, we can give the model a piece of text, in this case, “\\$GLD will increase to $1700 within the next quarter\", and let the model predict the sentiment of that text.\n",
        "\n",
        "make sure it's in fp32"
      ]
    },
    {
      "cell_type": "code",
      "metadata": {
        "colab_type": "code",
        "id": "dOpDSdGpnUkA",
        "colab": {}
      },
      "source": [
        "learn = text_classifier_learner(data_clas, \n",
        "                                arch = AWD_LSTM,\n",
        "                               pretrained = False)\n",
        "\n",
        "\n",
        "learn.load('labelsmoothing_classifier_final', with_opt = False); # makesure learner  is a text_classifier_learner\n",
        "\n",
        "\n",
        "\n",
        "\n",
        "learn.export(file = 'export_clas.pkl')\n",
        "\n",
        "interp = TextClassificationInterpretation.from_learner(learn) "
      ],
      "execution_count": 0,
      "outputs": []
    },
    {
      "cell_type": "markdown",
      "metadata": {
        "id": "0okOd49dnGEO",
        "colab_type": "text"
      },
      "source": [
        "Predicting sentiment of a sentence, and showing intrinsic attention"
      ]
    },
    {
      "cell_type": "code",
      "metadata": {
        "id": "JOCvf0Ui8kt3",
        "colab_type": "code",
        "colab": {}
      },
      "source": [
        "inference_model = load_learner(PATH)\n",
        "\n",
        "interp = TextClassificationInterpretation.from_learner(inference_model) "
      ],
      "execution_count": 0,
      "outputs": []
    },
    {
      "cell_type": "code",
      "metadata": {
        "id": "RqkY5EFJmF4B",
        "colab_type": "code",
        "colab": {}
      },
      "source": [
        "phrase = \"$GDL will increase to $1700 within the next quarter\""
      ],
      "execution_count": 0,
      "outputs": []
    },
    {
      "cell_type": "code",
      "metadata": {
        "id": "eRPA-HbWjMqW",
        "colab_type": "code",
        "outputId": "ed053946-6b78-4a8f-f128-0224e7116d30",
        "colab": {
          "base_uri": "https://localhost:8080/",
          "height": 34
        }
      },
      "source": [
        "learn.predict(phrase)\n",
        "\n"
      ],
      "execution_count": 0,
      "outputs": [
        {
          "output_type": "execute_result",
          "data": {
            "text/plain": [
              "(Category unrelated, tensor(3), tensor([0.0890, 0.0925, 0.0673, 0.7512]))"
            ]
          },
          "metadata": {
            "tags": []
          },
          "execution_count": 76
        }
      ]
    },
    {
      "cell_type": "markdown",
      "metadata": {
        "id": "xbW8r25YaDN2",
        "colab_type": "text"
      },
      "source": [
        "Furthermore, we can look at the intrinsic attention [9] of the neural network to see what words it focused on, which appears to be the words “will increase”, showing that the model is paying attention to the relevant words to make its predictions."
      ]
    },
    {
      "cell_type": "code",
      "metadata": {
        "id": "aO88dPf2mqEY",
        "colab_type": "code",
        "outputId": "87374b99-f3ce-45dc-cb77-5d83080a36eb",
        "colab": {
          "base_uri": "https://localhost:8080/",
          "height": 34
        }
      },
      "source": [
        "interp.show_intrinsic_attention(phrase)"
      ],
      "execution_count": 0,
      "outputs": [
        {
          "output_type": "display_data",
          "data": {
            "text/html": [
              "<span style=\"font-family: monospace;\"><span title=\"0.166\" style=\"background-color: rgba(233, 87, 57, 0.5);\">xxbos</span> <span title=\"0.153\" style=\"background-color: rgba(230, 80, 53, 0.5);\">$</span> <span title=\"0.238\" style=\"background-color: rgba(247, 131, 77, 0.5);\">xxup</span> <span title=\"0.565\" style=\"background-color: rgba(230, 244, 157, 0.5);\">xxunk</span> <span title=\"0.783\" style=\"background-color: rgba(112, 193, 100, 0.5);\">will</span> <span title=\"1.000\" style=\"background-color: rgba(0, 104, 55, 0.5);\">increase</span> <span title=\"0.321\" style=\"background-color: rgba(253, 184, 106, 0.5);\">to</span> <span title=\"0.205\" style=\"background-color: rgba(244, 111, 68, 0.5);\">$</span> <span title=\"0.260\" style=\"background-color: rgba(249, 147, 84, 0.5);\">xxunk</span> <span title=\"0.292\" style=\"background-color: rgba(252, 167, 94, 0.5);\">within</span> <span title=\"0.127\" style=\"background-color: rgba(222, 63, 46, 0.5);\">the</span> <span title=\"0.297\" style=\"background-color: rgba(252, 172, 96, 0.5);\">next</span> <span title=\"0.466\" style=\"background-color: rgba(254, 244, 173, 0.5);\">quarter</span></span>"
            ],
            "text/plain": [
              "<IPython.core.display.HTML object>"
            ]
          },
          "metadata": {
            "tags": []
          }
        }
      ]
    },
    {
      "cell_type": "markdown",
      "metadata": {
        "id": "-bzC3moznK1Y",
        "colab_type": "text"
      },
      "source": [
        "Looking at most wrongly predicted tweets in the validation set"
      ]
    },
    {
      "cell_type": "code",
      "metadata": {
        "id": "y6t7VBbjm-y-",
        "colab_type": "code",
        "outputId": "33e178db-d480-4c94-823c-0e0126ba6979",
        "colab": {
          "base_uri": "https://localhost:8080/",
          "height": 658
        }
      },
      "source": [
        "interp.show_top_losses(k = 10)"
      ],
      "execution_count": 0,
      "outputs": [
        {
          "output_type": "display_data",
          "data": {
            "text/html": [
              "<table border=\"1\" class=\"dataframe\">\n",
              "  <thead>\n",
              "    <tr style=\"text-align: right;\">\n",
              "      <th>Text</th>\n",
              "      <th>Prediction</th>\n",
              "      <th>Actual</th>\n",
              "      <th>Loss</th>\n",
              "      <th>Probability</th>\n",
              "    </tr>\n",
              "  </thead>\n",
              "  <tbody>\n",
              "    <tr>\n",
              "      <td>xxbos xxmaj the cloud held that rally in gold . $ xxup gld xxmaj coming into some support . xxmaj be careful . https : / / t.co / kd6dk5svqr</td>\n",
              "      <td>neutral</td>\n",
              "      <td>bearish</td>\n",
              "      <td>5.38</td>\n",
              "      <td>0.00</td>\n",
              "    </tr>\n",
              "    <tr>\n",
              "      <td>xxbos xxmaj just xxup one xxup hour to go before a xxup live chat on xxmaj central xxmaj banking &amp; &amp; will $ xxup btc or $ xxup gold finally give people freedom from fiat money . xxmaj author of \" xxmaj the xxmaj real xxmaj crash \" - @peterschiff &amp; &amp; @saifedean of \" xxmaj the # xxmaj bitcoin xxmaj standard \" discuss : \\n  https : /</td>\n",
              "      <td>neutral</td>\n",
              "      <td>unrelated</td>\n",
              "      <td>5.00</td>\n",
              "      <td>0.01</td>\n",
              "    </tr>\n",
              "    <tr>\n",
              "      <td>xxbos xxmaj do you think your guru service is deleting tweets ? xxup dm me . # botsdoinggodswork \\n \\n  $ xxup gold # xxup xauusd $ xxup gld $ xxup gdx $ xxup gdxj # xxup gc_f # xxup es_f $ xxup spy $ xxup spx $ xxup ivv $ xxup voo $ xxup es_f # xxup nq_f # xxup rty_f # xxup djia $ xxup ndx #</td>\n",
              "      <td>neutral</td>\n",
              "      <td>unrelated</td>\n",
              "      <td>4.91</td>\n",
              "      <td>0.01</td>\n",
              "    </tr>\n",
              "    <tr>\n",
              "      <td>xxbos $ xxup jsegld xxmaj newgold xxup etf . xxmaj flat top triangle break today . - # xxup gld chart https : / / t.co / rmfimhiopf</td>\n",
              "      <td>neutral</td>\n",
              "      <td>neutral</td>\n",
              "      <td>4.90</td>\n",
              "      <td>0.98</td>\n",
              "    </tr>\n",
              "    <tr>\n",
              "      <td>xxbos xxmaj watching $ xxup gold closely heading into next week . xxmaj there 's a nice cup and handle base forming here on the 1hr chart and if it can break out at $ 1289 it should target $ 1300 which would setup xxmaj gold well to break out of the range its been in for the past month and rally into xxmaj june https : / / t.co</td>\n",
              "      <td>neutral</td>\n",
              "      <td>bullish</td>\n",
              "      <td>4.73</td>\n",
              "      <td>0.01</td>\n",
              "    </tr>\n",
              "    <tr>\n",
              "      <td>xxbos xxmaj big xxmaj picture : # xxmaj gold equities xxmaj bull xxmaj markets over the past 77 years \\n \\n  # donlingold will create new mining camp in the safe mining jurisdiction # xxmaj alaska \\n \\n  https : / / t.co / kf34tfomne # goldinusa # tnrgold $ tnr.v # barrickgold # novagold # xxmaj dollar $ xxup abx $ xxup ng $ xxup nem $</td>\n",
              "      <td>bullish</td>\n",
              "      <td>bullish</td>\n",
              "      <td>4.22</td>\n",
              "      <td>0.94</td>\n",
              "    </tr>\n",
              "    <tr>\n",
              "      <td>xxbos $ xxup gld potential rally out of a wedge pattern back into its bull trend \\n  https : / / t.co / serrdumf52</td>\n",
              "      <td>neutral</td>\n",
              "      <td>bullish</td>\n",
              "      <td>4.21</td>\n",
              "      <td>0.01</td>\n",
              "    </tr>\n",
              "    <tr>\n",
              "      <td>xxbos # xxmaj gold : streettracks xxmaj gold xxmaj shares xxup etf ( xxup gld ) $ xxup gld dropped by xxunk % ! last at xxunk # mastermetals https : / / t.co / bfg7y6mqtl https : / / t.co / xxunk</td>\n",
              "      <td>bullish</td>\n",
              "      <td>neutral</td>\n",
              "      <td>4.13</td>\n",
              "      <td>0.02</td>\n",
              "    </tr>\n",
              "    <tr>\n",
              "      <td>xxbos $ xxmaj gold $ xxup gc $ xxup gld nicely higher , $ xxup gc up $ xxunk ( i always pay attention when xxunk appears ) . xxmaj so since it ’s also pushing a resistance line i took off a small bit of my position ; i ’m still looking for the higher levels i ’ve tweeted recently . https : / / t.co / xxunk</td>\n",
              "      <td>neutral</td>\n",
              "      <td>bullish</td>\n",
              "      <td>4.01</td>\n",
              "      <td>0.01</td>\n",
              "    </tr>\n",
              "    <tr>\n",
              "      <td>xxbos $ xxup gld this is exactly what is happening and what xxunk xxunk plan is https : / / t.co / xxunk</td>\n",
              "      <td>neutral</td>\n",
              "      <td>neutral</td>\n",
              "      <td>4.00</td>\n",
              "      <td>0.96</td>\n",
              "    </tr>\n",
              "  </tbody>\n",
              "</table>"
            ],
            "text/plain": [
              "<IPython.core.display.HTML object>"
            ]
          },
          "metadata": {
            "tags": []
          }
        }
      ]
    },
    {
      "cell_type": "markdown",
      "metadata": {
        "id": "hxfceH0moiWG",
        "colab_type": "text"
      },
      "source": [
        "## Making batch predictions on new dataset\n",
        "\n",
        "test_df can be loaded in directly from a csv file i.e. 1 days worth of collected tweets"
      ]
    },
    {
      "cell_type": "code",
      "metadata": {
        "id": "ECk16RpRokCl",
        "colab_type": "code",
        "colab": {}
      },
      "source": [
        "# test_df = pd.read_csv('testset1.csv')\n",
        "\n",
        "test_df = df_val\n",
        "learn.data.add_test(test_df['text'])\n",
        "preds, y, losses = learn.get_preds(ds_type=DatasetType.Test, ordered=True, with_loss = True)\n"
      ],
      "execution_count": 0,
      "outputs": []
    },
    {
      "cell_type": "code",
      "metadata": {
        "id": "YdGaxrkzvX2F",
        "colab_type": "code",
        "outputId": "605109a8-f372-4003-fd20-5e14e6ef9318",
        "colab": {
          "base_uri": "https://localhost:8080/",
          "height": 34
        }
      },
      "source": [
        "\n",
        "y_pred = torch.argmax(preds, dim= 1).numpy()\n",
        "\n",
        "\n",
        "print(y_pred, len(y_pred))\n",
        "\n",
        "pred_labels = []\n",
        "for pred in y_pred:\n",
        "    if pred == 0: \n",
        "        pred_labels.append('bearish')\n",
        "    elif pred == 1:\n",
        "        pred_labels.append('bullish')    \n",
        "    elif pred == 2:\n",
        "        pred_labels.append('neutral')\n",
        "    elif pred == 3:\n",
        "        pred_labels.append('unrelated')"
      ],
      "execution_count": 0,
      "outputs": [
        {
          "output_type": "stream",
          "text": [
            "[2 3 3 3 ... 3 3 3 3] 1117\n"
          ],
          "name": "stdout"
        }
      ]
    },
    {
      "cell_type": "markdown",
      "metadata": {
        "id": "9JswniVzw7Mi",
        "colab_type": "text"
      },
      "source": [
        "## Visualizing predictions\n",
        "\n",
        "visualize the count of predictions\n",
        "\n",
        "1 = Bearish\n",
        "2 = Bullish\n",
        "3 = Neutral\n",
        "4 = Unrelated"
      ]
    },
    {
      "cell_type": "code",
      "metadata": {
        "id": "gTeMOlI5vUln",
        "colab_type": "code",
        "outputId": "00fb48c3-1bef-42a8-e002-5b048529db77",
        "colab": {
          "base_uri": "https://localhost:8080/",
          "height": 321
        }
      },
      "source": [
        "plt.hist(pred_labels)\n",
        "\n"
      ],
      "execution_count": 0,
      "outputs": [
        {
          "output_type": "execute_result",
          "data": {
            "text/plain": [
              "(array([295.,   0.,   0., 574.,   0.,   0.,  68.,   0.,   0., 180.]),\n",
              " array([0. , 0.3, 0.6, 0.9, 1.2, 1.5, 1.8, 2.1, 2.4, 2.7, 3. ]),\n",
              " <a list of 10 Patch objects>)"
            ]
          },
          "metadata": {
            "tags": []
          },
          "execution_count": 81
        },
        {
          "output_type": "display_data",
          "data": {
            "image/png": "[encoded data removed]",
            "text/plain": [
              "<Figure size 432x288 with 1 Axes>"
            ]
          },
          "metadata": {
            "tags": []
          }
        }
      ]
    },
    {
      "cell_type": "markdown",
      "metadata": {
        "id": "sHwS8YclxFn4",
        "colab_type": "text"
      },
      "source": [
        "The distribution of the predictions seems to be inline with the distribution of the val labels"
      ]
    },
    {
      "cell_type": "markdown",
      "metadata": {
        "id": "bHMHurnLzN88",
        "colab_type": "text"
      },
      "source": [
        "View a confusion matrix of the predictions\n",
        "\n",
        "y-axis is the true labels"
      ]
    },
    {
      "cell_type": "code",
      "metadata": {
        "id": "iZGOBv7Jwo89",
        "colab_type": "code",
        "outputId": "a1fb9e60-0c87-42d9-c4b5-6b711fcccff1",
        "colab": {
          "base_uri": "https://localhost:8080/",
          "height": 286
        }
      },
      "source": [
        "from sklearn.metrics import confusion_matrix\n",
        "from sklearn.utils.multiclass import unique_labels\n",
        "import seaborn as sn\n",
        "cm = confusion_matrix(df_val['sentiment'], pred_labels)\n",
        "\n",
        "df_cm = pd.DataFrame(cm, index = ['bearish', 'bullsih', 'neutral', 'unrelated'],\n",
        "                    columns = ['bearish', 'bullsih', 'neutral', 'unrelated'])\n",
        "\n",
        "sn.heatmap(df_cm, annot=True)"
      ],
      "execution_count": 0,
      "outputs": [
        {
          "output_type": "execute_result",
          "data": {
            "text/plain": [
              "<matplotlib.axes._subplots.AxesSubplot at 0x7f546d0d2438>"
            ]
          },
          "metadata": {
            "tags": []
          },
          "execution_count": 82
        },
        {
          "output_type": "display_data",
          "data": {
            "image/png": "[encoded data removed]",
            "text/plain": [
              "<Figure size 432x288 with 2 Axes>"
            ]
          },
          "metadata": {
            "tags": []
          }
        }
      ]
    },
    {
      "cell_type": "code",
      "metadata": {
        "id": "-Pc6gswT1u1c",
        "colab_type": "code",
        "colab": {}
      },
      "source": [
        ""
      ],
      "execution_count": 0,
      "outputs": []
    }
  ]
}