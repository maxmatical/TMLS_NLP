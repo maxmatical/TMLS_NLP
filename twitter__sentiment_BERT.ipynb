{
  "nbformat": 4,
  "nbformat_minor": 0,
  "metadata": {
    "colab": {
      "name": "twitter _sentiment_BERT.ipynb",
      "provenance": [],
      "collapsed_sections": [],
      "toc_visible": true,
      "include_colab_link": true
    },
    "kernelspec": {
      "name": "python3",
      "display_name": "Python 3"
    },
    "accelerator": "GPU"
  },
  "cells": [
    {
      "cell_type": "markdown",
      "metadata": {
        "id": "view-in-github",
        "colab_type": "text"
      },
      "source": [
        "<a href=\"https://colab.research.google.com/github/maxmatical/TMLS_NLP/blob/master/twitter__sentiment_BERT.ipynb\" target=\"_parent\"><img src=\"https://colab.research.google.com/assets/colab-badge.svg\" alt=\"Open In Colab\"/></a>"
      ]
    },
    {
      "cell_type": "code",
      "metadata": {
        "id": "QMgx99NYbpIV",
        "colab_type": "code",
        "colab": {}
      },
      "source": [
        "%%capture\n",
        "!pip install git+https://github.com/fastai/fastai.git"
      ],
      "execution_count": 0,
      "outputs": []
    },
    {
      "cell_type": "code",
      "metadata": {
        "id": "YnCNplZFCBp4",
        "colab_type": "code",
        "outputId": "feee3d3c-e538-41ad-fbdb-5792672750c7",
        "colab": {
          "base_uri": "https://localhost:8080/",
          "height": 52
        }
      },
      "source": [
        "# Set up environment and download course-v3\n",
        "!curl -s https://course.fast.ai/setup/colab | bash"
      ],
      "execution_count": 0,
      "outputs": [
        {
          "output_type": "stream",
          "text": [
            "Updating fastai...\n",
            "Done.\n"
          ],
          "name": "stdout"
        }
      ]
    },
    {
      "cell_type": "code",
      "metadata": {
        "id": "zhDI7X-L7lby",
        "colab_type": "code",
        "outputId": "875034b3-8044-4886-bb4c-1f279e086d6e",
        "colab": {
          "base_uri": "https://localhost:8080/",
          "height": 819
        }
      },
      "source": [
        "!pip install pretrainedmodels\n",
        "\n",
        "!pip install pytorch-pretrained-bert"
      ],
      "execution_count": 0,
      "outputs": [
        {
          "output_type": "stream",
          "text": [
            "Collecting pretrainedmodels\n",
            "\u001b[?25l  Downloading https://files.pythonhosted.org/packages/84/0e/be6a0e58447ac16c938799d49bfb5fb7a80ac35e137547fc6cee2c08c4cf/pretrainedmodels-0.7.4.tar.gz (58kB)\n",
            "\r\u001b[K     |█████▋                          | 10kB 15.9MB/s eta 0:00:01\r\u001b[K     |███████████▏                    | 20kB 1.8MB/s eta 0:00:01\r\u001b[K     |████████████████▊               | 30kB 2.6MB/s eta 0:00:01\r\u001b[K     |██████████████████████▎         | 40kB 1.7MB/s eta 0:00:01\r\u001b[K     |███████████████████████████▉    | 51kB 2.1MB/s eta 0:00:01\r\u001b[K     |████████████████████████████████| 61kB 2.4MB/s \n",
            "\u001b[?25hRequirement already satisfied: torch in /usr/local/lib/python3.6/dist-packages (from pretrainedmodels) (1.2.0)\n",
            "Requirement already satisfied: torchvision in /usr/local/lib/python3.6/dist-packages (from pretrainedmodels) (0.4.0)\n",
            "Collecting munch (from pretrainedmodels)\n",
            "  Downloading https://files.pythonhosted.org/packages/68/f4/260ec98ea840757a0da09e0ed8135333d59b8dfebe9752a365b04857660a/munch-2.3.2.tar.gz\n",
            "Requirement already satisfied: tqdm in /usr/local/lib/python3.6/dist-packages (from pretrainedmodels) (4.28.1)\n",
            "Requirement already satisfied: numpy in /usr/local/lib/python3.6/dist-packages (from torch->pretrainedmodels) (1.16.5)\n",
            "Requirement already satisfied: pillow>=4.1.1 in /usr/local/lib/python3.6/dist-packages (from torchvision->pretrainedmodels) (4.3.0)\n",
            "Requirement already satisfied: six in /usr/local/lib/python3.6/dist-packages (from torchvision->pretrainedmodels) (1.12.0)\n",
            "Requirement already satisfied: olefile in /usr/local/lib/python3.6/dist-packages (from pillow>=4.1.1->torchvision->pretrainedmodels) (0.46)\n",
            "Building wheels for collected packages: pretrainedmodels, munch\n",
            "  Building wheel for pretrainedmodels (setup.py) ... \u001b[?25l\u001b[?25hdone\n",
            "  Created wheel for pretrainedmodels: filename=pretrainedmodels-0.7.4-cp36-none-any.whl size=60963 sha256=a24dccfa824eba6cd4d346102f4a4c3314cf3b5f220e6f0720609fad8b09c837\n",
            "  Stored in directory: /root/.cache/pip/wheels/69/df/63/62583c096289713f22db605aa2334de5b591d59861a02c2ecd\n",
            "  Building wheel for munch (setup.py) ... \u001b[?25l\u001b[?25hdone\n",
            "  Created wheel for munch: filename=munch-2.3.2-py2.py3-none-any.whl size=6614 sha256=45c8b7ef5aecfc48ae5462aeca926836826800e95686752a8e148e0fd689a0e6\n",
            "  Stored in directory: /root/.cache/pip/wheels/db/bf/bc/06a3e1bfe0ab27d2e720ceb3cff3159398d92644c0cec2c125\n",
            "Successfully built pretrainedmodels munch\n",
            "Installing collected packages: munch, pretrainedmodels\n",
            "Successfully installed munch-2.3.2 pretrainedmodels-0.7.4\n",
            "Collecting pytorch-pretrained-bert\n",
            "\u001b[?25l  Downloading https://files.pythonhosted.org/packages/d7/e0/c08d5553b89973d9a240605b9c12404bcf8227590de62bae27acbcfe076b/pytorch_pretrained_bert-0.6.2-py3-none-any.whl (123kB)\n",
            "\u001b[K     |████████████████████████████████| 133kB 2.8MB/s \n",
            "\u001b[?25hCollecting regex (from pytorch-pretrained-bert)\n",
            "\u001b[?25l  Downloading https://files.pythonhosted.org/packages/ff/60/d9782c56ceefa76033a00e1f84cd8c586c75e6e7fea2cd45ee8b46a386c5/regex-2019.08.19-cp36-cp36m-manylinux1_x86_64.whl (643kB)\n",
            "\u001b[K     |████████████████████████████████| 645kB 44.2MB/s \n",
            "\u001b[?25hRequirement already satisfied: requests in /usr/local/lib/python3.6/dist-packages (from pytorch-pretrained-bert) (2.21.0)\n",
            "Requirement already satisfied: torch>=0.4.1 in /usr/local/lib/python3.6/dist-packages (from pytorch-pretrained-bert) (1.2.0)\n",
            "Requirement already satisfied: tqdm in /usr/local/lib/python3.6/dist-packages (from pytorch-pretrained-bert) (4.28.1)\n",
            "Requirement already satisfied: numpy in /usr/local/lib/python3.6/dist-packages (from pytorch-pretrained-bert) (1.16.5)\n",
            "Requirement already satisfied: boto3 in /usr/local/lib/python3.6/dist-packages (from pytorch-pretrained-bert) (1.9.243)\n",
            "Requirement already satisfied: chardet<3.1.0,>=3.0.2 in /usr/local/lib/python3.6/dist-packages (from requests->pytorch-pretrained-bert) (3.0.4)\n",
            "Requirement already satisfied: urllib3<1.25,>=1.21.1 in /usr/local/lib/python3.6/dist-packages (from requests->pytorch-pretrained-bert) (1.24.3)\n",
            "Requirement already satisfied: idna<2.9,>=2.5 in /usr/local/lib/python3.6/dist-packages (from requests->pytorch-pretrained-bert) (2.8)\n",
            "Requirement already satisfied: certifi>=2017.4.17 in /usr/local/lib/python3.6/dist-packages (from requests->pytorch-pretrained-bert) (2019.9.11)\n",
            "Requirement already satisfied: jmespath<1.0.0,>=0.7.1 in /usr/local/lib/python3.6/dist-packages (from boto3->pytorch-pretrained-bert) (0.9.4)\n",
            "Requirement already satisfied: s3transfer<0.3.0,>=0.2.0 in /usr/local/lib/python3.6/dist-packages (from boto3->pytorch-pretrained-bert) (0.2.1)\n",
            "Requirement already satisfied: botocore<1.13.0,>=1.12.243 in /usr/local/lib/python3.6/dist-packages (from boto3->pytorch-pretrained-bert) (1.12.243)\n",
            "Requirement already satisfied: python-dateutil<3.0.0,>=2.1; python_version >= \"2.7\" in /usr/local/lib/python3.6/dist-packages (from botocore<1.13.0,>=1.12.243->boto3->pytorch-pretrained-bert) (2.5.3)\n",
            "Requirement already satisfied: docutils<0.16,>=0.10 in /usr/local/lib/python3.6/dist-packages (from botocore<1.13.0,>=1.12.243->boto3->pytorch-pretrained-bert) (0.15.2)\n",
            "Requirement already satisfied: six>=1.5 in /usr/local/lib/python3.6/dist-packages (from python-dateutil<3.0.0,>=2.1; python_version >= \"2.7\"->botocore<1.13.0,>=1.12.243->boto3->pytorch-pretrained-bert) (1.12.0)\n",
            "Installing collected packages: regex, pytorch-pretrained-bert\n",
            "Successfully installed pytorch-pretrained-bert-0.6.2 regex-2019.8.19\n"
          ],
          "name": "stdout"
        }
      ]
    },
    {
      "cell_type": "code",
      "metadata": {
        "id": "qKq5YwwRCM5r",
        "colab_type": "code",
        "outputId": "d8d4e3c0-701a-4aa4-de9d-09d8dc7bb59b",
        "colab": {
          "base_uri": "https://localhost:8080/",
          "height": 697
        }
      },
      "source": [
        "import numpy as np\n",
        "import pandas as pd\n",
        "from matplotlib import pyplot as plt\n",
        "\n",
        "from fastai import *\n",
        "from fastai.text import *\n",
        "from fastai.utils.show_install import *\n",
        "from fastai.callbacks import *\n",
        "\n",
        "# import torch\n",
        "show_install()"
      ],
      "execution_count": 0,
      "outputs": [
        {
          "output_type": "stream",
          "text": [
            "\n",
            "\n",
            "```text\n",
            "=== Software === \n",
            "python        : 3.6.8\n",
            "fastai        : 1.0.59.dev0\n",
            "fastprogress  : 0.1.21\n",
            "torch         : 1.2.0\n",
            "nvidia driver : 418.67\n",
            "torch cuda    : 10.0.130 / is available\n",
            "torch cudnn   : 7602 / is enabled\n",
            "\n",
            "=== Hardware === \n",
            "nvidia gpus   : 1\n",
            "torch devices : 1\n",
            "  - gpu0      : 11441MB | Tesla K80\n",
            "\n",
            "=== Environment === \n",
            "platform      : Linux-4.14.137+-x86_64-with-Ubuntu-18.04-bionic\n",
            "distro        : #1 SMP Thu Aug 8 02:47:02 PDT 2019\n",
            "conda env     : Unknown\n",
            "python        : /usr/bin/python3\n",
            "sys.path      : \n",
            "/env/python\n",
            "/usr/lib/python36.zip\n",
            "/usr/lib/python3.6\n",
            "/usr/lib/python3.6/lib-dynload\n",
            "/usr/local/lib/python3.6/dist-packages\n",
            "/usr/lib/python3/dist-packages\n",
            "/usr/local/lib/python3.6/dist-packages/IPython/extensions\n",
            "/root/.ipython\n",
            "```\n",
            "\n",
            "Please make sure to include opening/closing ``` when you paste into forums/github to make the reports appear formatted as code sections.\n",
            "\n",
            "Optional package(s) to enhance the diagnostics can be installed with:\n",
            "pip install distro\n",
            "Once installed, re-run this utility to get the additional information\n"
          ],
          "name": "stdout"
        }
      ]
    },
    {
      "cell_type": "code",
      "metadata": {
        "id": "k2WuhH6hAHel",
        "colab_type": "code",
        "colab": {}
      },
      "source": [
        "# from fastai.callbacks import *\n",
        "# from fastai import *"
      ],
      "execution_count": 0,
      "outputs": []
    },
    {
      "cell_type": "code",
      "metadata": {
        "id": "uYv7PnR4FpLw",
        "colab_type": "code",
        "colab": {}
      },
      "source": [
        "# import fastai\n",
        "# fastai.device = torch.device('cpu')\n",
        "# fastai.device"
      ],
      "execution_count": 0,
      "outputs": []
    },
    {
      "cell_type": "markdown",
      "metadata": {
        "colab_type": "text",
        "id": "Q1PTqkp6BfNf"
      },
      "source": [
        "# EDA"
      ]
    },
    {
      "cell_type": "code",
      "metadata": {
        "colab_type": "code",
        "id": "FKhZANyfBfNZ",
        "colab": {}
      },
      "source": [
        "df = pd.read_csv('testset1.csv')"
      ],
      "execution_count": 0,
      "outputs": []
    },
    {
      "cell_type": "code",
      "metadata": {
        "colab_type": "code",
        "outputId": "70cbe80f-f76e-436e-bf74-e3926f4bed36",
        "id": "uMy3VirjBfNS",
        "colab": {
          "base_uri": "https://localhost:8080/",
          "height": 224
        }
      },
      "source": [
        "print(len(df))\n",
        "\n",
        "df.head(5)"
      ],
      "execution_count": 0,
      "outputs": [
        {
          "output_type": "stream",
          "text": [
            "5585\n"
          ],
          "name": "stdout"
        },
        {
          "output_type": "execute_result",
          "data": {
            "text/html": [
              "<div>\n",
              "<style scoped>\n",
              "    .dataframe tbody tr th:only-of-type {\n",
              "        vertical-align: middle;\n",
              "    }\n",
              "\n",
              "    .dataframe tbody tr th {\n",
              "        vertical-align: top;\n",
              "    }\n",
              "\n",
              "    .dataframe thead th {\n",
              "        text-align: right;\n",
              "    }\n",
              "</style>\n",
              "<table border=\"1\" class=\"dataframe\">\n",
              "  <thead>\n",
              "    <tr style=\"text-align: right;\">\n",
              "      <th></th>\n",
              "      <th>id</th>\n",
              "      <th>name</th>\n",
              "      <th>date</th>\n",
              "      <th>text</th>\n",
              "      <th>location</th>\n",
              "      <th>sentiment</th>\n",
              "    </tr>\n",
              "  </thead>\n",
              "  <tbody>\n",
              "    <tr>\n",
              "      <th>0</th>\n",
              "      <td>1.130000e+18</td>\n",
              "      <td>Evolutionomics</td>\n",
              "      <td>Sun May 19 23:57:10 +0000 2019</td>\n",
              "      <td>By combining short positions on #Gold $GOLD $G...</td>\n",
              "      <td>NaN</td>\n",
              "      <td>bearish</td>\n",
              "    </tr>\n",
              "    <tr>\n",
              "      <th>1</th>\n",
              "      <td>1.130000e+18</td>\n",
              "      <td>macrohedged</td>\n",
              "      <td>Sun May 19 23:55:02 +0000 2019</td>\n",
              "      <td>Here are the #Volatility levels for the majors...</td>\n",
              "      <td>England</td>\n",
              "      <td>unrelated</td>\n",
              "    </tr>\n",
              "    <tr>\n",
              "      <th>2</th>\n",
              "      <td>1.130000e+18</td>\n",
              "      <td>Evolutionomics</td>\n",
              "      <td>Sun May 19 23:54:06 +0000 2019</td>\n",
              "      <td>We have little insight into what will happen t...</td>\n",
              "      <td>NaN</td>\n",
              "      <td>neutral</td>\n",
              "    </tr>\n",
              "    <tr>\n",
              "      <th>3</th>\n",
              "      <td>1.130000e+18</td>\n",
              "      <td>Evolutionomics</td>\n",
              "      <td>Sun May 19 23:50:59 +0000 2019</td>\n",
              "      <td>This brings us to #Gold miners. As a group, $G...</td>\n",
              "      <td>NaN</td>\n",
              "      <td>neutral</td>\n",
              "    </tr>\n",
              "    <tr>\n",
              "      <th>4</th>\n",
              "      <td>1.130000e+18</td>\n",
              "      <td>macrohedged</td>\n",
              "      <td>Sun May 19 23:50:04 +0000 2019</td>\n",
              "      <td>Good morning Asia, here are the benchmark futu...</td>\n",
              "      <td>England</td>\n",
              "      <td>unrelated</td>\n",
              "    </tr>\n",
              "  </tbody>\n",
              "</table>\n",
              "</div>"
            ],
            "text/plain": [
              "             id            name  ... location  sentiment\n",
              "0  1.130000e+18  Evolutionomics  ...      NaN    bearish\n",
              "1  1.130000e+18     macrohedged  ...  England  unrelated\n",
              "2  1.130000e+18  Evolutionomics  ...      NaN    neutral\n",
              "3  1.130000e+18  Evolutionomics  ...      NaN    neutral\n",
              "4  1.130000e+18     macrohedged  ...  England  unrelated\n",
              "\n",
              "[5 rows x 6 columns]"
            ]
          },
          "metadata": {
            "tags": []
          },
          "execution_count": 6
        }
      ]
    },
    {
      "cell_type": "code",
      "metadata": {
        "colab_type": "code",
        "outputId": "31361b3d-bdea-4881-cc29-8c80c3e4d8d1",
        "id": "StOE93sZBfNM",
        "colab": {
          "base_uri": "https://localhost:8080/",
          "height": 324
        }
      },
      "source": [
        "df['sentiment'].value_counts().plot(kind='bar')"
      ],
      "execution_count": 0,
      "outputs": [
        {
          "output_type": "execute_result",
          "data": {
            "text/plain": [
              "<matplotlib.axes._subplots.AxesSubplot at 0x7f7ce33f47b8>"
            ]
          },
          "metadata": {
            "tags": []
          },
          "execution_count": 7
        },
        {
          "output_type": "display_data",
          "data": {
            "image/png": "[encoded data removed]",
            "text/plain": [
              "<Figure size 432x288 with 1 Axes>"
            ]
          },
          "metadata": {
            "tags": []
          }
        }
      ]
    },
    {
      "cell_type": "markdown",
      "metadata": {
        "colab_type": "text",
        "id": "9WoDXcN_BfNK"
      },
      "source": [
        "Unrelated and neutral sentiments dominate the data currently (although this might not be the case in the future with the full dataset). It might be better to use a stratified sampling technique for classification"
      ]
    },
    {
      "cell_type": "code",
      "metadata": {
        "colab_type": "code",
        "outputId": "ed8a8cb8-629f-4bc3-ad8a-dd91de7fbe97",
        "id": "uYQxJ-jfBfNE",
        "colab": {
          "base_uri": "https://localhost:8080/",
          "height": 52
        }
      },
      "source": [
        "from sklearn.model_selection import StratifiedShuffleSplit\n",
        "\n",
        "sss = StratifiedShuffleSplit(n_splits=5, test_size=0.2, random_state=0)\n",
        "sss.get_n_splits(df['text'], df['sentiment'])\n",
        "\n",
        "print(sss)\n",
        "\n"
      ],
      "execution_count": 0,
      "outputs": [
        {
          "output_type": "stream",
          "text": [
            "StratifiedShuffleSplit(n_splits=5, random_state=0, test_size=0.2,\n",
            "            train_size=None)\n"
          ],
          "name": "stdout"
        }
      ]
    },
    {
      "cell_type": "code",
      "metadata": {
        "colab_type": "code",
        "outputId": "e2ab966c-ca5b-4293-8c83-a04d2e823aec",
        "id": "jht9mffiBfM-",
        "colab": {
          "base_uri": "https://localhost:8080/",
          "height": 34
        }
      },
      "source": [
        "train_idx, val_idx = next(sss.split(df['text'], df['sentiment']))\n",
        "\n",
        "print(len(train_idx), len(val_idx))"
      ],
      "execution_count": 0,
      "outputs": [
        {
          "output_type": "stream",
          "text": [
            "4468 1117\n"
          ],
          "name": "stdout"
        }
      ]
    },
    {
      "cell_type": "markdown",
      "metadata": {
        "colab_type": "text",
        "id": "KB8MkkEbBfM9"
      },
      "source": [
        "Verifying that the stratified split preseves the distribution of the labels"
      ]
    },
    {
      "cell_type": "code",
      "metadata": {
        "colab_type": "code",
        "id": "jhuNlUEKBfM3",
        "colab": {}
      },
      "source": [
        "df_train = df.iloc[train_idx, :]\n",
        "df_val = df.iloc[val_idx, :]"
      ],
      "execution_count": 0,
      "outputs": []
    },
    {
      "cell_type": "code",
      "metadata": {
        "colab_type": "code",
        "outputId": "fc81fd77-85fe-4847-d170-2cb651206cc7",
        "id": "RkiLk2ggBfMv",
        "colab": {
          "base_uri": "https://localhost:8080/",
          "height": 324
        }
      },
      "source": [
        "df_train['sentiment'].value_counts().plot(kind='bar')"
      ],
      "execution_count": 0,
      "outputs": [
        {
          "output_type": "execute_result",
          "data": {
            "text/plain": [
              "<matplotlib.axes._subplots.AxesSubplot at 0x7f7cde7cab38>"
            ]
          },
          "metadata": {
            "tags": []
          },
          "execution_count": 11
        },
        {
          "output_type": "display_data",
          "data": {
            "image/png": "[encoded data removed]",
            "text/plain": [
              "<Figure size 432x288 with 1 Axes>"
            ]
          },
          "metadata": {
            "tags": []
          }
        }
      ]
    },
    {
      "cell_type": "code",
      "metadata": {
        "colab_type": "code",
        "outputId": "7f76675f-f7d5-45b2-d44b-06881c19fa8e",
        "id": "GkvIlQihBfMd",
        "colab": {
          "base_uri": "https://localhost:8080/",
          "height": 324
        }
      },
      "source": [
        "df_val['sentiment'].value_counts().plot(kind='bar')"
      ],
      "execution_count": 0,
      "outputs": [
        {
          "output_type": "execute_result",
          "data": {
            "text/plain": [
              "<matplotlib.axes._subplots.AxesSubplot at 0x7f7cde584390>"
            ]
          },
          "metadata": {
            "tags": []
          },
          "execution_count": 12
        },
        {
          "output_type": "display_data",
          "data": {
            "image/png": "[encoded data removed]",
            "text/plain": [
              "<Figure size 432x288 with 1 Axes>"
            ]
          },
          "metadata": {
            "tags": []
          }
        }
      ]
    },
    {
      "cell_type": "markdown",
      "metadata": {
        "colab_type": "text",
        "id": "dEW7WWK7BfMI"
      },
      "source": [
        "Looks like the distribution of the labels in train and val are the same, so we can start modelling now"
      ]
    },
    {
      "cell_type": "markdown",
      "metadata": {
        "id": "lnlWeHCMCsPI",
        "colab_type": "text"
      },
      "source": [
        "# Handling Imbalanced Data: Oversampling"
      ]
    },
    {
      "cell_type": "code",
      "metadata": {
        "id": "LXjuHfxDD0fw",
        "colab_type": "code",
        "colab": {}
      },
      "source": [
        "df_class_bull = df_train[df_train['sentiment'] == 'bullish']\n",
        "df_class_bear = df_train[df_train['sentiment'] == 'bearish']\n",
        "df_class_neutral = df_train[df_train['sentiment'] == 'neutral']\n",
        "df_class_unrelated = df_train[df_train['sentiment'] == 'unrelated']\n",
        "\n"
      ],
      "execution_count": 0,
      "outputs": []
    },
    {
      "cell_type": "code",
      "metadata": {
        "id": "T5yI-FewEDT-",
        "colab_type": "code",
        "outputId": "c93e2719-4f87-431e-da1b-7e1136a3527d",
        "colab": {
          "base_uri": "https://localhost:8080/",
          "height": 36
        }
      },
      "source": [
        "print(len(df_class_unrelated))"
      ],
      "execution_count": 0,
      "outputs": [
        {
          "output_type": "stream",
          "text": [
            "2298\n"
          ],
          "name": "stdout"
        }
      ]
    },
    {
      "cell_type": "markdown",
      "metadata": {
        "id": "SbBCJgpZEk8O",
        "colab_type": "text"
      },
      "source": [
        "Want to oversample so that every class has 2298 counts"
      ]
    },
    {
      "cell_type": "code",
      "metadata": {
        "id": "FcT0MDt8EoSn",
        "colab_type": "code",
        "colab": {}
      },
      "source": [
        "df_class_bull_over = df_class_bull.sample(len(df_class_unrelated), replace = True)\n",
        "df_class_bear_over = df_class_bear.sample(len(df_class_unrelated), replace = True)\n",
        "df_class_neutral_over = df_class_neutral.sample(len(df_class_unrelated), replace = True)\n",
        "\n",
        "\n",
        "df_train_oversampled = pd.concat([df_class_bull_over, df_class_bear_over, df_class_neutral_over, df_class_unrelated], axis = 0)\n",
        "\n"
      ],
      "execution_count": 0,
      "outputs": []
    },
    {
      "cell_type": "markdown",
      "metadata": {
        "id": "kxoV7EH5FPIY",
        "colab_type": "text"
      },
      "source": [
        "Look at distribution of the labels in the oversampled data"
      ]
    },
    {
      "cell_type": "code",
      "metadata": {
        "id": "xA3owdg9FMWP",
        "colab_type": "code",
        "outputId": "520ea12b-6519-45af-9010-5eef60fe3439",
        "colab": {
          "base_uri": "https://localhost:8080/",
          "height": 326
        }
      },
      "source": [
        "df_train_oversampled['sentiment'].value_counts().plot(kind='bar')"
      ],
      "execution_count": 0,
      "outputs": [
        {
          "output_type": "execute_result",
          "data": {
            "text/plain": [
              "<matplotlib.axes._subplots.AxesSubplot at 0x7f2feae9b198>"
            ]
          },
          "metadata": {
            "tags": []
          },
          "execution_count": 15
        },
        {
          "output_type": "display_data",
          "data": {
            "image/png": "[encoded data removed]",
            "text/plain": [
              "<Figure size 432x288 with 1 Axes>"
            ]
          },
          "metadata": {
            "tags": []
          }
        }
      ]
    },
    {
      "cell_type": "markdown",
      "metadata": {
        "id": "Nq1WpX2hBtmH",
        "colab_type": "text"
      },
      "source": [
        "# BERT"
      ]
    },
    {
      "cell_type": "code",
      "metadata": {
        "id": "bLU6q8dj9bAk",
        "colab_type": "code",
        "colab": {}
      },
      "source": [
        "import pretrainedmodels"
      ],
      "execution_count": 0,
      "outputs": []
    },
    {
      "cell_type": "markdown",
      "metadata": {
        "id": "w8f_ySJcIgCC",
        "colab_type": "text"
      },
      "source": [
        "## Tokenizing and setting up databunch"
      ]
    },
    {
      "cell_type": "code",
      "metadata": {
        "id": "On3FgZSK8DH1",
        "colab_type": "code",
        "outputId": "5c01985c-48bf-4fa7-978d-c08ad4bd604a",
        "colab": {
          "base_uri": "https://localhost:8080/",
          "height": 34
        }
      },
      "source": [
        "from pytorch_pretrained_bert import BertTokenizer\n",
        "bert_tok = BertTokenizer.from_pretrained(\n",
        "    \"bert-base-uncased\",\n",
        ")"
      ],
      "execution_count": 0,
      "outputs": [
        {
          "output_type": "stream",
          "text": [
            "100%|██████████| 231508/231508 [00:00<00:00, 5777684.14B/s]\n"
          ],
          "name": "stderr"
        }
      ]
    },
    {
      "cell_type": "code",
      "metadata": {
        "id": "7Cr62yZ3CzS-",
        "colab_type": "code",
        "colab": {}
      },
      "source": [
        "class FastAiBertTokenizer(BaseTokenizer):\n",
        "    \"\"\"Wrapper around BertTokenizer to be compatible with fast.ai\"\"\"\n",
        "    def __init__(self, tokenizer: BertTokenizer, max_seq_len: int=128, **kwargs):\n",
        "        self._pretrained_tokenizer = tokenizer\n",
        "        self.max_seq_len = max_seq_len\n",
        "\n",
        "    def __call__(self, *args, **kwargs):\n",
        "        return self\n",
        "\n",
        "    def tokenizer(self, t:str) -> List[str]:\n",
        "        \"\"\"Limits the maximum sequence length\"\"\"\n",
        "        return [\"[CLS]\"] + self._pretrained_tokenizer.tokenize(t)[:self.max_seq_len - 2] + [\"[SEP]\"]"
      ],
      "execution_count": 0,
      "outputs": []
    },
    {
      "cell_type": "code",
      "metadata": {
        "id": "0sFEtuTE-UYr",
        "colab_type": "code",
        "colab": {}
      },
      "source": [
        "fastai_bert_vocab = Vocab(list(bert_tok.vocab.keys()))"
      ],
      "execution_count": 0,
      "outputs": []
    },
    {
      "cell_type": "code",
      "metadata": {
        "id": "r_N18RBn-V_J",
        "colab_type": "code",
        "colab": {}
      },
      "source": [
        "fastai_tokenizer = Tokenizer(tok_func=FastAiBertTokenizer(bert_tok, max_seq_len=256), pre_rules=[], post_rules=[])\n",
        "\n"
      ],
      "execution_count": 0,
      "outputs": []
    },
    {
      "cell_type": "code",
      "metadata": {
        "id": "8iW0c2Il-X4W",
        "colab_type": "code",
        "colab": {}
      },
      "source": [
        "data_clas = TextDataBunch.from_df(\".\", df_train, df_val, \n",
        "                  tokenizer=fastai_tokenizer,\n",
        "                  vocab=fastai_bert_vocab,\n",
        "                  include_bos=False,\n",
        "                  include_eos=False,\n",
        "                  text_cols=\"text\",\n",
        "                  label_cols='sentiment',\n",
        "                  bs=16,\n",
        "                  collate_fn=partial(pad_collate, pad_first=False, pad_idx=0))\n",
        "\n",
        "\"\"\"databunch with oversampled df to correct for class imbalance\"\"\"\n",
        "# data_clas = TextDataBunch.from_df(\".\", df_train_oversampled, df_val, \n",
        "#                   tokenizer=fastai_tokenizer,\n",
        "#                   vocab=fastai_bert_vocab,\n",
        "#                   include_bos=False,\n",
        "#                   include_eos=False,\n",
        "#                   text_cols=\"text\",\n",
        "#                   label_cols='sentiment',\n",
        "#                   bs=16,\n",
        "#                   collate_fn=partial(pad_collate, pad_first=False, pad_idx=0))\n",
        "\n",
        "data_clas.save('data_clas')"
      ],
      "execution_count": 0,
      "outputs": []
    },
    {
      "cell_type": "code",
      "metadata": {
        "id": "lRz82F8e-gXr",
        "colab_type": "code",
        "outputId": "14e6cf08-9de8-45d3-cea0-d11203baa50d",
        "colab": {
          "base_uri": "https://localhost:8080/",
          "height": 293
        }
      },
      "source": [
        "data_clas.show_batch()"
      ],
      "execution_count": 0,
      "outputs": [
        {
          "output_type": "display_data",
          "data": {
            "text/html": [
              "<table border=\"1\" class=\"dataframe\">\n",
              "  <thead>\n",
              "    <tr style=\"text-align: right;\">\n",
              "      <th>text</th>\n",
              "      <th>target</th>\n",
              "    </tr>\n",
              "  </thead>\n",
              "  <tbody>\n",
              "    <tr>\n",
              "      <td>[CLS] [UNK] - 0 . 95 % [UNK] : [UNK] &amp; amp ; [UNK] # et ##fs # daily # market # change tu ##e , may 28 [UNK] # fear - 0 . 29 % [UNK] $ xl ##k - 0 . 38 % ♣ $ q ##q ##q - 0 . 39 % [UNK] $ g ##ld - 0 . 66 % [UNK] $ xl ##y - 0</td>\n",
              "      <td>neutral</td>\n",
              "    </tr>\n",
              "    <tr>\n",
              "      <td>[CLS] buy / add long - term : $ bt ##c - $ usd $ 7 , 83 ##7 . 86 - 149 . 98 ( - 1 . 88 % ) # bit ##co ##in # usd # crypt ##oc ##ur ##ren ##cy 10 : 00 am 5 / 20 / 19 $ usd ##u $ u ##up $ cy ##b $ yin ##n $ yang $ cn $</td>\n",
              "      <td>unrelated</td>\n",
              "    </tr>\n",
              "    <tr>\n",
              "      <td>[CLS] # bit ##co ##in i ' m long - term in $ bt ##c - $ usd 8 , 125 . 97 + 249 . 43 ( + 3 . 17 % ) as of 4 : 19 ##pm bs ##t . market open . $ usd ##u $ u ##up $ cy ##b $ yin ##n $ yang $ cn $ ch ##n $ fx ##ch $ cn</td>\n",
              "      <td>unrelated</td>\n",
              "    </tr>\n",
              "    <tr>\n",
              "      <td>[CLS] [UNK] - 0 . 67 % [UNK] : [UNK] &amp; amp ; [UNK] # et ##fs # daily # market # change wed , may 29 [UNK] 0 . 03 % [UNK] $ g ##ld 0 . 02 % [UNK] $ xl ##b [UNK] # down - 0 . 19 % [UNK] $ xl ##f - 0 . 45 % [UNK] $ xl ##i - 0 . 59 %</td>\n",
              "      <td>neutral</td>\n",
              "    </tr>\n",
              "    <tr>\n",
              "      <td>[CLS] [UNK] - 0 . 93 % [UNK] : [UNK] &amp; amp ; [UNK] # et ##fs # daily # market # change fr ##i , may 31 [UNK] 1 . 35 % [UNK] $ g ##ld 0 . 83 % [UNK] $ xl ##re 0 . 47 % [UNK] $ xl ##u [UNK] # down - 0 . 72 % [UNK] $ xl ##v - 1 . 12 %</td>\n",
              "      <td>neutral</td>\n",
              "    </tr>\n",
              "  </tbody>\n",
              "</table>"
            ],
            "text/plain": [
              "<IPython.core.display.HTML object>"
            ]
          },
          "metadata": {
            "tags": []
          }
        }
      ]
    },
    {
      "cell_type": "markdown",
      "metadata": {
        "id": "R3wnJTeZDNzL",
        "colab_type": "text"
      },
      "source": [
        "## Using BERT"
      ]
    },
    {
      "cell_type": "code",
      "metadata": {
        "id": "VBrRG4bABuOJ",
        "colab_type": "code",
        "outputId": "ff238e70-ba2e-42ca-c6a3-f01fe619b228",
        "colab": {
          "base_uri": "https://localhost:8080/",
          "height": 34
        }
      },
      "source": [
        "from pytorch_pretrained_bert.modeling import BertConfig, BertForSequenceClassification, BertForNextSentencePrediction, BertForMaskedLM\n",
        "bert_model_class = BertForSequenceClassification.from_pretrained('bert-base-uncased', num_labels=4)\n",
        "\n"
      ],
      "execution_count": 0,
      "outputs": [
        {
          "output_type": "stream",
          "text": [
            "100%|██████████| 407873900/407873900 [00:09<00:00, 44846989.79B/s]\n"
          ],
          "name": "stderr"
        }
      ]
    },
    {
      "cell_type": "code",
      "metadata": {
        "id": "C_BjNSYtDQNu",
        "colab_type": "code",
        "colab": {}
      },
      "source": [
        "model = bert_model_class"
      ],
      "execution_count": 0,
      "outputs": []
    },
    {
      "cell_type": "markdown",
      "metadata": {
        "id": "2obJo9MgTjGu",
        "colab_type": "text"
      },
      "source": [
        "### Classification"
      ]
    },
    {
      "cell_type": "markdown",
      "metadata": {
        "id": "jCcmYEihCcPf",
        "colab_type": "text"
      },
      "source": [
        "Not using mixed precision yet, do that after lr_find()"
      ]
    },
    {
      "cell_type": "code",
      "metadata": {
        "id": "urtYAR7d_K-r",
        "colab_type": "code",
        "colab": {}
      },
      "source": [
        "\n",
        "learn = Learner(data_clas,\n",
        "               model,\n",
        "               loss_func = FlattenedLoss(LabelSmoothingCrossEntropy, axis=-1),\n",
        "               metrics = [accuracy])\n",
        "\n",
        "\n",
        "# learn = Learner(databunch_1,\n",
        "#                model,\n",
        "#                loss_func = nn.BCEWithLogitsLoss(),\n",
        "#                metrics = [accuracy])\n",
        "# # learn.to_fp16()"
      ],
      "execution_count": 0,
      "outputs": []
    },
    {
      "cell_type": "markdown",
      "metadata": {
        "id": "JDwVtfDRDi8J",
        "colab_type": "text"
      },
      "source": [
        "Splitting bert for discriminative learning"
      ]
    },
    {
      "cell_type": "code",
      "metadata": {
        "id": "hx8XSwUZ_op2",
        "colab_type": "code",
        "outputId": "a354f2a2-b4ec-47dc-a33c-98931fc61a00",
        "colab": {
          "base_uri": "https://localhost:8080/",
          "height": 34
        }
      },
      "source": [
        "def bert_clas_split(self) -> List[nn.Module]:\n",
        "    \n",
        "    bert = model.bert\n",
        "    embedder = bert.embeddings\n",
        "    pooler = bert.pooler\n",
        "    encoder = bert.encoder\n",
        "    classifier = [model.dropout, model.classifier]\n",
        "    n = len(encoder.layer)//3\n",
        "    print(n)\n",
        "    groups = [[embedder], list(encoder.layer[:n]), list(encoder.layer[n+1:2*n]), list(encoder.layer[(2*n)+1:]), [pooler], classifier]\n",
        "    return groups\n",
        "\n",
        "x = bert_clas_split(model)"
      ],
      "execution_count": 0,
      "outputs": [
        {
          "output_type": "stream",
          "text": [
            "4\n"
          ],
          "name": "stdout"
        }
      ]
    },
    {
      "cell_type": "code",
      "metadata": {
        "id": "NStGu-43_9_4",
        "colab_type": "code",
        "colab": {}
      },
      "source": [
        "learn.split([x[0], x[1], x[2], x[3], x[5]]); # should this be x[4]?"
      ],
      "execution_count": 0,
      "outputs": []
    },
    {
      "cell_type": "code",
      "metadata": {
        "id": "pOzW-rmNDSbM",
        "colab_type": "code",
        "outputId": "17e63435-8b35-4238-94be-a3c8cad8903e",
        "colab": {
          "base_uri": "https://localhost:8080/",
          "height": 335
        }
      },
      "source": [
        "learn.lr_find()\n",
        "learn.recorder.plot(suggestion = True, skip_end=15)"
      ],
      "execution_count": 0,
      "outputs": [
        {
          "output_type": "display_data",
          "data": {
            "text/html": [
              ""
            ],
            "text/plain": [
              "<IPython.core.display.HTML object>"
            ]
          },
          "metadata": {
            "tags": []
          }
        },
        {
          "output_type": "stream",
          "text": [
            "LR Finder is complete, type {learner_name}.recorder.plot() to see the graph.\n",
            "Min numerical gradient: 1.32E-04\n",
            "Min loss divided by 10: 6.92E-05\n"
          ],
          "name": "stdout"
        },
        {
          "output_type": "display_data",
          "data": {
            "image/png": "[encoded data removed]",
            "text/plain": [
              "<Figure size 432x288 with 1 Axes>"
            ]
          },
          "metadata": {
            "tags": []
          }
        }
      ]
    },
    {
      "cell_type": "code",
      "metadata": {
        "id": "NwWZE2adDq6p",
        "colab_type": "code",
        "outputId": "70686aee-fbf9-4f27-e56b-6e6b290bb535",
        "colab": {
          "base_uri": "https://localhost:8080/",
          "height": 213
        }
      },
      "source": [
        "learn.to_fp16()\n",
        "\n",
        "lr = 1e-4\n",
        "\n",
        "\"\"\"Training without adjusting the momentum\"\"\"\n",
        "learn.fit_one_cycle(3, \n",
        "                    lr, \n",
        "                    callbacks=[SaveModelCallback(learn, every='improvement', monitor='accuracy', \n",
        "                                                 name='classifier_stage1')])\n",
        "\"\"\"\n",
        "Clipping momentum\n",
        "\"\"\"\n",
        "\n",
        "\n",
        "# learn.fit_one_cycle(10, \n",
        "#                     lr, \n",
        "#                     moms=(0.8,0.7),\n",
        "#                     callbacks=[SaveModelCallback(learn, every='improvement', monitor='accuracy', \n",
        "#                                                  name='classifier_stage1')])"
      ],
      "execution_count": 0,
      "outputs": [
        {
          "output_type": "display_data",
          "data": {
            "text/html": [
              "<table border=\"1\" class=\"dataframe\">\n",
              "  <thead>\n",
              "    <tr style=\"text-align: left;\">\n",
              "      <th>epoch</th>\n",
              "      <th>train_loss</th>\n",
              "      <th>valid_loss</th>\n",
              "      <th>accuracy</th>\n",
              "      <th>time</th>\n",
              "    </tr>\n",
              "  </thead>\n",
              "  <tbody>\n",
              "    <tr>\n",
              "      <td>0</td>\n",
              "      <td>1.044614</td>\n",
              "      <td>0.869819</td>\n",
              "      <td>0.702775</td>\n",
              "      <td>05:32</td>\n",
              "    </tr>\n",
              "    <tr>\n",
              "      <td>1</td>\n",
              "      <td>0.828451</td>\n",
              "      <td>0.745140</td>\n",
              "      <td>0.784244</td>\n",
              "      <td>06:04</td>\n",
              "    </tr>\n",
              "    <tr>\n",
              "      <td>2</td>\n",
              "      <td>0.676445</td>\n",
              "      <td>0.663156</td>\n",
              "      <td>0.837959</td>\n",
              "      <td>05:54</td>\n",
              "    </tr>\n",
              "  </tbody>\n",
              "</table>"
            ],
            "text/plain": [
              "<IPython.core.display.HTML object>"
            ]
          },
          "metadata": {
            "tags": []
          }
        },
        {
          "output_type": "stream",
          "text": [
            "Better model found at epoch 0 with accuracy value: 0.7027752995491028.\n",
            "Better model found at epoch 1 with accuracy value: 0.7842435240745544.\n",
            "Better model found at epoch 2 with accuracy value: 0.837958812713623.\n"
          ],
          "name": "stdout"
        },
        {
          "output_type": "execute_result",
          "data": {
            "text/plain": [
              "'\\nClipping momentum\\n'"
            ]
          },
          "metadata": {
            "tags": []
          },
          "execution_count": 26
        }
      ]
    },
    {
      "cell_type": "markdown",
      "metadata": {
        "id": "ema-ZuVIjk1E",
        "colab_type": "text"
      },
      "source": [
        "Additional training by unfreezing the network and applying discriminative learning rates"
      ]
    },
    {
      "cell_type": "code",
      "metadata": {
        "id": "1LM4MfBPOB5R",
        "colab_type": "code",
        "outputId": "1667fb53-a06e-42d6-ca41-3f520ec9197b",
        "colab": {
          "base_uri": "https://localhost:8080/",
          "height": 462
        }
      },
      "source": [
        "learn.load('classifier_stage1');\n",
        "learn.unfreeze()\n",
        "\n",
        "\n",
        "\"\"\"Training without adjusting the momentum\"\"\"\n",
        "learn.fit_one_cycle(3, \n",
        "                    slice(lr/100, lr), \n",
        "                    callbacks=[SaveModelCallback(learn, every='improvement', monitor='accuracy', \n",
        "                                                 name='classifier_final')])\n",
        "\"\"\"\n",
        "Clipping momentum\n",
        "\"\"\"\n",
        "# learn.fit_one_cycle(10, \n",
        "#                    slice(lr/(2.6**4),lr), \n",
        "#                    moms=(0.8,0.7),\n",
        "#                    callbacks=[SaveModelCallback(learn, every='improvement', monitor='accuracy', \n",
        "#                                                  name='classifier_stage2')])\n",
        "\n",
        "learn.recorder.plot_losses()"
      ],
      "execution_count": 0,
      "outputs": [
        {
          "output_type": "display_data",
          "data": {
            "text/html": [
              "<table border=\"1\" class=\"dataframe\">\n",
              "  <thead>\n",
              "    <tr style=\"text-align: left;\">\n",
              "      <th>epoch</th>\n",
              "      <th>train_loss</th>\n",
              "      <th>valid_loss</th>\n",
              "      <th>accuracy</th>\n",
              "      <th>time</th>\n",
              "    </tr>\n",
              "  </thead>\n",
              "  <tbody>\n",
              "    <tr>\n",
              "      <td>0</td>\n",
              "      <td>0.638021</td>\n",
              "      <td>0.649720</td>\n",
              "      <td>0.842435</td>\n",
              "      <td>05:48</td>\n",
              "    </tr>\n",
              "    <tr>\n",
              "      <td>1</td>\n",
              "      <td>0.536543</td>\n",
              "      <td>0.619438</td>\n",
              "      <td>0.866607</td>\n",
              "      <td>05:46</td>\n",
              "    </tr>\n",
              "    <tr>\n",
              "      <td>2</td>\n",
              "      <td>0.531737</td>\n",
              "      <td>0.609123</td>\n",
              "      <td>0.871083</td>\n",
              "      <td>05:42</td>\n",
              "    </tr>\n",
              "  </tbody>\n",
              "</table>"
            ],
            "text/plain": [
              "<IPython.core.display.HTML object>"
            ]
          },
          "metadata": {
            "tags": []
          }
        },
        {
          "output_type": "stream",
          "text": [
            "Better model found at epoch 0 with accuracy value: 0.8424351215362549.\n",
            "Better model found at epoch 1 with accuracy value: 0.8666070103645325.\n",
            "Better model found at epoch 2 with accuracy value: 0.8710832595825195.\n"
          ],
          "name": "stdout"
        },
        {
          "output_type": "display_data",
          "data": {
            "image/png": "[encoded data removed]",
            "text/plain": [
              "<Figure size 432x288 with 1 Axes>"
            ]
          },
          "metadata": {
            "tags": []
          }
        }
      ]
    },
    {
      "cell_type": "code",
      "metadata": {
        "id": "FTlJCSFQOgbD",
        "colab_type": "code",
        "colab": {}
      },
      "source": [
        ""
      ],
      "execution_count": 0,
      "outputs": []
    },
    {
      "cell_type": "markdown",
      "metadata": {
        "id": "JwOMveMMrbqS",
        "colab_type": "text"
      },
      "source": [
        "# Model Inference"
      ]
    },
    {
      "cell_type": "code",
      "metadata": {
        "id": "rWkj_kRYremX",
        "colab_type": "code",
        "colab": {}
      },
      "source": [
        "learn = Learner(data_clas, \n",
        "                model)\n",
        "\n",
        "# learn = Learner(data_clas,\n",
        "#                model,\n",
        "#                loss_func = FlattenedLoss(LabelSmoothingCrossEntropy, axis=-1),\n",
        "#                metrics = [accuracy])\n",
        "\n",
        "\n",
        "\n",
        "learn.load('classifier_final', with_opt = False); # makesure learner  is a text_classifier_learner\n",
        "\n",
        "learn.to_fp32() # bring back to fp32\n",
        "\n",
        "\n",
        "\n",
        "learn.export(file = 'export_clas.pkl')\n",
        "\n"
      ],
      "execution_count": 0,
      "outputs": []
    },
    {
      "cell_type": "code",
      "metadata": {
        "id": "lCzZE3Qor5Zj",
        "colab_type": "code",
        "outputId": "43f28535-f81b-428d-d900-99161e2d8ca8",
        "colab": {
          "base_uri": "https://localhost:8080/",
          "height": 34
        }
      },
      "source": [
        "phrase = \"$GLD will lose value over the next quarter\"\n",
        "learn.predict(phrase)\n"
      ],
      "execution_count": 0,
      "outputs": [
        {
          "output_type": "execute_result",
          "data": {
            "text/plain": [
              "(Category bearish, tensor(0), tensor([0.6633, 0.1695, 0.1286, 0.0385]))"
            ]
          },
          "metadata": {
            "tags": []
          },
          "execution_count": 52
        }
      ]
    },
    {
      "cell_type": "markdown",
      "metadata": {
        "id": "hxfceH0moiWG",
        "colab_type": "text"
      },
      "source": [
        "## Making batch predictions on new dataset\n",
        "\n",
        "test_df can be loaded in directly from a csv file i.e. 1 days worth of collected tweets"
      ]
    },
    {
      "cell_type": "code",
      "metadata": {
        "id": "ECk16RpRokCl",
        "colab_type": "code",
        "colab": {}
      },
      "source": [
        "# test_df = pd.read_csv('testset1.csv')\n",
        "\n",
        "test_df = df_val\n",
        "learn.data.add_test(test_df['text'])\n",
        "preds, y, losses = learn.get_preds(ds_type=DatasetType.Test, with_loss = True)\n",
        "# preds, y, losses = learn.get_preds(ds_type=DatasetType.Test, ordered=True, with_loss = True)\n"
      ],
      "execution_count": 0,
      "outputs": []
    },
    {
      "cell_type": "code",
      "metadata": {
        "id": "YdGaxrkzvX2F",
        "colab_type": "code",
        "outputId": "1677946d-5cce-4273-a9c1-60f53e8bce97",
        "colab": {
          "base_uri": "https://localhost:8080/",
          "height": 34
        }
      },
      "source": [
        "\n",
        "y_pred = torch.argmax(preds, dim= 1).numpy()\n",
        "\n",
        "\n",
        "print(y_pred, len(y_pred))\n",
        "\n",
        "pred_labels = []\n",
        "for pred in y_pred:\n",
        "    if pred == 0: \n",
        "        pred_labels.append('bearish')\n",
        "    elif pred == 1:\n",
        "        pred_labels.append('bullish')    \n",
        "    elif pred == 2:\n",
        "        pred_labels.append('neutral')\n",
        "    elif pred == 3:\n",
        "        pred_labels.append('unrelated')"
      ],
      "execution_count": 0,
      "outputs": [
        {
          "output_type": "stream",
          "text": [
            "[2 3 3 3 ... 3 3 2 3] 1117\n"
          ],
          "name": "stdout"
        }
      ]
    },
    {
      "cell_type": "markdown",
      "metadata": {
        "id": "9JswniVzw7Mi",
        "colab_type": "text"
      },
      "source": [
        "## Visualizing predictions\n",
        "\n",
        "visualize the count of predictions\n",
        "\n",
        "1 = Bearish\n",
        "2 = Bullish\n",
        "3 = Neutral\n",
        "4 = Unrelated"
      ]
    },
    {
      "cell_type": "code",
      "metadata": {
        "id": "gTeMOlI5vUln",
        "colab_type": "code",
        "outputId": "8ee99415-e3f0-41bd-82fb-328fbe1fb2e2",
        "colab": {
          "base_uri": "https://localhost:8080/",
          "height": 321
        }
      },
      "source": [
        "plt.hist(pred_labels)\n",
        "\n"
      ],
      "execution_count": 0,
      "outputs": [
        {
          "output_type": "execute_result",
          "data": {
            "text/plain": [
              "(array([326.,   0.,   0., 544.,   0.,   0.,  61.,   0.,   0., 186.]),\n",
              " array([0. , 0.3, 0.6, 0.9, 1.2, 1.5, 1.8, 2.1, 2.4, 2.7, 3. ]),\n",
              " <a list of 10 Patch objects>)"
            ]
          },
          "metadata": {
            "tags": []
          },
          "execution_count": 45
        },
        {
          "output_type": "display_data",
          "data": {
            "image/png": "[encoded data removed]",
            "text/plain": [
              "<Figure size 432x288 with 1 Axes>"
            ]
          },
          "metadata": {
            "tags": []
          }
        }
      ]
    },
    {
      "cell_type": "markdown",
      "metadata": {
        "id": "sHwS8YclxFn4",
        "colab_type": "text"
      },
      "source": [
        "The distribution of the predictions seems to be inline with the distribution of the val labels"
      ]
    },
    {
      "cell_type": "markdown",
      "metadata": {
        "id": "bHMHurnLzN88",
        "colab_type": "text"
      },
      "source": [
        "View a confusion matrix of the predictions\n",
        "\n",
        "y-axis is the true labels"
      ]
    },
    {
      "cell_type": "code",
      "metadata": {
        "id": "iZGOBv7Jwo89",
        "colab_type": "code",
        "outputId": "7d72596c-afb3-4337-97e2-6051ffb128eb",
        "colab": {
          "base_uri": "https://localhost:8080/",
          "height": 286
        }
      },
      "source": [
        "from sklearn.metrics import confusion_matrix\n",
        "from sklearn.utils.multiclass import unique_labels\n",
        "import seaborn as sn\n",
        "cm = confusion_matrix(df_val['sentiment'], pred_labels)\n",
        "\n",
        "df_cm = pd.DataFrame(cm, index = ['bearish', 'bullsih', 'neutral', 'unrelated'],\n",
        "                    columns = ['bearish', 'bullsih', 'neutral', 'unrelated'])\n",
        "\n",
        "sn.heatmap(df_cm, annot=True)"
      ],
      "execution_count": 0,
      "outputs": [
        {
          "output_type": "execute_result",
          "data": {
            "text/plain": [
              "<matplotlib.axes._subplots.AxesSubplot at 0x7f7cdad6b278>"
            ]
          },
          "metadata": {
            "tags": []
          },
          "execution_count": 46
        },
        {
          "output_type": "display_data",
          "data": {
            "image/png": "[encoded data removed]",
            "text/plain": [
              "<Figure size 432x288 with 2 Axes>"
            ]
          },
          "metadata": {
            "tags": []
          }
        }
      ]
    },
    {
      "cell_type": "markdown",
      "metadata": {
        "id": "k8YzBtFVieBD",
        "colab_type": "text"
      },
      "source": [
        "Observations\n",
        "\n",
        "Performance seems to match what AWD-LSTM is getting, slightly more bullish tweets categorized as bearish, but that could be due to the data split"
      ]
    },
    {
      "cell_type": "code",
      "metadata": {
        "id": "LW4ffxmUtR72",
        "colab_type": "code",
        "colab": {}
      },
      "source": [
        ""
      ],
      "execution_count": 0,
      "outputs": []
    }
  ]
}